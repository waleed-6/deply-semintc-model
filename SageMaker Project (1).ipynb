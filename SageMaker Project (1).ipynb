{
 "cells": [
  {
   "cell_type": "markdown",
   "metadata": {},
   "source": [
    "# Creating a Sentiment Analysis Web App\n",
    "## Using PyTorch and SageMaker\n",
    "\n",
    "_Deep Learning Nanodegree Program | Deployment_\n",
    "\n",
    "---\n",
    "\n",
    "Now that we have a basic understanding of how SageMaker works we will try to use it to construct a complete project from end to end. Our goal will be to have a simple web page which a user can use to enter a movie review. The web page will then send the review off to our deployed model which will predict the sentiment of the entered review.\n",
    "\n",
    "## Instructions\n",
    "\n",
    "Some template code has already been provided for you, and you will need to implement additional functionality to successfully complete this notebook. You will not need to modify the included code beyond what is requested. Sections that begin with '**TODO**' in the header indicate that you need to complete or implement some portion within them. Instructions will be provided for each section and the specifics of the implementation are marked in the code block with a `# TODO: ...` comment. Please be sure to read the instructions carefully!\n",
    "\n",
    "In addition to implementing code, there will be questions for you to answer which relate to the task and your implementation. Each section where you will answer a question is preceded by a '**Question:**' header. Carefully read each question and provide your answer below the '**Answer:**' header by editing the Markdown cell.\n",
    "\n",
    "> **Note**: Code and Markdown cells can be executed using the **Shift+Enter** keyboard shortcut. In addition, a cell can be edited by typically clicking it (double-click for Markdown cells) or by pressing **Enter** while it is highlighted.\n",
    "\n",
    "## General Outline\n",
    "\n",
    "Recall the general outline for SageMaker projects using a notebook instance.\n",
    "\n",
    "1. Download or otherwise retrieve the data.\n",
    "2. Process / Prepare the data.\n",
    "3. Upload the processed data to S3.\n",
    "4. Train a chosen model.\n",
    "5. Test the trained model (typically using a batch transform job).\n",
    "6. Deploy the trained model.\n",
    "7. Use the deployed model.\n",
    "\n",
    "For this project, you will be following the steps in the general outline with some modifications. \n",
    "\n",
    "First, you will not be testing the model in its own step. You will still be testing the model, however, you will do it by deploying your model and then using the deployed model by sending the test data to it. One of the reasons for doing this is so that you can make sure that your deployed model is working correctly before moving forward.\n",
    "\n",
    "In addition, you will deploy and use your trained model a second time. In the second iteration you will customize the way that your trained model is deployed by including some of your own code. In addition, your newly deployed model will be used in the sentiment analysis web app."
   ]
  },
  {
   "cell_type": "code",
   "execution_count": 3,
   "metadata": {},
   "outputs": [
    {
     "name": "stdout",
     "output_type": "stream",
     "text": [
      "Requirement already satisfied: sagemaker==1.72.0 in /home/ec2-user/anaconda3/envs/pytorch_p36/lib/python3.6/site-packages (1.72.0)\n",
      "Requirement already satisfied: numpy>=1.9.0 in /home/ec2-user/anaconda3/envs/pytorch_p36/lib/python3.6/site-packages (from sagemaker==1.72.0) (1.19.5)\n",
      "Requirement already satisfied: scipy>=0.19.0 in /home/ec2-user/anaconda3/envs/pytorch_p36/lib/python3.6/site-packages (from sagemaker==1.72.0) (1.5.3)\n",
      "Requirement already satisfied: packaging>=20.0 in /home/ec2-user/anaconda3/envs/pytorch_p36/lib/python3.6/site-packages (from sagemaker==1.72.0) (21.3)\n",
      "Requirement already satisfied: boto3>=1.14.12 in /home/ec2-user/anaconda3/envs/pytorch_p36/lib/python3.6/site-packages (from sagemaker==1.72.0) (1.20.25)\n",
      "Requirement already satisfied: protobuf3-to-dict>=0.1.5 in /home/ec2-user/anaconda3/envs/pytorch_p36/lib/python3.6/site-packages (from sagemaker==1.72.0) (0.1.5)\n",
      "Requirement already satisfied: smdebug-rulesconfig==0.1.4 in /home/ec2-user/anaconda3/envs/pytorch_p36/lib/python3.6/site-packages (from sagemaker==1.72.0) (0.1.4)\n",
      "Requirement already satisfied: protobuf>=3.1 in /home/ec2-user/anaconda3/envs/pytorch_p36/lib/python3.6/site-packages (from sagemaker==1.72.0) (3.17.2)\n",
      "Requirement already satisfied: importlib-metadata>=1.4.0 in /home/ec2-user/anaconda3/envs/pytorch_p36/lib/python3.6/site-packages (from sagemaker==1.72.0) (4.5.0)\n",
      "Requirement already satisfied: s3transfer<0.6.0,>=0.5.0 in /home/ec2-user/anaconda3/envs/pytorch_p36/lib/python3.6/site-packages (from boto3>=1.14.12->sagemaker==1.72.0) (0.5.0)\n",
      "Requirement already satisfied: botocore<1.24.0,>=1.23.25 in /home/ec2-user/anaconda3/envs/pytorch_p36/lib/python3.6/site-packages (from boto3>=1.14.12->sagemaker==1.72.0) (1.23.25)\n",
      "Requirement already satisfied: jmespath<1.0.0,>=0.7.1 in /home/ec2-user/anaconda3/envs/pytorch_p36/lib/python3.6/site-packages (from boto3>=1.14.12->sagemaker==1.72.0) (0.10.0)\n",
      "Requirement already satisfied: typing-extensions>=3.6.4 in /home/ec2-user/anaconda3/envs/pytorch_p36/lib/python3.6/site-packages (from importlib-metadata>=1.4.0->sagemaker==1.72.0) (3.10.0.0)\n",
      "Requirement already satisfied: zipp>=0.5 in /home/ec2-user/anaconda3/envs/pytorch_p36/lib/python3.6/site-packages (from importlib-metadata>=1.4.0->sagemaker==1.72.0) (3.4.1)\n",
      "Requirement already satisfied: pyparsing!=3.0.5,>=2.0.2 in /home/ec2-user/anaconda3/envs/pytorch_p36/lib/python3.6/site-packages (from packaging>=20.0->sagemaker==1.72.0) (2.4.7)\n",
      "Requirement already satisfied: six>=1.9 in /home/ec2-user/anaconda3/envs/pytorch_p36/lib/python3.6/site-packages (from protobuf>=3.1->sagemaker==1.72.0) (1.16.0)\n",
      "Requirement already satisfied: urllib3<1.27,>=1.25.4 in /home/ec2-user/anaconda3/envs/pytorch_p36/lib/python3.6/site-packages (from botocore<1.24.0,>=1.23.25->boto3>=1.14.12->sagemaker==1.72.0) (1.26.5)\n",
      "Requirement already satisfied: python-dateutil<3.0.0,>=2.1 in /home/ec2-user/anaconda3/envs/pytorch_p36/lib/python3.6/site-packages (from botocore<1.24.0,>=1.23.25->boto3>=1.14.12->sagemaker==1.72.0) (2.8.1)\n"
     ]
    }
   ],
   "source": [
    "# Make sure that we use SageMaker 1.x\n",
    "!pip install sagemaker==1.72.0"
   ]
  },
  {
   "cell_type": "markdown",
   "metadata": {},
   "source": [
    "## Step 1: Downloading the data\n",
    "\n",
    "As in the XGBoost in SageMaker notebook, we will be using the [IMDb dataset](http://ai.stanford.edu/~amaas/data/sentiment/)\n",
    "\n",
    "> Maas, Andrew L., et al. [Learning Word Vectors for Sentiment Analysis](http://ai.stanford.edu/~amaas/data/sentiment/). In _Proceedings of the 49th Annual Meeting of the Association for Computational Linguistics: Human Language Technologies_. Association for Computational Linguistics, 2011."
   ]
  },
  {
   "cell_type": "code",
   "execution_count": 4,
   "metadata": {},
   "outputs": [
    {
     "name": "stdout",
     "output_type": "stream",
     "text": [
      "mkdir: cannot create directory ‘../data’: File exists\n",
      "--2022-01-08 08:36:24--  http://ai.stanford.edu/~amaas/data/sentiment/aclImdb_v1.tar.gz\n",
      "Resolving ai.stanford.edu (ai.stanford.edu)... 171.64.68.10\n",
      "Connecting to ai.stanford.edu (ai.stanford.edu)|171.64.68.10|:80... connected.\n",
      "HTTP request sent, awaiting response... 200 OK\n",
      "Length: 84125825 (80M) [application/x-gzip]\n",
      "Saving to: ‘../data/aclImdb_v1.tar.gz’\n",
      "\n",
      "../data/aclImdb_v1. 100%[===================>]  80.23M  28.3MB/s    in 2.8s    \n",
      "\n",
      "2022-01-08 08:36:27 (28.3 MB/s) - ‘../data/aclImdb_v1.tar.gz’ saved [84125825/84125825]\n",
      "\n"
     ]
    }
   ],
   "source": [
    "%mkdir ../data\n",
    "!wget -O ../data/aclImdb_v1.tar.gz http://ai.stanford.edu/~amaas/data/sentiment/aclImdb_v1.tar.gz\n",
    "!tar -zxf ../data/aclImdb_v1.tar.gz -C ../data"
   ]
  },
  {
   "cell_type": "markdown",
   "metadata": {},
   "source": [
    "## Step 2: Preparing and Processing the data\n",
    "\n",
    "Also, as in the XGBoost notebook, we will be doing some initial data processing. The first few steps are the same as in the XGBoost example. To begin with, we will read in each of the reviews and combine them into a single input structure. Then, we will split the dataset into a training set and a testing set."
   ]
  },
  {
   "cell_type": "code",
   "execution_count": 2,
   "metadata": {},
   "outputs": [],
   "source": [
    "import os\n",
    "import glob\n",
    "\n",
    "def read_imdb_data(data_dir='../data/aclImdb'):\n",
    "    data = {}\n",
    "    labels = {}\n",
    "    \n",
    "    for data_type in ['train', 'test']:\n",
    "        data[data_type] = {}\n",
    "        labels[data_type] = {}\n",
    "        \n",
    "        for sentiment in ['pos', 'neg']:\n",
    "            data[data_type][sentiment] = []\n",
    "            labels[data_type][sentiment] = []\n",
    "            \n",
    "            path = os.path.join(data_dir, data_type, sentiment, '*.txt')\n",
    "            files = glob.glob(path)\n",
    "            \n",
    "            for f in files:\n",
    "                with open(f) as review:\n",
    "                    data[data_type][sentiment].append(review.read())\n",
    "                    # Here we represent a positive review by '1' and a negative review by '0'\n",
    "                    labels[data_type][sentiment].append(1 if sentiment == 'pos' else 0)\n",
    "                    \n",
    "            assert len(data[data_type][sentiment]) == len(labels[data_type][sentiment]), \\\n",
    "                    \"{}/{} data size does not match labels size\".format(data_type, sentiment)\n",
    "                \n",
    "    return data, labels"
   ]
  },
  {
   "cell_type": "code",
   "execution_count": 3,
   "metadata": {},
   "outputs": [
    {
     "name": "stdout",
     "output_type": "stream",
     "text": [
      "IMDB reviews: train = 12500 pos / 12500 neg, test = 12500 pos / 12500 neg\n"
     ]
    }
   ],
   "source": [
    "data, labels = read_imdb_data()\n",
    "print(\"IMDB reviews: train = {} pos / {} neg, test = {} pos / {} neg\".format(\n",
    "            len(data['train']['pos']), len(data['train']['neg']),\n",
    "            len(data['test']['pos']), len(data['test']['neg'])))"
   ]
  },
  {
   "cell_type": "markdown",
   "metadata": {},
   "source": [
    "Now that we've read the raw training and testing data from the downloaded dataset, we will combine the positive and negative reviews and shuffle the resulting records."
   ]
  },
  {
   "cell_type": "code",
   "execution_count": 4,
   "metadata": {},
   "outputs": [],
   "source": [
    "from sklearn.utils import shuffle\n",
    "\n",
    "def prepare_imdb_data(data, labels):\n",
    "    \"\"\"Prepare training and test sets from IMDb movie reviews.\"\"\"\n",
    "    \n",
    "    #Combine positive and negative reviews and labels\n",
    "    data_train = data['train']['pos'] + data['train']['neg']\n",
    "    data_test = data['test']['pos'] + data['test']['neg']\n",
    "    labels_train = labels['train']['pos'] + labels['train']['neg']\n",
    "    labels_test = labels['test']['pos'] + labels['test']['neg']\n",
    "    \n",
    "    #Shuffle reviews and corresponding labels within training and test sets\n",
    "    data_train, labels_train = shuffle(data_train, labels_train)\n",
    "    data_test, labels_test = shuffle(data_test, labels_test)\n",
    "    \n",
    "    # Return a unified training data, test data, training labels, test labets\n",
    "    return data_train, data_test, labels_train, labels_test"
   ]
  },
  {
   "cell_type": "code",
   "execution_count": 5,
   "metadata": {},
   "outputs": [
    {
     "name": "stdout",
     "output_type": "stream",
     "text": [
      "IMDb reviews (combined): train = 25000, test = 25000\n"
     ]
    }
   ],
   "source": [
    "train_X, test_X, train_y, test_y = prepare_imdb_data(data, labels)\n",
    "print(\"IMDb reviews (combined): train = {}, test = {}\".format(len(train_X), len(test_X)))"
   ]
  },
  {
   "cell_type": "markdown",
   "metadata": {},
   "source": [
    "Now that we have our training and testing sets unified and prepared, we should do a quick check and see an example of the data our model will be trained on. This is generally a good idea as it allows you to see how each of the further processing steps affects the reviews and it also ensures that the data has been loaded correctly."
   ]
  },
  {
   "cell_type": "code",
   "execution_count": 6,
   "metadata": {},
   "outputs": [
    {
     "name": "stdout",
     "output_type": "stream",
     "text": [
      "Yes i'll say before i start commenting, this movie is incredibly underrated.<br /><br />Sharon Stone is great in her role of Catherine Trammell as is Morrissey as Dr glass. He is an analyst sent in to evaluate her after the death of a sports star. Glass is drawn into a seductive game that Trammel uses to manipulate his mind.<br /><br />The acting was good (apart from Thewlis)<br /><br />Stone really has a talent with this role. She's slick, naughty and seductive and doesn't look a day older than she did in the first.She really impressed me(like in Casino). Morrisey was also good. He showed much vunerablitity in a role that needed it. Thewlis however was lame. He ruined his character and was over-the-top the whole way. He really sucked.<br /><br />Overall, this movie not as good the first but Stone is a hoot to watch. Just ignore Thewlis.\n",
      "1\n"
     ]
    }
   ],
   "source": [
    "print(train_X[100])\n",
    "print(train_y[100])"
   ]
  },
  {
   "cell_type": "markdown",
   "metadata": {},
   "source": [
    "The first step in processing the reviews is to make sure that any html tags that appear should be removed. In addition we wish to tokenize our input, that way words such as *entertained* and *entertaining* are considered the same with regard to sentiment analysis."
   ]
  },
  {
   "cell_type": "code",
   "execution_count": 7,
   "metadata": {},
   "outputs": [],
   "source": [
    "import nltk\n",
    "from nltk.corpus import stopwords\n",
    "from nltk.stem.porter import *\n",
    "\n",
    "import re\n",
    "from bs4 import BeautifulSoup\n",
    "\n",
    "def review_to_words(review):\n",
    "    nltk.download(\"stopwords\", quiet=True)\n",
    "    stemmer = PorterStemmer()\n",
    "    \n",
    "    text = BeautifulSoup(review, \"html.parser\").get_text() # Remove HTML tags\n",
    "    text = re.sub(r\"[^a-zA-Z0-9]\", \" \", text.lower()) # Convert to lower case\n",
    "    words = text.split() # Split string into words\n",
    "    words = [w for w in words if w not in stopwords.words(\"english\")] # Remove stopwords\n",
    "    words = [PorterStemmer().stem(w) for w in words] # stem\n",
    "    \n",
    "    return words"
   ]
  },
  {
   "cell_type": "markdown",
   "metadata": {},
   "source": [
    "The `review_to_words` method defined above uses `BeautifulSoup` to remove any html tags that appear and uses the `nltk` package to tokenize the reviews. As a check to ensure we know how everything is working, try applying `review_to_words` to one of the reviews in the training set."
   ]
  },
  {
   "cell_type": "code",
   "execution_count": 8,
   "metadata": {},
   "outputs": [
    {
     "name": "stdout",
     "output_type": "stream",
     "text": [
      "['ye', 'say', 'start', 'comment', 'movi', 'incred', 'underr', 'sharon', 'stone', 'great', 'role', 'catherin', 'trammel', 'morrissey', 'dr', 'glass', 'analyst', 'sent', 'evalu', 'death', 'sport', 'star', 'glass', 'drawn', 'seduct', 'game', 'trammel', 'use', 'manipul', 'mind', 'act', 'good', 'apart', 'thewli', 'stone', 'realli', 'talent', 'role', 'slick', 'naughti', 'seduct', 'look', 'day', 'older', 'first', 'realli', 'impress', 'like', 'casino', 'morrisey', 'also', 'good', 'show', 'much', 'vunerablit', 'role', 'need', 'thewli', 'howev', 'lame', 'ruin', 'charact', 'top', 'whole', 'way', 'realli', 'suck', 'overal', 'movi', 'good', 'first', 'stone', 'hoot', 'watch', 'ignor', 'thewli']\n"
     ]
    }
   ],
   "source": [
    "# TODO: Apply review_to_words to a review (train_X[100] or any other review)\n",
    "print(review_to_words(train_X[100]))"
   ]
  },
  {
   "cell_type": "markdown",
   "metadata": {},
   "source": [
    "**Question:** Above we mentioned that `review_to_words` method removes html formatting and allows us to tokenize the words found in a review, for example, converting *entertained* and *entertaining* into *entertain* so that they are treated as though they are the same word. What else, if anything, does this method do to the input?"
   ]
  },
  {
   "cell_type": "markdown",
   "metadata": {},
   "source": [
    "**Answer:**  also make every word in lower case and split the text into words and remove the stop words (stop word like:to,for ...etc) from the words "
   ]
  },
  {
   "cell_type": "markdown",
   "metadata": {},
   "source": [
    "The method below applies the `review_to_words` method to each of the reviews in the training and testing datasets. In addition it caches the results. This is because performing this processing step can take a long time. This way if you are unable to complete the notebook in the current session, you can come back without needing to process the data a second time."
   ]
  },
  {
   "cell_type": "code",
   "execution_count": 9,
   "metadata": {},
   "outputs": [],
   "source": [
    "import pickle\n",
    "\n",
    "cache_dir = os.path.join(\"../cache\", \"sentiment_analysis\")  # where to store cache files\n",
    "os.makedirs(cache_dir, exist_ok=True)  # ensure cache directory exists\n",
    "\n",
    "def preprocess_data(data_train, data_test, labels_train, labels_test,\n",
    "                    cache_dir=cache_dir, cache_file=\"preprocessed_data.pkl\"):\n",
    "    \"\"\"Convert each review to words; read from cache if available.\"\"\"\n",
    "\n",
    "    # If cache_file is not None, try to read from it first\n",
    "    cache_data = None\n",
    "    if cache_file is not None:\n",
    "        try:\n",
    "            with open(os.path.join(cache_dir, cache_file), \"rb\") as f:\n",
    "                cache_data = pickle.load(f)\n",
    "            print(\"Read preprocessed data from cache file:\", cache_file)\n",
    "        except:\n",
    "            pass  # unable to read from cache, but that's okay\n",
    "    \n",
    "    # If cache is missing, then do the heavy lifting\n",
    "    if cache_data is None:\n",
    "        # Preprocess training and test data to obtain words for each review\n",
    "        #words_train = list(map(review_to_words, data_train))\n",
    "        #words_test = list(map(review_to_words, data_test))\n",
    "        words_train = [review_to_words(review) for review in data_train]\n",
    "        words_test = [review_to_words(review) for review in data_test]\n",
    "        \n",
    "        # Write to cache file for future runs\n",
    "        if cache_file is not None:\n",
    "            cache_data = dict(words_train=words_train, words_test=words_test,\n",
    "                              labels_train=labels_train, labels_test=labels_test)\n",
    "            with open(os.path.join(cache_dir, cache_file), \"wb\") as f:\n",
    "                pickle.dump(cache_data, f)\n",
    "            print(\"Wrote preprocessed data to cache file:\", cache_file)\n",
    "    else:\n",
    "        # Unpack data loaded from cache file\n",
    "        words_train, words_test, labels_train, labels_test = (cache_data['words_train'],\n",
    "                cache_data['words_test'], cache_data['labels_train'], cache_data['labels_test'])\n",
    "    \n",
    "    return words_train, words_test, labels_train, labels_test"
   ]
  },
  {
   "cell_type": "code",
   "execution_count": 10,
   "metadata": {},
   "outputs": [
    {
     "name": "stdout",
     "output_type": "stream",
     "text": [
      "Read preprocessed data from cache file: preprocessed_data.pkl\n"
     ]
    }
   ],
   "source": [
    "# Preprocess data\n",
    "train_X, test_X, train_y, test_y = preprocess_data(train_X, test_X, train_y, test_y)"
   ]
  },
  {
   "cell_type": "markdown",
   "metadata": {},
   "source": [
    "## Transform the data\n",
    "\n",
    "In the XGBoost notebook we transformed the data from its word representation to a bag-of-words feature representation. For the model we are going to construct in this notebook we will construct a feature representation which is very similar. To start, we will represent each word as an integer. Of course, some of the words that appear in the reviews occur very infrequently and so likely don't contain much information for the purposes of sentiment analysis. The way we will deal with this problem is that we will fix the size of our working vocabulary and we will only include the words that appear most frequently. We will then combine all of the infrequent words into a single category and, in our case, we will label it as `1`.\n",
    "\n",
    "Since we will be using a recurrent neural network, it will be convenient if the length of each review is the same. To do this, we will fix a size for our reviews and then pad short reviews with the category 'no word' (which we will label `0`) and truncate long reviews."
   ]
  },
  {
   "cell_type": "markdown",
   "metadata": {},
   "source": [
    "### (TODO) Create a word dictionary\n",
    "\n",
    "To begin with, we need to construct a way to map words that appear in the reviews to integers. Here we fix the size of our vocabulary (including the 'no word' and 'infrequent' categories) to be `5000` but you may wish to change this to see how it affects the model.\n",
    "\n",
    "> **TODO:** Complete the implementation for the `build_dict()` method below. Note that even though the vocab_size is set to `5000`, we only want to construct a mapping for the most frequently appearing `4998` words. This is because we want to reserve the special labels `0` for 'no word' and `1` for 'infrequent word'."
   ]
  },
  {
   "cell_type": "code",
   "execution_count": 11,
   "metadata": {},
   "outputs": [],
   "source": [
    "import numpy as np\n",
    "from collections import Counter\n",
    "\n",
    "def build_dict(data, vocab_size = 5000):\n",
    "    \"\"\"Construct and return a dictionary mapping each of the most frequently appearing words to a unique integer.\"\"\"\n",
    "    \n",
    "    # TODO: Determine how often each word appears in `data`. Note that `data` is a list of sentences and that a\n",
    "    #       sentence is a list of words.\n",
    "    \n",
    "    word_count = {} # A dict storing the words that appear in the reviews along with how often they occur\n",
    "    allwords=[]\n",
    "    for i in data:\n",
    "        for s in i:\n",
    "            allwords.append(s)\n",
    "    word_count=Counter(allwords)\n",
    "    # TODO: Sort the words found in `data` so that sorted_words[0] is the most frequently appearing word and\n",
    "    #       sorted_words[-1] is the least frequently appearing word.\n",
    "    sorted_words = sorted(word_count,key=word_count.get,reverse=True)\n",
    "    \n",
    "    word_dict = {} # This is what we are building, a dictionary that translates words into integers\n",
    "    for idx, word in enumerate(sorted_words[:vocab_size - 2]): # The -2 is so that we save room for the 'no word'\n",
    "        word_dict[word] = idx + 2                              # 'infrequent' labels\n",
    "        \n",
    "    return word_dict"
   ]
  },
  {
   "cell_type": "code",
   "execution_count": 12,
   "metadata": {},
   "outputs": [],
   "source": [
    "\n",
    "word_dict = build_dict(train_X)"
   ]
  },
  {
   "cell_type": "markdown",
   "metadata": {},
   "source": [
    "**Question:** What are the five most frequently appearing (tokenized) words in the training set? Does it makes sense that these words appear frequently in the training set?"
   ]
  },
  {
   "cell_type": "markdown",
   "metadata": {},
   "source": [
    "**Answer:**  movi ,film ,one, like ,time , no it has to effect to determine if it is positive or negative"
   ]
  },
  {
   "cell_type": "code",
   "execution_count": 13,
   "metadata": {},
   "outputs": [
    {
     "name": "stdout",
     "output_type": "stream",
     "text": [
      "{'movi': 2, 'film': 3, 'one': 4, 'like': 5, 'time': 6, 'good': 7, 'make': 8, 'charact': 9, 'get': 10, 'see': 11, 'watch': 12, 'stori': 13, 'even': 14, 'would': 15, 'realli': 16, 'well': 17, 'scene': 18, 'look': 19, 'show': 20, 'much': 21, 'end': 22, 'peopl': 23, 'bad': 24, 'go': 25, 'great': 26, 'also': 27, 'first': 28, 'love': 29, 'think': 30, 'way': 31, 'act': 32, 'play': 33, 'made': 34, 'thing': 35, 'could': 36, 'know': 37, 'say': 38, 'seem': 39, 'work': 40, 'plot': 41, 'two': 42, 'actor': 43, 'year': 44, 'come': 45, 'mani': 46, 'seen': 47, 'take': 48, 'want': 49, 'life': 50, 'never': 51, 'littl': 52, 'best': 53, 'tri': 54, 'man': 55, 'ever': 56, 'give': 57, 'better': 58, 'still': 59, 'perform': 60, 'find': 61, 'feel': 62, 'part': 63, 'back': 64, 'use': 65, 'someth': 66, 'director': 67, 'actual': 68, 'interest': 69, 'lot': 70, 'real': 71, 'old': 72, 'cast': 73, 'though': 74, 'live': 75, 'star': 76, 'enjoy': 77, 'guy': 78, 'anoth': 79, 'new': 80, 'role': 81, 'noth': 82, '10': 83, 'funni': 84, 'music': 85, 'point': 86, 'start': 87, 'set': 88, 'girl': 89, 'origin': 90, 'day': 91, 'world': 92, 'everi': 93, 'believ': 94, 'turn': 95, 'quit': 96, 'us': 97, 'direct': 98, 'thought': 99, 'fact': 100, 'minut': 101, 'horror': 102, 'kill': 103, 'action': 104, 'comedi': 105, 'pretti': 106, 'young': 107, 'wonder': 108, 'happen': 109, 'around': 110, 'got': 111, 'effect': 112, 'right': 113, 'long': 114, 'howev': 115, 'big': 116, 'line': 117, 'famili': 118, 'enough': 119, 'seri': 120, 'may': 121, 'need': 122, 'fan': 123, 'bit': 124, 'script': 125, 'beauti': 126, 'person': 127, 'becom': 128, 'without': 129, 'must': 130, 'alway': 131, 'friend': 132, 'tell': 133, 'reason': 134, 'saw': 135, 'last': 136, 'final': 137, 'kid': 138, 'almost': 139, 'put': 140, 'least': 141, 'sure': 142, 'done': 143, 'whole': 144, 'place': 145, 'complet': 146, 'kind': 147, 'expect': 148, 'differ': 149, 'shot': 150, 'far': 151, 'mean': 152, 'anyth': 153, 'book': 154, 'laugh': 155, 'might': 156, 'name': 157, 'sinc': 158, 'begin': 159, '2': 160, 'probabl': 161, 'woman': 162, 'help': 163, 'entertain': 164, 'let': 165, 'screen': 166, 'call': 167, 'tv': 168, 'moment': 169, 'away': 170, 'read': 171, 'yet': 172, 'rather': 173, 'worst': 174, 'run': 175, 'fun': 176, 'lead': 177, 'hard': 178, 'audienc': 179, 'idea': 180, 'anyon': 181, 'episod': 182, 'american': 183, 'found': 184, 'appear': 185, 'bore': 186, 'especi': 187, 'although': 188, 'hope': 189, 'keep': 190, 'cours': 191, 'anim': 192, 'job': 193, 'goe': 194, 'move': 195, 'sens': 196, 'dvd': 197, 'version': 198, 'war': 199, 'money': 200, 'someon': 201, 'mind': 202, 'mayb': 203, 'problem': 204, 'true': 205, 'hous': 206, 'everyth': 207, 'nice': 208, 'second': 209, 'rate': 210, 'three': 211, 'night': 212, 'follow': 213, 'face': 214, 'recommend': 215, 'main': 216, 'product': 217, 'worth': 218, 'leav': 219, 'human': 220, 'special': 221, 'excel': 222, 'togeth': 223, 'wast': 224, 'everyon': 225, 'sound': 226, 'john': 227, 'hand': 228, '1': 229, 'father': 230, 'later': 231, 'eye': 232, 'said': 233, 'view': 234, 'instead': 235, 'review': 236, 'boy': 237, 'high': 238, 'hour': 239, 'miss': 240, 'classic': 241, 'talk': 242, 'wife': 243, 'understand': 244, 'left': 245, 'care': 246, 'black': 247, 'death': 248, 'open': 249, 'murder': 250, 'write': 251, 'half': 252, 'head': 253, 'rememb': 254, 'chang': 255, 'viewer': 256, 'fight': 257, 'gener': 258, 'surpris': 259, 'short': 260, 'includ': 261, 'die': 262, 'fall': 263, 'less': 264, 'els': 265, 'entir': 266, 'piec': 267, 'involv': 268, 'pictur': 269, 'simpli': 270, 'power': 271, 'top': 272, 'home': 273, 'total': 274, 'usual': 275, 'budget': 276, 'attempt': 277, 'suppos': 278, 'releas': 279, 'hollywood': 280, 'terribl': 281, 'song': 282, 'men': 283, 'possibl': 284, 'featur': 285, 'portray': 286, 'disappoint': 287, 'poor': 288, '3': 289, 'coupl': 290, 'camera': 291, 'stupid': 292, 'dead': 293, 'wrong': 294, 'low': 295, 'produc': 296, 'video': 297, 'either': 298, 'aw': 299, 'definit': 300, 'except': 301, 'rest': 302, 'given': 303, 'absolut': 304, 'women': 305, 'lack': 306, 'word': 307, 'writer': 308, 'titl': 309, 'talent': 310, 'decid': 311, 'full': 312, 'perfect': 313, 'along': 314, 'style': 315, 'close': 316, 'truli': 317, 'school': 318, 'emot': 319, 'save': 320, 'age': 321, 'sex': 322, 'next': 323, 'bring': 324, 'mr': 325, 'case': 326, 'killer': 327, 'heart': 328, 'comment': 329, 'sort': 330, 'creat': 331, 'perhap': 332, 'came': 333, 'brother': 334, 'sever': 335, 'joke': 336, 'art': 337, 'dialogu': 338, 'game': 339, 'small': 340, 'base': 341, 'flick': 342, 'written': 343, 'sequenc': 344, 'meet': 345, 'earli': 346, 'often': 347, 'other': 348, 'mother': 349, 'develop': 350, 'humor': 351, 'actress': 352, 'consid': 353, 'dark': 354, 'guess': 355, 'amaz': 356, 'unfortun': 357, 'light': 358, 'lost': 359, 'exampl': 360, 'cinema': 361, 'drama': 362, 'white': 363, 'ye': 364, 'experi': 365, 'imagin': 366, 'mention': 367, 'stop': 368, 'natur': 369, 'forc': 370, 'manag': 371, 'felt': 372, 'present': 373, 'cut': 374, 'children': 375, 'fail': 376, 'son': 377, 'support': 378, 'qualiti': 379, 'car': 380, 'ask': 381, 'hit': 382, 'side': 383, 'voic': 384, 'extrem': 385, 'impress': 386, 'wors': 387, 'evil': 388, 'went': 389, 'stand': 390, 'certainli': 391, 'basic': 392, 'oh': 393, 'overal': 394, 'favorit': 395, 'horribl': 396, 'mysteri': 397, 'number': 398, 'type': 399, 'danc': 400, 'wait': 401, 'hero': 402, 'alreadi': 403, '5': 404, 'learn': 405, 'matter': 406, '4': 407, 'michael': 408, 'genr': 409, 'fine': 410, 'despit': 411, 'throughout': 412, 'walk': 413, 'success': 414, 'histori': 415, 'question': 416, 'zombi': 417, 'town': 418, 'realiz': 419, 'relationship': 420, 'past': 421, 'child': 422, 'daughter': 423, 'late': 424, 'b': 425, 'wish': 426, 'hate': 427, 'credit': 428, 'event': 429, 'theme': 430, 'touch': 431, 'citi': 432, 'today': 433, 'sometim': 434, 'behind': 435, 'god': 436, 'twist': 437, 'sit': 438, 'annoy': 439, 'deal': 440, 'stay': 441, 'abl': 442, 'rent': 443, 'pleas': 444, 'edit': 445, 'blood': 446, 'deserv': 447, 'anyway': 448, 'comic': 449, 'appar': 450, 'soon': 451, 'gave': 452, 'etc': 453, 'level': 454, 'slow': 455, 'chanc': 456, 'score': 457, 'bodi': 458, 'brilliant': 459, 'incred': 460, 'figur': 461, 'situat': 462, 'major': 463, 'self': 464, 'stuff': 465, 'decent': 466, 'element': 467, 'return': 468, 'dream': 469, 'obvious': 470, 'order': 471, 'continu': 472, 'pace': 473, 'ridicul': 474, 'happi': 475, 'highli': 476, 'group': 477, 'add': 478, 'thank': 479, 'ladi': 480, 'novel': 481, 'pain': 482, 'speak': 483, 'career': 484, 'shoot': 485, 'strang': 486, 'heard': 487, 'sad': 488, 'husband': 489, 'polic': 490, 'import': 491, 'break': 492, 'took': 493, 'strong': 494, 'cannot': 495, 'robert': 496, 'predict': 497, 'violenc': 498, 'hilari': 499, 'recent': 500, 'countri': 501, 'known': 502, 'particularli': 503, 'pick': 504, 'documentari': 505, 'season': 506, 'critic': 507, 'jame': 508, 'compar': 509, 'obviou': 510, 'alon': 511, 'told': 512, 'state': 513, 'visual': 514, 'rock': 515, 'theater': 516, 'offer': 517, 'exist': 518, 'opinion': 519, 'gore': 520, 'crap': 521, 'hold': 522, 'result': 523, 'hear': 524, 'room': 525, 'realiti': 526, 'effort': 527, 'clich': 528, 'thriller': 529, 'caus': 530, 'sequel': 531, 'serious': 532, 'explain': 533, 'king': 534, 'local': 535, 'ago': 536, 'hell': 537, 'none': 538, 'note': 539, 'allow': 540, 'david': 541, 'sister': 542, 'simpl': 543, 'femal': 544, 'deliv': 545, 'ok': 546, 'convinc': 547, 'class': 548, 'check': 549, 'suspens': 550, 'win': 551, 'oscar': 552, 'buy': 553, 'huge': 554, 'valu': 555, 'sexual': 556, 'cool': 557, 'scari': 558, 'excit': 559, 'similar': 560, 'provid': 561, 'apart': 562, 'exactli': 563, 'shown': 564, 'avoid': 565, 'seriou': 566, 'english': 567, 'taken': 568, 'whose': 569, 'cinematographi': 570, 'shock': 571, 'polit': 572, 'spoiler': 573, 'offic': 574, 'across': 575, 'middl': 576, 'pass': 577, 'street': 578, 'messag': 579, 'silli': 580, 'charm': 581, 'somewhat': 582, 'modern': 583, 'filmmak': 584, 'confus': 585, 'form': 586, 'tale': 587, 'singl': 588, 'jack': 589, 'mostli': 590, 'carri': 591, 'attent': 592, 'william': 593, 'sing': 594, 'five': 595, 'subject': 596, 'richard': 597, 'prove': 598, 'stage': 599, 'team': 600, 'cop': 601, 'unlik': 602, 'georg': 603, 'televis': 604, 'monster': 605, 'earth': 606, 'cover': 607, 'villain': 608, 'pay': 609, 'marri': 610, 'toward': 611, 'build': 612, 'parent': 613, 'pull': 614, 'due': 615, 'respect': 616, 'fill': 617, 'dialog': 618, 'four': 619, 'remind': 620, 'futur': 621, 'typic': 622, 'weak': 623, '7': 624, 'cheap': 625, 'intellig': 626, 'atmospher': 627, 'british': 628, 'clearli': 629, '80': 630, 'non': 631, 'dog': 632, 'paul': 633, 'knew': 634, 'fast': 635, 'artist': 636, '8': 637, 'crime': 638, 'easili': 639, 'escap': 640, 'adult': 641, 'doubt': 642, 'detail': 643, 'date': 644, 'romant': 645, 'fire': 646, 'member': 647, 'drive': 648, 'gun': 649, 'straight': 650, 'beyond': 651, 'fit': 652, 'attack': 653, 'imag': 654, 'upon': 655, 'posit': 656, 'whether': 657, 'fantast': 658, 'peter': 659, 'captur': 660, 'aspect': 661, 'appreci': 662, 'ten': 663, 'plan': 664, 'discov': 665, 'remain': 666, 'near': 667, 'period': 668, 'air': 669, 'realist': 670, 'mark': 671, 'red': 672, 'dull': 673, 'adapt': 674, 'within': 675, 'lose': 676, 'spend': 677, 'color': 678, 'materi': 679, 'chase': 680, 'mari': 681, 'storylin': 682, 'forget': 683, 'bunch': 684, 'clear': 685, 'lee': 686, 'victim': 687, 'nearli': 688, 'box': 689, 'york': 690, 'match': 691, 'inspir': 692, 'finish': 693, 'mess': 694, 'standard': 695, 'easi': 696, 'truth': 697, 'busi': 698, 'suffer': 699, 'bill': 700, 'space': 701, 'dramat': 702, 'western': 703, 'e': 704, 'list': 705, 'battl': 706, 'notic': 707, 'de': 708, 'french': 709, 'ad': 710, '9': 711, 'tom': 712, 'larg': 713, 'among': 714, 'eventu': 715, 'accept': 716, 'train': 717, 'agre': 718, 'spirit': 719, 'soundtrack': 720, 'third': 721, 'teenag': 722, 'soldier': 723, 'adventur': 724, 'famou': 725, 'sorri': 726, 'suggest': 727, 'drug': 728, 'cri': 729, 'babi': 730, 'normal': 731, 'troubl': 732, 'ultim': 733, 'contain': 734, 'certain': 735, 'cultur': 736, 'romanc': 737, 'rare': 738, 'lame': 739, 'somehow': 740, 'mix': 741, 'disney': 742, 'gone': 743, 'cartoon': 744, 'student': 745, 'reveal': 746, 'fear': 747, 'suck': 748, 'kept': 749, 'attract': 750, 'appeal': 751, 'premis': 752, 'greatest': 753, 'secret': 754, 'design': 755, 'shame': 756, 'throw': 757, 'scare': 758, 'copi': 759, 'wit': 760, 'america': 761, 'admit': 762, 'particular': 763, 'brought': 764, 'relat': 765, 'screenplay': 766, 'whatev': 767, 'pure': 768, '70': 769, 'averag': 770, 'harri': 771, 'master': 772, 'describ': 773, 'treat': 774, 'male': 775, '20': 776, 'fantasi': 777, 'issu': 778, 'warn': 779, 'inde': 780, 'forward': 781, 'background': 782, 'project': 783, 'free': 784, 'memor': 785, 'japanes': 786, 'poorli': 787, 'award': 788, 'locat': 789, 'amus': 790, 'potenti': 791, 'struggl': 792, 'weird': 793, 'magic': 794, 'societi': 795, 'okay': 796, 'imdb': 797, 'accent': 798, 'doctor': 799, 'water': 800, 'hot': 801, 'dr': 802, 'express': 803, '30': 804, 'alien': 805, 'odd': 806, 'crazi': 807, 'choic': 808, 'fiction': 809, 'studio': 810, 'control': 811, 'becam': 812, 'masterpiec': 813, 'difficult': 814, 'fli': 815, 'joe': 816, 'scream': 817, 'costum': 818, 'lover': 819, 'uniqu': 820, 'refer': 821, 'remak': 822, 'vampir': 823, 'girlfriend': 824, 'prison': 825, 'execut': 826, 'wear': 827, 'jump': 828, 'unless': 829, 'wood': 830, 'creepi': 831, 'cheesi': 832, 'superb': 833, 'otherwis': 834, 'parti': 835, 'ghost': 836, 'roll': 837, 'mad': 838, 'public': 839, 'depict': 840, 'badli': 841, 'earlier': 842, 'moral': 843, 'week': 844, 'jane': 845, 'dumb': 846, 'fi': 847, 'flaw': 848, 'grow': 849, 'deep': 850, 'sci': 851, 'cat': 852, 'maker': 853, 'footag': 854, 'connect': 855, 'older': 856, 'bother': 857, 'plenti': 858, 'outsid': 859, 'stick': 860, 'gay': 861, 'catch': 862, 'co': 863, 'plu': 864, 'popular': 865, 'equal': 866, 'social': 867, 'quickli': 868, 'disturb': 869, 'perfectli': 870, 'dress': 871, '90': 872, 'era': 873, 'mistak': 874, 'lie': 875, 'previou': 876, 'ride': 877, 'combin': 878, 'concept': 879, 'band': 880, 'surviv': 881, 'rich': 882, 'answer': 883, 'front': 884, 'christma': 885, 'sweet': 886, 'insid': 887, 'eat': 888, 'concern': 889, 'bare': 890, 'beat': 891, 'listen': 892, 'ben': 893, 'c': 894, 'serv': 895, 'term': 896, 'german': 897, 'la': 898, 'meant': 899, 'stereotyp': 900, 'hardli': 901, 'law': 902, 'innoc': 903, 'desper': 904, 'promis': 905, 'memori': 906, 'intent': 907, 'cute': 908, 'inform': 909, 'steal': 910, 'variou': 911, 'brain': 912, 'post': 913, 'tone': 914, 'island': 915, 'amount': 916, 'nuditi': 917, 'compani': 918, 'track': 919, 'claim': 920, 'store': 921, 'hair': 922, 'flat': 923, '50': 924, 'univers': 925, 'land': 926, 'scott': 927, 'danger': 928, 'fairli': 929, 'kick': 930, 'player': 931, 'plain': 932, 'step': 933, 'crew': 934, 'toni': 935, 'share': 936, 'centuri': 937, 'tast': 938, 'engag': 939, 'achiev': 940, 'cold': 941, 'travel': 942, 'record': 943, 'suit': 944, 'rip': 945, 'sadli': 946, 'manner': 947, 'tension': 948, 'wrote': 949, 'spot': 950, 'fascin': 951, 'intens': 952, 'familiar': 953, 'depth': 954, 'remark': 955, 'burn': 956, 'histor': 957, 'destroy': 958, 'sleep': 959, 'purpos': 960, 'languag': 961, 'ruin': 962, 'ignor': 963, 'delight': 964, 'unbeliev': 965, 'italian': 966, 'abil': 967, 'collect': 968, 'soul': 969, 'detect': 970, 'clever': 971, 'violent': 972, 'rape': 973, 'reach': 974, 'door': 975, 'liter': 976, 'trash': 977, 'scienc': 978, 'commun': 979, 'caught': 980, 'reveng': 981, 'creatur': 982, 'approach': 983, 'trip': 984, 'fashion': 985, 'intrigu': 986, 'introduc': 987, 'skill': 988, 'paint': 989, 'channel': 990, 'complex': 991, 'camp': 992, 'christian': 993, 'hole': 994, 'extra': 995, 'limit': 996, 'mental': 997, 'ann': 998, 'immedi': 999, 'million': 1000, '6': 1001, 'comput': 1002, 'slightli': 1003, 'mere': 1004, 'conclus': 1005, 'slasher': 1006, 'suddenli': 1007, 'imposs': 1008, 'teen': 1009, 'crimin': 1010, 'neither': 1011, 'nation': 1012, 'spent': 1013, 'physic': 1014, 'respons': 1015, 'planet': 1016, 'receiv': 1017, 'fake': 1018, 'sick': 1019, 'blue': 1020, 'bizarr': 1021, 'embarrass': 1022, 'indian': 1023, '15': 1024, 'ring': 1025, 'pop': 1026, 'drop': 1027, 'drag': 1028, 'haunt': 1029, 'suspect': 1030, 'pointless': 1031, 'edg': 1032, 'search': 1033, 'handl': 1034, 'common': 1035, 'biggest': 1036, 'faith': 1037, 'arriv': 1038, 'hurt': 1039, 'technic': 1040, 'angel': 1041, 'dad': 1042, 'genuin': 1043, 'awesom': 1044, 'f': 1045, 'solid': 1046, 'former': 1047, 'van': 1048, 'focu': 1049, 'colleg': 1050, 'count': 1051, 'tear': 1052, 'heavi': 1053, 'wall': 1054, 'rais': 1055, 'visit': 1056, 'laughabl': 1057, 'younger': 1058, 'excus': 1059, 'fair': 1060, 'sign': 1061, 'cult': 1062, 'tough': 1063, 'motion': 1064, 'key': 1065, 'desir': 1066, 'super': 1067, 'stun': 1068, 'addit': 1069, 'cloth': 1070, 'exploit': 1071, 'tortur': 1072, 'smith': 1073, 'race': 1074, 'davi': 1075, 'author': 1076, 'cross': 1077, 'jim': 1078, 'consist': 1079, 'focus': 1080, 'minor': 1081, 'compel': 1082, 'commit': 1083, 'pathet': 1084, 'chemistri': 1085, 'park': 1086, 'frank': 1087, 'tradit': 1088, 'obsess': 1089, 'grade': 1090, '60': 1091, 'asid': 1092, 'brutal': 1093, 'somewher': 1094, 'steve': 1095, 'opportun': 1096, 'explor': 1097, 'depress': 1098, 'rule': 1099, 'u': 1100, 'grant': 1101, 'besid': 1102, 'honest': 1103, 'anti': 1104, 'dub': 1105, 'intend': 1106, 'trailer': 1107, 'bar': 1108, 'longer': 1109, 'regard': 1110, 'scientist': 1111, 'west': 1112, 'decad': 1113, 'judg': 1114, 'silent': 1115, 'creativ': 1116, 'armi': 1117, 'wild': 1118, 'g': 1119, 'south': 1120, 'stewart': 1121, 'draw': 1122, 'road': 1123, 'govern': 1124, 'boss': 1125, 'ex': 1126, 'practic': 1127, 'club': 1128, 'surprisingli': 1129, 'festiv': 1130, 'gang': 1131, 'motiv': 1132, 'redeem': 1133, 'green': 1134, 'london': 1135, 'page': 1136, 'idiot': 1137, 'aliv': 1138, 'display': 1139, 'militari': 1140, 'machin': 1141, 'repeat': 1142, 'thrill': 1143, 'folk': 1144, 'yeah': 1145, 'nobodi': 1146, '100': 1147, '40': 1148, 'garbag': 1149, 'journey': 1150, 'tire': 1151, 'ground': 1152, 'smile': 1153, 'mood': 1154, 'bought': 1155, 'stone': 1156, 'sam': 1157, 'cost': 1158, 'noir': 1159, 'mouth': 1160, 'agent': 1161, 'terrif': 1162, 'requir': 1163, 'utterli': 1164, 'sexi': 1165, 'area': 1166, 'honestli': 1167, 'geniu': 1168, 'report': 1169, 'humour': 1170, 'enter': 1171, 'investig': 1172, 'glad': 1173, 'serial': 1174, 'occasion': 1175, 'passion': 1176, 'narr': 1177, 'marriag': 1178, 'climax': 1179, 'industri': 1180, 'studi': 1181, 'center': 1182, 'nowher': 1183, 'charli': 1184, 'demon': 1185, 'ship': 1186, 'bear': 1187, 'loos': 1188, 'hors': 1189, 'wow': 1190, 'hang': 1191, 'graphic': 1192, 'giant': 1193, 'admir': 1194, 'send': 1195, 'damn': 1196, 'loud': 1197, 'rel': 1198, 'nake': 1199, 'subtl': 1200, 'profession': 1201, 'blow': 1202, 'bottom': 1203, 'batman': 1204, 'insult': 1205, 'doubl': 1206, 'kelli': 1207, 'boyfriend': 1208, 'r': 1209, 'initi': 1210, 'frame': 1211, 'gem': 1212, 'opera': 1213, 'drawn': 1214, 'affect': 1215, 'cinemat': 1216, 'challeng': 1217, 'church': 1218, 'fulli': 1219, 'evid': 1220, 'nightmar': 1221, 'seek': 1222, 'l': 1223, 'j': 1224, 'conflict': 1225, 'arm': 1226, 'essenti': 1227, 'grace': 1228, 'christoph': 1229, 'henri': 1230, 'wind': 1231, 'narrat': 1232, 'assum': 1233, 'witch': 1234, 'push': 1235, 'hunt': 1236, 'wise': 1237, 'chri': 1238, 'nomin': 1239, 'month': 1240, 'repres': 1241, 'avail': 1242, 'sceneri': 1243, 'affair': 1244, 'hide': 1245, 'justic': 1246, 'smart': 1247, 'thu': 1248, 'bond': 1249, 'interview': 1250, 'outstand': 1251, 'flashback': 1252, 'constantli': 1253, 'satisfi': 1254, 'presenc': 1255, 'bed': 1256, 'central': 1257, 'iron': 1258, 'content': 1259, 'sell': 1260, 'everybodi': 1261, 'gag': 1262, 'hotel': 1263, 'slowli': 1264, 'hire': 1265, 'system': 1266, 'thrown': 1267, 'adam': 1268, 'charl': 1269, 'individu': 1270, 'hey': 1271, 'jone': 1272, 'mediocr': 1273, 'allen': 1274, 'ray': 1275, 'billi': 1276, 'lesson': 1277, 'cameo': 1278, 'photographi': 1279, 'fellow': 1280, 'pari': 1281, 'strike': 1282, 'absurd': 1283, 'brief': 1284, 'independ': 1285, 'rise': 1286, 'neg': 1287, 'impact': 1288, 'phone': 1289, 'ill': 1290, 'model': 1291, 'born': 1292, 'spoil': 1293, 'angl': 1294, 'fresh': 1295, 'abus': 1296, 'likabl': 1297, 'hill': 1298, 'discuss': 1299, 'sight': 1300, 'ahead': 1301, 'sent': 1302, 'photograph': 1303, 'logic': 1304, 'blame': 1305, 'occur': 1306, 'shine': 1307, 'bruce': 1308, 'mainli': 1309, 'commerci': 1310, 'skip': 1311, 'forev': 1312, 'surround': 1313, 'segment': 1314, 'teacher': 1315, 'held': 1316, 'zero': 1317, 'blond': 1318, 'summer': 1319, 'trap': 1320, 'satir': 1321, 'resembl': 1322, 'fool': 1323, 'ball': 1324, 'queen': 1325, 'six': 1326, 'twice': 1327, 'sub': 1328, 'tragedi': 1329, 'pack': 1330, 'reaction': 1331, 'bomb': 1332, 'hospit': 1333, 'protagonist': 1334, 'will': 1335, 'sport': 1336, 'mile': 1337, 'vote': 1338, 'drink': 1339, 'jerri': 1340, 'mom': 1341, 'trust': 1342, 'encount': 1343, 'plane': 1344, 'station': 1345, 'al': 1346, 'current': 1347, 'program': 1348, 'celebr': 1349, 'choos': 1350, 'martin': 1351, 'join': 1352, 'field': 1353, 'favourit': 1354, 'round': 1355, 'lord': 1356, 'tragic': 1357, 'vision': 1358, 'jean': 1359, 'robot': 1360, 'tie': 1361, 'arthur': 1362, 'random': 1363, 'fortun': 1364, 'roger': 1365, 'intern': 1366, 'psycholog': 1367, 'dread': 1368, 'epic': 1369, 'prefer': 1370, 'nonsens': 1371, 'improv': 1372, 'highlight': 1373, 'pleasur': 1374, 'formula': 1375, 'legend': 1376, 'tape': 1377, 'dollar': 1378, '11': 1379, 'gorgeou': 1380, 'porn': 1381, 'thin': 1382, 'object': 1383, 'wide': 1384, 'fox': 1385, 'ugli': 1386, 'influenc': 1387, 'buddi': 1388, 'prepar': 1389, 'nasti': 1390, 'ii': 1391, 'warm': 1392, 'reflect': 1393, 'progress': 1394, 'supposedli': 1395, 'youth': 1396, 'worthi': 1397, 'unusu': 1398, 'latter': 1399, 'length': 1400, 'crash': 1401, 'seven': 1402, 'superior': 1403, 'childhood': 1404, 'shop': 1405, 'remot': 1406, 'theatr': 1407, 'disgust': 1408, 'paid': 1409, 'funniest': 1410, 'pilot': 1411, 'fell': 1412, 'convers': 1413, 'trick': 1414, 'castl': 1415, 'disast': 1416, 'rob': 1417, 'gangster': 1418, 'establish': 1419, 'suicid': 1420, 'ident': 1421, 'mine': 1422, 'disappear': 1423, 'heaven': 1424, 'forgotten': 1425, 'singer': 1426, 'decis': 1427, 'tend': 1428, 'mask': 1429, 'heroin': 1430, 'partner': 1431, 'brian': 1432, 'desert': 1433, 'recogn': 1434, 'alan': 1435, 'sky': 1436, 'p': 1437, 'ms': 1438, 'thoroughli': 1439, 'stuck': 1440, 'replac': 1441, 'accur': 1442, 'market': 1443, 'seemingli': 1444, 'clue': 1445, 'uncl': 1446, 'danni': 1447, 'commentari': 1448, 'eddi': 1449, 'andi': 1450, 'devil': 1451, 'jackson': 1452, 'therefor': 1453, 'refus': 1454, 'that': 1455, 'pair': 1456, 'fault': 1457, 'ed': 1458, 'river': 1459, 'unit': 1460, 'fate': 1461, 'accid': 1462, 'tune': 1463, 'afraid': 1464, 'russian': 1465, 'clean': 1466, 'hidden': 1467, 'stephen': 1468, 'instanc': 1469, 'convey': 1470, 'readi': 1471, 'captain': 1472, 'quick': 1473, 'test': 1474, 'irrit': 1475, 'european': 1476, 'insan': 1477, 'daniel': 1478, 'frustrat': 1479, '1950': 1480, 'food': 1481, 'wed': 1482, 'chines': 1483, 'rescu': 1484, 'angri': 1485, 'dirti': 1486, 'lock': 1487, 'joy': 1488, 'steven': 1489, 'price': 1490, 'bland': 1491, 'cage': 1492, 'rang': 1493, 'anymor': 1494, 'wooden': 1495, 'jason': 1496, 'rush': 1497, 'n': 1498, 'news': 1499, 'martial': 1500, '12': 1501, 'worri': 1502, 'led': 1503, 'twenti': 1504, 'board': 1505, 'transform': 1506, 'cgi': 1507, 'hunter': 1508, 'symbol': 1509, 'sentiment': 1510, 'invent': 1511, 'piti': 1512, 'x': 1513, 'johnni': 1514, 'onto': 1515, 'attitud': 1516, 'explan': 1517, 'process': 1518, 'awar': 1519, 'owner': 1520, 'aim': 1521, 'target': 1522, 'energi': 1523, 'floor': 1524, 'favor': 1525, 'necessari': 1526, 'opposit': 1527, 'religi': 1528, 'blind': 1529, 'insight': 1530, 'window': 1531, 'chick': 1532, 'movement': 1533, 'research': 1534, 'deepli': 1535, 'possess': 1536, 'comparison': 1537, 'mountain': 1538, 'grand': 1539, 'comed': 1540, 'rain': 1541, 'whatsoev': 1542, 'shadow': 1543, 'bank': 1544, 'began': 1545, 'mid': 1546, 'parodi': 1547, 'princ': 1548, 'pre': 1549, 'taylor': 1550, 'friendship': 1551, 'credibl': 1552, 'weapon': 1553, 'teach': 1554, 'dougla': 1555, 'flesh': 1556, 'terror': 1557, 'hint': 1558, 'bloodi': 1559, 'protect': 1560, 'marvel': 1561, 'watchabl': 1562, 'leader': 1563, 'anybodi': 1564, 'accord': 1565, 'drunk': 1566, 'superman': 1567, 'load': 1568, 'brown': 1569, 'freddi': 1570, 'seat': 1571, 'appropri': 1572, 'tim': 1573, 'jeff': 1574, 'hitler': 1575, 'charg': 1576, 'unknown': 1577, 'villag': 1578, 'keaton': 1579, 'knock': 1580, 'england': 1581, 'unnecessari': 1582, 'enemi': 1583, 'empti': 1584, 'media': 1585, 'utter': 1586, 'strength': 1587, 'perspect': 1588, 'dare': 1589, 'buck': 1590, 'wave': 1591, 'craft': 1592, 'contrast': 1593, 'correct': 1594, 'kiss': 1595, 'ford': 1596, 'nativ': 1597, 'anywher': 1598, 'knowledg': 1599, 'magnific': 1600, 'speed': 1601, 'chill': 1602, 'soap': 1603, 'distract': 1604, 'nazi': 1605, 'ice': 1606, 'breath': 1607, 'fred': 1608, '1980': 1609, 'mission': 1610, 'joan': 1611, 'jr': 1612, 'crowd': 1613, 'moon': 1614, 'soft': 1615, 'kate': 1616, 'frighten': 1617, '000': 1618, 'hundr': 1619, 'nick': 1620, 'dick': 1621, 'dan': 1622, 'somebodi': 1623, 'simon': 1624, 'radio': 1625, 'dozen': 1626, 'academi': 1627, 'thousand': 1628, 'loss': 1629, 'shakespear': 1630, 'andrew': 1631, 'root': 1632, 'quot': 1633, 'account': 1634, 'sum': 1635, 'vehicl': 1636, '1970': 1637, 'convent': 1638, 'behavior': 1639, 'leg': 1640, 'gold': 1641, 'regular': 1642, 'demand': 1643, 'pretenti': 1644, 'worker': 1645, 'compet': 1646, 'privat': 1647, 'stretch': 1648, 'lynch': 1649, 'explos': 1650, 'japan': 1651, 'candi': 1652, 'interpret': 1653, 'notabl': 1654, 'debut': 1655, 'constant': 1656, 'tarzan': 1657, 'spi': 1658, 'sea': 1659, 'translat': 1660, 'prais': 1661, 'revolv': 1662, 'threaten': 1663, 'franc': 1664, 'ass': 1665, 'technolog': 1666, 'quiet': 1667, 'failur': 1668, 'sat': 1669, 'jesu': 1670, 'toy': 1671, 'aid': 1672, 'met': 1673, 'higher': 1674, 'punch': 1675, 'kevin': 1676, 'vh': 1677, 'abandon': 1678, 'mike': 1679, 'interact': 1680, 'command': 1681, 'separ': 1682, 'bet': 1683, 'confront': 1684, 'recal': 1685, 'site': 1686, 'servic': 1687, 'belong': 1688, 'gotten': 1689, 'techniqu': 1690, 'stunt': 1691, 'foot': 1692, 'bug': 1693, 'freak': 1694, 'cabl': 1695, 'bright': 1696, 'capabl': 1697, 'fu': 1698, 'african': 1699, 'jimmi': 1700, 'presid': 1701, 'succeed': 1702, 'fat': 1703, 'stock': 1704, 'clark': 1705, 'boat': 1706, 'gene': 1707, 'spanish': 1708, 'structur': 1709, 'kidnap': 1710, 'paper': 1711, 'belief': 1712, 'whilst': 1713, 'factor': 1714, 'attend': 1715, 'educ': 1716, 'realis': 1717, 'witti': 1718, 'realism': 1719, 'bob': 1720, 'tree': 1721, 'complic': 1722, 'finest': 1723, 'santa': 1724, 'assist': 1725, 'broken': 1726, 'v': 1727, 'determin': 1728, 'depart': 1729, 'smoke': 1730, 'up': 1731, 'observ': 1732, 'rubbish': 1733, 'lewi': 1734, 'routin': 1735, 'oper': 1736, 'domin': 1737, 'hat': 1738, 'fame': 1739, 'morgan': 1740, 'safe': 1741, 'foreign': 1742, 'lone': 1743, 'advanc': 1744, 'kinda': 1745, 'hook': 1746, 'numer': 1747, 'rank': 1748, 'shape': 1749, 'vs': 1750, 'washington': 1751, 'rose': 1752, 'civil': 1753, 'werewolf': 1754, 'shallow': 1755, 'morn': 1756, 'gari': 1757, 'ordinari': 1758, 'kong': 1759, 'winner': 1760, 'accomplish': 1761, 'whenev': 1762, 'virtual': 1763, 'peac': 1764, 'grab': 1765, 'h': 1766, 'offens': 1767, 'luck': 1768, 'welcom': 1769, 'unfunni': 1770, 'activ': 1771, 'contriv': 1772, 'bigger': 1773, 'patient': 1774, 'complain': 1775, 'dimension': 1776, 'con': 1777, 'trek': 1778, 'pretend': 1779, 'dri': 1780, 'code': 1781, 'lesbian': 1782, 'eric': 1783, 'flash': 1784, 'wake': 1785, 'cain': 1786, 'guard': 1787, 'albert': 1788, 'statu': 1789, 'manipul': 1790, 'corrupt': 1791, 'dancer': 1792, 'gain': 1793, 'awkward': 1794, 'speech': 1795, 'signific': 1796, 'sourc': 1797, 'context': 1798, 'corni': 1799, '13': 1800, 'clip': 1801, 'psycho': 1802, 'anthoni': 1803, 'sean': 1804, 'priest': 1805, 'curiou': 1806, 'religion': 1807, 'w': 1808, 'theatric': 1809, 'advic': 1810, 'reli': 1811, 'flow': 1812, 'addict': 1813, 'howard': 1814, 'secur': 1815, 'specif': 1816, 'skin': 1817, 'asian': 1818, 'jennif': 1819, 'comfort': 1820, 'luke': 1821, 'core': 1822, 'promot': 1823, 'golden': 1824, 'organ': 1825, 'lucki': 1826, 'cash': 1827, 'cheat': 1828, 'associ': 1829, 'dislik': 1830, 'lower': 1831, 'balanc': 1832, 'regret': 1833, 'contribut': 1834, 'devic': 1835, 'spell': 1836, 'frequent': 1837, 'wing': 1838, 'degre': 1839, 'frankli': 1840, 'lake': 1841, 'sake': 1842, 'print': 1843, 'forgiv': 1844, 'mass': 1845, 'betti': 1846, 'thoma': 1847, 'gordon': 1848, 'unexpect': 1849, 'crack': 1850, 'construct': 1851, 'unfold': 1852, 'grown': 1853, 'amateur': 1854, 'categori': 1855, 'invit': 1856, 'depend': 1857, 'matur': 1858, 'walter': 1859, 'grew': 1860, 'condit': 1861, 'anna': 1862, 'honor': 1863, 'intellectu': 1864, 'veteran': 1865, 'sudden': 1866, 'mirror': 1867, 'sole': 1868, 'spectacular': 1869, 'card': 1870, 'robin': 1871, 'meanwhil': 1872, 'liner': 1873, 'freedom': 1874, 'overli': 1875, 'demonstr': 1876, 'gift': 1877, 'experienc': 1878, 'grip': 1879, 'unabl': 1880, 'section': 1881, 'drew': 1882, 'colour': 1883, 'brilliantli': 1884, 'circumst': 1885, 'subtitl': 1886, 'theori': 1887, 'oliv': 1888, 'crappi': 1889, 'sheriff': 1890, 'path': 1891, 'sheer': 1892, 'laughter': 1893, 'cook': 1894, 'pile': 1895, 'parker': 1896, 'altern': 1897, 'matt': 1898, 'hall': 1899, 'defin': 1900, 'relief': 1901, 'wander': 1902, 'lawyer': 1903, 'accident': 1904, 'treatment': 1905, 'sinatra': 1906, 'dragon': 1907, 'hank': 1908, 'captiv': 1909, 'moor': 1910, 'halloween': 1911, 'gratuit': 1912, 'k': 1913, 'wound': 1914, 'jacki': 1915, 'kung': 1916, 'wayn': 1917, 'unintent': 1918, 'broadway': 1919, 'cowboy': 1920, 'barbara': 1921, 'surreal': 1922, 'canadian': 1923, 'spoof': 1924, 'statement': 1925, 'winter': 1926, 'treasur': 1927, 'cheer': 1928, 'fare': 1929, 'compos': 1930, 'fish': 1931, 'gonna': 1932, 'emerg': 1933, 'sensit': 1934, 'victor': 1935, 'unrealist': 1936, 'woodi': 1937, 'sympathet': 1938, 'ran': 1939, 'driven': 1940, 'neighbor': 1941, 'expos': 1942, 'topic': 1943, 'overlook': 1944, 'glass': 1945, 'menac': 1946, 'authent': 1947, 'gross': 1948, 'handsom': 1949, 'michel': 1950, 'chief': 1951, 'ancient': 1952, 'built': 1953, 'stranger': 1954, 'contemporari': 1955, 'feet': 1956, 'network': 1957, 'nevertheless': 1958, 'comedian': 1959, 'pleasant': 1960, 'cinderella': 1961, 'russel': 1962, 'blockbust': 1963, 'miser': 1964, 'underr': 1965, 'endless': 1966, 'letter': 1967, 'consider': 1968, 'gori': 1969, 'earn': 1970, 'solv': 1971, 'brook': 1972, 'switch': 1973, 'convict': 1974, 'victoria': 1975, 'joseph': 1976, 'bullet': 1977, 'edward': 1978, 'virgin': 1979, '0': 1980, 'cynic': 1981, 'scale': 1982, 'alex': 1983, 'chosen': 1984, 'scenario': 1985, 'com': 1986, 'gut': 1987, 'curs': 1988, 'outrag': 1989, 'sword': 1990, 'proper': 1991, 'monkey': 1992, 'wrap': 1993, 'driver': 1994, 'screenwrit': 1995, 'substanc': 1996, 'uk': 1997, 'juli': 1998, 'par': 1999, 'bird': 2000, 'remov': 2001, 'indic': 2002, 'court': 2003, 'loser': 2004, 'nanci': 2005, 'inevit': 2006, 'naiv': 2007, 'roy': 2008, 'grave': 2009, 'advertis': 2010, 'rental': 2011, 'consequ': 2012, 'fatal': 2013, 'slap': 2014, 'brave': 2015, 'bridg': 2016, 'le': 2017, 'germani': 2018, 'invis': 2019, 'anger': 2020, 'ador': 2021, 'provok': 2022, 'loui': 2023, 'footbal': 2024, 'anderson': 2025, 'alcohol': 2026, 'chan': 2027, 'willi': 2028, 'professor': 2029, 'ryan': 2030, 'stumbl': 2031, '1930': 2032, 'bat': 2033, 'australian': 2034, 'assassin': 2035, 'patrick': 2036, 'sharp': 2037, 'refresh': 2038, 'deni': 2039, 'saturday': 2040, 'eight': 2041, 'cell': 2042, 'trilog': 2043, 'liber': 2044, 'amateurish': 2045, 'ape': 2046, 'lousi': 2047, 'strongli': 2048, 'heck': 2049, 'sin': 2050, 'resid': 2051, 'justifi': 2052, 'vagu': 2053, 'san': 2054, 'terrifi': 2055, 'sympathi': 2056, 'reput': 2057, 'creator': 2058, 'mini': 2059, 'indi': 2060, 'defeat': 2061, 'expert': 2062, 'endur': 2063, 'prevent': 2064, 'tabl': 2065, 'task': 2066, 'tediou': 2067, 'rival': 2068, 'imit': 2069, 'trial': 2070, 'offend': 2071, 'employ': 2072, 'basebal': 2073, 'che': 2074, 'max': 2075, 'beach': 2076, 'dig': 2077, 'europ': 2078, 'pitch': 2079, 'complaint': 2080, 'fairi': 2081, 'weekend': 2082, 'format': 2083, 'purchas': 2084, 'risk': 2085, 'murphi': 2086, 'powel': 2087, 'tini': 2088, 'reminisc': 2089, 'nois': 2090, 'hype': 2091, 'bite': 2092, 'glimps': 2093, 'harsh': 2094, 'titan': 2095, 'fals': 2096, '14': 2097, 'strip': 2098, 'asleep': 2099, 'prime': 2100, 'till': 2101, 'north': 2102, 'descript': 2103, 'destruct': 2104, 'texa': 2105, 'revel': 2106, 'africa': 2107, 'semi': 2108, 'sitcom': 2109, 'inner': 2110, 'spin': 2111, 'surfac': 2112, 'uninterest': 2113, 'excess': 2114, 'arrest': 2115, 'hitchcock': 2116, 'massiv': 2117, 'controversi': 2118, 'makeup': 2119, 'argu': 2120, 'dinosaur': 2121, 'twin': 2122, 'maintain': 2123, 'stare': 2124, 'insist': 2125, 'reject': 2126, 'melodrama': 2127, 'ludicr': 2128, 'ideal': 2129, 'expens': 2130, 'kim': 2131, 'ala': 2132, 'press': 2133, 'ga': 2134, 'host': 2135, 'supernatur': 2136, 'erot': 2137, 'nail': 2138, 'atroci': 2139, 'subplot': 2140, 'columbo': 2141, 'forest': 2142, 'cant': 2143, 'notch': 2144, 'identifi': 2145, 'presum': 2146, 'dude': 2147, 'crude': 2148, 'character': 2149, 'plagu': 2150, 'guest': 2151, 'closer': 2152, 'method': 2153, 'forgett': 2154, 'foster': 2155, 'ear': 2156, 'landscap': 2157, 'lion': 2158, 'princess': 2159, 'border': 2160, 'beast': 2161, 'bound': 2162, 'storytel': 2163, 'accus': 2164, 'previous': 2165, 'pacino': 2166, 'damag': 2167, 'urban': 2168, 'birth': 2169, 'jungl': 2170, 'aunt': 2171, 'emma': 2172, 'nude': 2173, 'propaganda': 2174, 'jess': 2175, 'guid': 2176, 'chose': 2177, 'thirti': 2178, 'doll': 2179, 'mate': 2180, '25': 2181, 'mainstream': 2182, 'warrior': 2183, 'pet': 2184, 'whoever': 2185, 'gritti': 2186, 'size': 2187, 'deadli': 2188, 'exact': 2189, 'poster': 2190, 'upset': 2191, 'latest': 2192, 'friday': 2193, 'merit': 2194, 'cooper': 2195, 'wilson': 2196, 'warner': 2197, 'rough': 2198, 'citizen': 2199, 'buff': 2200, 'corps': 2201, 'contact': 2202, '1990': 2203, 'settl': 2204, 'ton': 2205, 'blend': 2206, 'sun': 2207, 'contest': 2208, 'popul': 2209, 'metal': 2210, 'environ': 2211, 'pitt': 2212, 'rat': 2213, 'alic': 2214, 'widow': 2215, 'mgm': 2216, 'overcom': 2217, 'select': 2218, 'bu': 2219, 'guilti': 2220, 'lift': 2221, 'link': 2222, 'ted': 2223, 'revolut': 2224, 'particip': 2225, 'afternoon': 2226, '1960': 2227, 'exagger': 2228, 'matrix': 2229, 'prostitut': 2230, 'moron': 2231, 'corpor': 2232, 'johnson': 2233, 'corner': 2234, 'accompani': 2235, 'multipl': 2236, 'sincer': 2237, 'hood': 2238, 'instal': 2239, 'clair': 2240, 'friendli': 2241, 'doom': 2242, 'leagu': 2243, 'holm': 2244, 'sunday': 2245, 'irish': 2246, 'examin': 2247, 'advis': 2248, 'defend': 2249, 'lugosi': 2250, 'blah': 2251, 'campi': 2252, 'aka': 2253, 'junk': 2254, 'string': 2255, 'grim': 2256, 'hip': 2257, 'pro': 2258, 'confid': 2259, 'varieti': 2260, 'shut': 2261, 'rachel': 2262, 'icon': 2263, 'tight': 2264, 'shake': 2265, 'sullivan': 2266, 'medic': 2267, 'mexican': 2268, 'denni': 2269, 'directli': 2270, 'goal': 2271, 'attach': 2272, 'jaw': 2273, 'truck': 2274, 'courag': 2275, 'duke': 2276, 'prior': 2277, 'legendari': 2278, 'breast': 2279, 'sentenc': 2280, 'terrorist': 2281, 'vietnam': 2282, 'sarah': 2283, 'dean': 2284, 'bourn': 2285, 'yell': 2286, 'proceed': 2287, 'behav': 2288, 'split': 2289, 'entri': 2290, 'hong': 2291, 'donald': 2292, 'un': 2293, 'nose': 2294, 'jerk': 2295, 'borrow': 2296, 'forth': 2297, 'gather': 2298, 'stolen': 2299, 'everywher': 2300, 'buri': 2301, 'unconvinc': 2302, 'concentr': 2303, 'crush': 2304, 'lifetim': 2305, 'confess': 2306, 'swim': 2307, 'spite': 2308, 'deliveri': 2309, 'julia': 2310, 'pan': 2311, 'turkey': 2312, 'lip': 2313, 'california': 2314, 'proud': 2315, 'quest': 2316, 'china': 2317, 'hoffman': 2318, 'freeman': 2319, 'offici': 2320, 'flight': 2321, 'reward': 2322, 'downright': 2323, 'fade': 2324, 'worthwhil': 2325, 'inept': 2326, 'sir': 2327, 'lazi': 2328, 'notori': 2329, 'betray': 2330, 'encourag': 2331, 'fabul': 2332, 'jon': 2333, 'jail': 2334, 'sink': 2335, 'storm': 2336, 'imageri': 2337, 'cousin': 2338, 'teeth': 2339, 'shower': 2340, 'lisa': 2341, 'retard': 2342, 'relev': 2343, 'survivor': 2344, 'susan': 2345, 'branagh': 2346, 'bell': 2347, 'bag': 2348, 'alright': 2349, 'mexico': 2350, 'quirki': 2351, 'tremend': 2352, 'summari': 2353, 'trade': 2354, 'facial': 2355, 'finger': 2356, 'stab': 2357, 'shark': 2358, 'toler': 2359, 'bride': 2360, 'hugh': 2361, 'blown': 2362, 'ha': 2363, 'bitter': 2364, 'hyster': 2365, 'pose': 2366, 'von': 2367, 'ron': 2368, 'ned': 2369, 'afterward': 2370, 'cruel': 2371, 'address': 2372, 'scheme': 2373, 'bone': 2374, 'larri': 2375, 'christ': 2376, 'tour': 2377, 'traci': 2378, 'pursu': 2379, 'thumb': 2380, 'snake': 2381, 'distinct': 2382, 'feed': 2383, 'swear': 2384, 'beg': 2385, 'screw': 2386, 'occas': 2387, 'stomach': 2388, 'mechan': 2389, 'raw': 2390, 'obscur': 2391, 'chair': 2392, 'photo': 2393, 'argument': 2394, 'gruesom': 2395, 'chain': 2396, 'sidney': 2397, 'holiday': 2398, 'necessarili': 2399, 'render': 2400, 'heavili': 2401, 'southern': 2402, 'resist': 2403, 'hardi': 2404, 'cabin': 2405, 'racist': 2406, 'india': 2407, 'satan': 2408, 'philip': 2409, 'indulg': 2410, 'understood': 2411, 'belov': 2412, 'pregnant': 2413, 'fourth': 2414, 'outfit': 2415, 'forgot': 2416, 'lay': 2417, 'integr': 2418, 'tongu': 2419, 'stalk': 2420, 'midnight': 2421, 'obnoxi': 2422, 'ticket': 2423, 'inhabit': 2424, 'garden': 2425, 'magazin': 2426, 'slapstick': 2427, 'deeper': 2428, 'carol': 2429, 'restor': 2430, '17': 2431, 'brad': 2432, 'incid': 2433, 'devot': 2434, 'lincoln': 2435, 'shoe': 2436, 'disbelief': 2437, 'underground': 2438, 'elizabeth': 2439, 'benefit': 2440, 'sandler': 2441, 'divorc': 2442, 'anticip': 2443, 'maria': 2444, 'guarante': 2445, 'lili': 2446, 'capit': 2447, 'creation': 2448, 'bbc': 2449, 'amazingli': 2450, 'slave': 2451, 'cring': 2452, 'explod': 2453, 'greater': 2454, 'mildli': 2455, 'princip': 2456, 'extraordinari': 2457, 'funnier': 2458, 'introduct': 2459, 'halfway': 2460, 'lesli': 2461, 'tap': 2462, 'transfer': 2463, 'punish': 2464, 'overwhelm': 2465, 'extent': 2466, 'wreck': 2467, 'enhanc': 2468, 'advantag': 2469, 'text': 2470, 'deliber': 2471, 'lane': 2472, 'plant': 2473, 'jessica': 2474, 'dynam': 2475, 'horrif': 2476, 'east': 2477, 'lo': 2478, 'preview': 2479, 'error': 2480, 'ensu': 2481, '2000': 2482, 'basi': 2483, 'vacat': 2484, 'appli': 2485, 'vincent': 2486, 'sophist': 2487, 'homosexu': 2488, 'miller': 2489, 'miscast': 2490, 'measur': 2491, 'sleazi': 2492, 'steel': 2493, 'reed': 2494, 'via': 2495, 'uncomfort': 2496, 'spoken': 2497, 'mansion': 2498, 'extend': 2499, 'elev': 2500, 'bollywood': 2501, 'cathol': 2502, 'overact': 2503, 'breathtak': 2504, 'beer': 2505, 'alter': 2506, 'assign': 2507, 'savag': 2508, 'mous': 2509, 'goofi': 2510, 'dentist': 2511, 'fix': 2512, 'stanley': 2513, 'conceiv': 2514, 'daili': 2515, 'hippi': 2516, 'melt': 2517, 'blair': 2518, 'succe': 2519, 'oppos': 2520, 'burt': 2521, 'nowaday': 2522, 'everyday': 2523, 'sacrific': 2524, 'properli': 2525, 'inspector': 2526, 'subsequ': 2527, 'carpent': 2528, 'block': 2529, 'laura': 2530, 'circl': 2531, 'massacr': 2532, 'neck': 2533, 'fallen': 2534, 'portrait': 2535, 'pool': 2536, 'mob': 2537, 'lesser': 2538, 'grey': 2539, 'access': 2540, 'christi': 2541, 'concert': 2542, 'seagal': 2543, 'fay': 2544, 'usa': 2545, 'chees': 2546, 'competit': 2547, 'jewish': 2548, 'jake': 2549, 'relax': 2550, 'isol': 2551, 'react': 2552, 'sinist': 2553, 'stink': 2554, 'creep': 2555, 'immens': 2556, 'appal': 2557, 'ironi': 2558, 'nonetheless': 2559, 'spiritu': 2560, 'nine': 2561, 'chop': 2562, '2006': 2563, 'lyric': 2564, 'suitabl': 2565, 'sold': 2566, 'luci': 2567, 'reduc': 2568, 'franchis': 2569, 'showcas': 2570, 'needless': 2571, 'spring': 2572, 'rage': 2573, 'user': 2574, 'retir': 2575, 'shirt': 2576, 'nut': 2577, 'navi': 2578, 'adopt': 2579, 'stanwyck': 2580, 'bath': 2581, 'jay': 2582, 'asham': 2583, 'nurs': 2584, 'uninspir': 2585, 'per': 2586, 'digit': 2587, 'zone': 2588, 'bulli': 2589, 'amongst': 2590, '2001': 2591, 'oddli': 2592, 'illustr': 2593, 'broadcast': 2594, '1940': 2595, 'laid': 2596, 'upper': 2597, 'sutherland': 2598, 'disguis': 2599, 'aspir': 2600, 'fulfil': 2601, 'baker': 2602, 'throat': 2603, 'brando': 2604, 'stylish': 2605, '18': 2606, 'impli': 2607, 'endear': 2608, 'neighborhood': 2609, 'nobl': 2610, 'thief': 2611, 'em': 2612, 'pound': 2613, 'pride': 2614, 'wanna': 2615, 'wwii': 2616, 'cinematograph': 2617, 'bo': 2618, 'distribut': 2619, 'dinner': 2620, 'shoulder': 2621, 'albeit': 2622, 'bett': 2623, 'prop': 2624, 'coher': 2625, 'tens': 2626, 'shift': 2627, '16': 2628, 'diseas': 2629, 'rochest': 2630, 'dawn': 2631, 'silenc': 2632, 'knife': 2633, 'poignant': 2634, 'forti': 2635, 'wash': 2636, 'rebel': 2637, 'matthau': 2638, 'contract': 2639, 'shout': 2640, 'function': 2641, 'snow': 2642, 'surf': 2643, 'internet': 2644, 'duti': 2645, 'height': 2646, 'chuck': 2647, 'widmark': 2648, 'instinct': 2649, 'cancel': 2650, 'reunion': 2651, 'proof': 2652, 'mindless': 2653, 'elvira': 2654, 'horrend': 2655, 'henc': 2656, 'silver': 2657, 'derek': 2658, 'heat': 2659, 'cannib': 2660, 'eeri': 2661, 'glori': 2662, 'innov': 2663, 'absorb': 2664, 'spielberg': 2665, 'repetit': 2666, 'neat': 2667, 'etern': 2668, 'premier': 2669, 'elvi': 2670, 'mill': 2671, 'torn': 2672, 'incoher': 2673, 'alik': 2674, 'greatli': 2675, 'musician': 2676, 'pie': 2677, 'precis': 2678, 'horrifi': 2679, 'trite': 2680, 'burton': 2681, 'nelson': 2682, 'homag': 2683, 'infam': 2684, 'bang': 2685, 'lovabl': 2686, 'itali': 2687, 'wealthi': 2688, 'crisi': 2689, 'announc': 2690, 'diamond': 2691, 'blank': 2692, 'racism': 2693, 'redempt': 2694, 'britain': 2695, 'fbi': 2696, 'flop': 2697, 'parallel': 2698, 'helen': 2699, 'ensembl': 2700, 'dedic': 2701, 'chaplin': 2702, 'happili': 2703, 'hammer': 2704, 'pat': 2705, 'resolut': 2706, 'wilder': 2707, 'streisand': 2708, 'cube': 2709, 'conclud': 2710, 'mar': 2711, 'disagre': 2712, 'triumph': 2713, 'plastic': 2714, 'factori': 2715, 'oil': 2716, 'broke': 2717, 'st': 2718, 'carter': 2719, 'march': 2720, 'row': 2721, 'fighter': 2722, 'weight': 2723, 'own': 2724, 'climb': 2725, 'chuckl': 2726, 'bush': 2727, 'rocket': 2728, 'vega': 2729, 'enorm': 2730, 'dump': 2731, 'dane': 2732, 'meaning': 2733, 'sensibl': 2734, 'boot': 2735, 'lust': 2736, 'luca': 2737, 'unforgett': 2738, 'kurt': 2739, 'thug': 2740, 'wherea': 2741, 'mst3k': 2742, 'spare': 2743, 'adequ': 2744, 'stress': 2745, 'brand': 2746, 'dear': 2747, 'fifti': 2748, 'rap': 2749, 'caricatur': 2750, 'butt': 2751, 'arnold': 2752, 'engin': 2753, 'threat': 2754, 'difficulti': 2755, 'bobbi': 2756, 'karloff': 2757, 'barri': 2758, 'ralph': 2759, 'secretari': 2760, 'flynn': 2761, 'polish': 2762, 'homeless': 2763, 'ego': 2764, 'fest': 2765, 'elabor': 2766, 'hamlet': 2767, 'journalist': 2768, 'swing': 2769, 'arrog': 2770, 'float': 2771, 'conspiraci': 2772, 'puppet': 2773, 'spike': 2774, 'unbear': 2775, 'resort': 2776, 'arrang': 2777, 'simpson': 2778, 'induc': 2779, 'tool': 2780, 'grate': 2781, 'fanci': 2782, 'tribut': 2783, 'exercis': 2784, 'guilt': 2785, 'cruis': 2786, 'choreograph': 2787, 'basement': 2788, 'muppet': 2789, 'pig': 2790, 'phillip': 2791, 'boll': 2792, '24': 2793, 'puzzl': 2794, 'tower': 2795, 'toilet': 2796, 'layer': 2797, 'medium': 2798, 'fianc': 2799, 'document': 2800, 'item': 2801, 'babe': 2802, 'ward': 2803, 'ham': 2804, 'korean': 2805, 'file': 2806, 'stan': 2807, 'slip': 2808, 'editor': 2809, 'scarecrow': 2810, 'inexplic': 2811, 'larger': 2812, 'portion': 2813, 'denzel': 2814, 'orient': 2815, 'catherin': 2816, 'superfici': 2817, 'assur': 2818, 'minim': 2819, 'doc': 2820, 'slaughter': 2821, 'spark': 2822, 'territori': 2823, 'persona': 2824, 'librari': 2825, 'transit': 2826, 'philosoph': 2827, 'glover': 2828, 'jeremi': 2829, 'pg': 2830, 'sneak': 2831, 'boredom': 2832, 'financi': 2833, 'ban': 2834, 'jet': 2835, 'wolf': 2836, 'shi': 2837, 'dorothi': 2838, 'owe': 2839, 'curti': 2840, 'walken': 2841, 'multi': 2842, 'ambigu': 2843, 'profound': 2844, 'eleph': 2845, 'backdrop': 2846, 'metaphor': 2847, 'cusack': 2848, 'whale': 2849, 'hudson': 2850, 'birthday': 2851, 'viru': 2852, 'stiff': 2853, 'ultra': 2854, 'union': 2855, 'implaus': 2856, 'elsewher': 2857, 'rave': 2858, 'notion': 2859, '2005': 2860, 'gadget': 2861, 'hack': 2862, 'canada': 2863, 'lloyd': 2864, 'squar': 2865, 'eastwood': 2866, 'deriv': 2867, 'slight': 2868, 'urg': 2869, 'poison': 2870, 'hawk': 2871, 'bibl': 2872, 'pad': 2873, 'eva': 2874, 'afford': 2875, '1st': 2876, 'distanc': 2877, 'superhero': 2878, 'disc': 2879, 'newspap': 2880, 'reader': 2881, 'essenc': 2882, 'restaur': 2883, 'health': 2884, 'skit': 2885, 'spread': 2886, 'heston': 2887, 'button': 2888, 'charisma': 2889, 'montag': 2890, 'huh': 2891, 'sadist': 2892, 'cure': 2893, 'drown': 2894, 'gradual': 2895, 'lab': 2896, 'dealt': 2897, 'godfath': 2898, 'maniac': 2899, 'invest': 2900, 'scoobi': 2901, 'companion': 2902, 'fetch': 2903, 'muslim': 2904, 'peak': 2905, 'estat': 2906, 'kane': 2907, 'alli': 2908, 'gothic': 2909, 'servant': 2910, 'tea': 2911, 'cup': 2912, 'ritter': 2913, 'countless': 2914, 'miik': 2915, 'subtleti': 2916, 'heroic': 2917, 'salli': 2918, 'charismat': 2919, 'elect': 2920, 'iii': 2921, 'electr': 2922, 'briefli': 2923, 'reel': 2924, 'cole': 2925, 'resourc': 2926, 'tender': 2927, 'nuanc': 2928, 'toss': 2929, 'admittedli': 2930, 'ingredi': 2931, 'grandmoth': 2932, 'bud': 2933, 'wannab': 2934, 'neil': 2935, 'carrey': 2936, 'mild': 2937, 'pit': 2938, 'stood': 2939, 'gate': 2940, 'shall': 2941, 'reev': 2942, 'kubrick': 2943, 'mafia': 2944, 'label': 2945, 'punk': 2946, 'dawson': 2947, 'stronger': 2948, 'poverti': 2949, 'pauli': 2950, 'easier': 2951, 'terri': 2952, 'cardboard': 2953, 'fond': 2954, 'smash': 2955, 'burst': 2956, 'cox': 2957, 'astair': 2958, 'assault': 2959, 'smooth': 2960, 'ian': 2961, 'outcom': 2962, 'tag': 2963, 'updat': 2964, 'useless': 2965, 'bakshi': 2966, 'rex': 2967, 'vulner': 2968, 'vari': 2969, 'exchang': 2970, 'sketch': 2971, 'resolv': 2972, 'fist': 2973, 'samurai': 2974, 'melodramat': 2975, 'increasingli': 2976, 'qualifi': 2977, 'divers': 2978, '2002': 2979, 'coincid': 2980, 'luckili': 2981, 'suspend': 2982, 'brillianc': 2983, 'conveni': 2984, 'tame': 2985, 'reynold': 2986, 'insert': 2987, 'blast': 2988, 'be': 2989, 'scratch': 2990, 'templ': 2991, 'gotta': 2992, 'ambiti': 2993, 'nuclear': 2994, 'walker': 2995, 'pin': 2996, 'fisher': 2997, 'farm': 2998, 'coach': 2999, 'meat': 3000, 'strictli': 3001, 'jami': 3002, 'matthew': 3003, 'seventi': 3004, 'hamilton': 3005, 'soprano': 3006, 'discoveri': 3007, 'convolut': 3008, 'kudo': 3009, 'clock': 3010, 'monk': 3011, 'ninja': 3012, 'grasp': 3013, 'cave': 3014, 'revers': 3015, 'joey': 3016, 'spooki': 3017, 'recreat': 3018, 'eccentr': 3019, 'instantli': 3020, 'closet': 3021, 'worthless': 3022, 'butcher': 3023, 'brosnan': 3024, 'timeless': 3025, 'struck': 3026, 'empir': 3027, 'bleak': 3028, 'miracl': 3029, 'fifteen': 3030, 'selfish': 3031, 'partli': 3032, 'gray': 3033, 'communist': 3034, 'sidekick': 3035, 'seller': 3036, 'eighti': 3037, 'evok': 3038, 'importantli': 3039, 'declar': 3040, 'sloppi': 3041, 'pal': 3042, 'mitchel': 3043, 'inconsist': 3044, 'clown': 3045, 'wipe': 3046, 'norman': 3047, 'cliff': 3048, 'lifestyl': 3049, 'destin': 3050, 'websit': 3051, 'enthusiast': 3052, 'aforement': 3053, 'australia': 3054, 'debat': 3055, 'cheek': 3056, '45': 3057, 'psychiatrist': 3058, 'piano': 3059, 'chew': 3060, 'flawless': 3061, 'superbl': 3062, 'stoog': 3063, 'farc': 3064, 'ho': 3065, 'seed': 3066, 'wick': 3067, 'pressur': 3068, 'incompet': 3069, 'emili': 3070, 'dire': 3071, 'dash': 3072, 'bash': 3073, 'splatter': 3074, 'soviet': 3075, 'wrestl': 3076, 'drivel': 3077, 'directori': 3078, 'kitchen': 3079, 'regardless': 3080, 'slice': 3081, 'akshay': 3082, 'abc': 3083, 'anni': 3084, 'duo': 3085, 'cagney': 3086, 'boil': 3087, 'increas': 3088, 'artifici': 3089, 'curios': 3090, 'recov': 3091, 'dave': 3092, 'lou': 3093, 'prize': 3094, 'jar': 3095, 'ken': 3096, 'pleasantli': 3097, 'beaten': 3098, 'cia': 3099, 'suppli': 3100, 'flower': 3101, 'judi': 3102, 'doo': 3103, 'distant': 3104, 'glow': 3105, 'seduc': 3106, 'chapter': 3107, 'helicopt': 3108, 'cameron': 3109, 'mann': 3110, 'blob': 3111, 'turner': 3112, 'favour': 3113, 'panic': 3114, 'goldberg': 3115, 'craig': 3116, 'hop': 3117, 'web': 3118, 'splendid': 3119, 'perri': 3120, 'glenn': 3121, 'psychot': 3122, 'ellen': 3123, 'eleg': 3124, 'drunken': 3125, 'francisco': 3126, 'laurel': 3127, 'combat': 3128, 'ranger': 3129, 'craven': 3130, 'wizard': 3131, 'gentl': 3132, 'slightest': 3133, 'plausibl': 3134, 'greek': 3135, 'falk': 3136, 'min': 3137, '20th': 3138, 'philosophi': 3139, 'modesti': 3140, 'alexand': 3141, 'graduat': 3142, 'hatr': 3143, 'fx': 3144, 'ruth': 3145, 'shortli': 3146, 'rid': 3147, 'flip': 3148, 'gandhi': 3149, 'manhattan': 3150, 'fund': 3151, 'lend': 3152, 'futurist': 3153, 'preciou': 3154, 'ocean': 3155, 'jealou': 3156, 'knight': 3157, 'unpleas': 3158, 'legal': 3159, 'tall': 3160, 'holi': 3161, 'dracula': 3162, 'harm': 3163, 'felix': 3164, 'we': 3165, 'mock': 3166, 'overdon': 3167, 'forbidden': 3168, 'bless': 3169, 'explicit': 3170, 'ami': 3171, 'reviv': 3172, 'thread': 3173, 'tank': 3174, 'nod': 3175, 'digniti': 3176, 'childish': 3177, 'scientif': 3178, 'giallo': 3179, 'unwatch': 3180, 'broad': 3181, 'torment': 3182, 'awe': 3183, 'verhoeven': 3184, 'awaken': 3185, 'mel': 3186, 'repeatedli': 3187, 'thick': 3188, 'margaret': 3189, '2004': 3190, 'elderli': 3191, 'yesterday': 3192, 'fever': 3193, '99': 3194, 'eve': 3195, 'pirat': 3196, 'nerv': 3197, 'launch': 3198, 'custom': 3199, 'eas': 3200, 'royal': 3201, 'rivet': 3202, 'bin': 3203, 'politician': 3204, 'ambit': 3205, 'ah': 3206, 'lean': 3207, 'griffith': 3208, 'automat': 3209, 'absenc': 3210, 'publish': 3211, 'uniform': 3212, 'kay': 3213, 'roman': 3214, 'stiller': 3215, 'acclaim': 3216, 'romero': 3217, 'timothi': 3218, 'sunshin': 3219, 'foul': 3220, 'warren': 3221, 'stinker': 3222, 'tomato': 3223, 'pulp': 3224, 'homicid': 3225, 'transport': 3226, 'bathroom': 3227, 'darker': 3228, 'antic': 3229, 'pierc': 3230, 'gabriel': 3231, 'termin': 3232, 'wallac': 3233, 'phrase': 3234, 'crook': 3235, 'purpl': 3236, 'packag': 3237, 'evolv': 3238, 'marin': 3239, 'prom': 3240, 'brazil': 3241, 'kenneth': 3242, 'ought': 3243, 'sixti': 3244, 'donna': 3245, 'karen': 3246, 'album': 3247, 'coloni': 3248, 'revolutionari': 3249, 'q': 3250, 'choreographi': 3251, 'saint': 3252, 'viciou': 3253, '2003': 3254, 'eyr': 3255, 'horrid': 3256, 'pray': 3257, 'hollow': 3258, 'awak': 3259, 'juvenil': 3260, 'rambo': 3261, 'contrari': 3262, 'li': 3263, 'blade': 3264, 'ireland': 3265, 'kapoor': 3266, 'defi': 3267, 'boast': 3268, 'dose': 3269, 'candid': 3270, 'mummi': 3271, 'nerd': 3272, 'stole': 3273, 'ramon': 3274, 'beatti': 3275, 'overr': 3276, 'option': 3277, 'mildr': 3278, 'conserv': 3279, 'twelv': 3280, 'protest': 3281, 'natali': 3282, 'astonish': 3283, 'collabor': 3284, 'trio': 3285, 'confirm': 3286, 'altman': 3287, 'fulci': 3288, 'kirk': 3289, 'global': 3290, 'detract': 3291, 'funer': 3292, 'flame': 3293, 'jazz': 3294, 'racial': 3295, 'blake': 3296, 'nicholson': 3297, 'tommi': 3298, 'audio': 3299, 'delici': 3300, 'mystic': 3301, 'enterpris': 3302, 'yellow': 3303, 'whip': 3304, 'spit': 3305, 'bull': 3306, 'leap': 3307, 'bottl': 3308, 'shade': 3309, 'destini': 3310, 'inherit': 3311, 'reunit': 3312, 'harder': 3313, 'bedroom': 3314, 'neo': 3315, 'fonda': 3316, 'meaningless': 3317, 'swedish': 3318, 'staff': 3319, 'merci': 3320, 'enchant': 3321, 'threw': 3322, 'altogeth': 3323, 'vivid': 3324, 'todd': 3325, 'visibl': 3326, 'adolesc': 3327, 'popcorn': 3328, 'pseudo': 3329, 'await': 3330, 'synopsi': 3331, 'jew': 3332, 'fanat': 3333, 'exhibit': 3334, 'decor': 3335, 'bust': 3336, 'roommat': 3337, 'tip': 3338, 'voight': 3339, 'lawrenc': 3340, 'respond': 3341, 'lemmon': 3342, 'befriend': 3343, 'madonna': 3344, 'kennedi': 3345, 'reserv': 3346, 'edi': 3347, 'wire': 3348, 'suspici': 3349, 'uneven': 3350, 'moodi': 3351, 'ruthless': 3352, 'leonard': 3353, 'atlanti': 3354, 'crocodil': 3355, 'bradi': 3356, 'ventur': 3357, 'unsettl': 3358, 'rural': 3359, 'garner': 3360, 'carl': 3361, 'clint': 3362, 'centr': 3363, 'dimens': 3364, 'palma': 3365, 'incident': 3366, 'bargain': 3367, 'voyag': 3368, '2007': 3369, 'holli': 3370, 'chao': 3371, 'abysm': 3372, 'bold': 3373, 'clumsi': 3374, 'audit': 3375, 'neglect': 3376, 'nearbi': 3377, 'immigr': 3378, 'elimin': 3379, 'timon': 3380, 'cd': 3381, '2nd': 3382, 'acknowledg': 3383, 'wealth': 3384, 'imperson': 3385, 'echo': 3386, 'ant': 3387, 'hart': 3388, 'characterist': 3389, 'cuba': 3390, 'trail': 3391, 'cari': 3392, 'versu': 3393, 'troop': 3394, 'tiger': 3395, 'humili': 3396, 'poetic': 3397, 'lit': 3398, 'mall': 3399, 'daddi': 3400, 'pun': 3401, 'paus': 3402, 'prejudic': 3403, 'collaps': 3404, 'infect': 3405, 'solo': 3406, 'mistaken': 3407, 'domest': 3408, 'celluloid': 3409, 'repuls': 3410, 'saga': 3411, 'jeffrey': 3412, 'marshal': 3413, 'mickey': 3414, 'homer': 3415, 'pant': 3416, 'inappropri': 3417, 'apolog': 3418, 'inan': 3419, 'gear': 3420, 'coat': 3421, 'assembl': 3422, 'promin': 3423, 'ginger': 3424, 'equip': 3425, 'chest': 3426, 'sore': 3427, 'undoubtedli': 3428, 'leon': 3429, 'hbo': 3430, 'harvey': 3431, '1996': 3432, 'interrupt': 3433, 'olivi': 3434, 'tribe': 3435, 'cake': 3436, 'milk': 3437, 'coffe': 3438, 'highest': 3439, 'retain': 3440, 'maggi': 3441, 'primari': 3442, 'colonel': 3443, 'pen': 3444, 'brooklyn': 3445, 'trace': 3446, 'jenni': 3447, 'florida': 3448, 'devast': 3449, 'pot': 3450, 'colleagu': 3451, 'consum': 3452, 'aveng': 3453, 'vulgar': 3454, 'institut': 3455, 'airplan': 3456, 'embrac': 3457, 'humbl': 3458, 'furthermor': 3459, 'exot': 3460, 'instant': 3461, 'solut': 3462, 'polanski': 3463, 'disabl': 3464, 'dian': 3465, 'strain': 3466, 'seduct': 3467, 'poke': 3468, 'rick': 3469, 'dutch': 3470, 'outer': 3471, 'smaller': 3472, 'sale': 3473, '3rd': 3474, 'godzilla': 3475, 'cope': 3476, 'illog': 3477, 'principl': 3478, 'bowl': 3479, 'gender': 3480, 'ya': 3481, 'wive': 3482, '1999': 3483, 'descend': 3484, 'linda': 3485, 'vast': 3486, 'dud': 3487, 'beneath': 3488, 'bubbl': 3489, 'hal': 3490, 'inferior': 3491, 'mixtur': 3492, 'gloriou': 3493, 'primarili': 3494, 'lol': 3495, 'cue': 3496, 'glamor': 3497, 'predecessor': 3498, 'dive': 3499, 'blatant': 3500, 'yard': 3501, 'rabbit': 3502, 'devoid': 3503, 'scope': 3504, 'secondli': 3505, 'gundam': 3506, 'breed': 3507, 'streep': 3508, 'casual': 3509, 'senseless': 3510, 'alert': 3511, 'garbo': 3512, 'shirley': 3513, 'grinch': 3514, 'pearl': 3515, 'talki': 3516, 'aggress': 3517, 'invas': 3518, 'simplist': 3519, 'museum': 3520, 'countrysid': 3521, 'shelf': 3522, 'z': 3523, 'trademark': 3524, 'hideou': 3525, 'myer': 3526, 'arab': 3527, 'disjoint': 3528, 'april': 3529, 'alfr': 3530, 'domino': 3531, 'et': 3532, 'hopeless': 3533, 'oz': 3534, 'khan': 3535, 'robberi': 3536, 'illeg': 3537, 'mayor': 3538, 'unhappi': 3539, 'disgrac': 3540, 'obtain': 3541, 'loyal': 3542, 'stir': 3543, 'applaud': 3544, 'maci': 3545, 'mail': 3546, 'robinson': 3547, 'stack': 3548, 'stellar': 3549, 'rendit': 3550, 'sh': 3551, 'boom': 3552, 'slide': 3553, 'defens': 3554, 'acid': 3555, 'hardcor': 3556, 'uwe': 3557, 'vanish': 3558, 'experiment': 3559, 'tempt': 3560, 'grandfath': 3561, 'diana': 3562, 'span': 3563, 'amanda': 3564, 'counter': 3565, 'berlin': 3566, 'spider': 3567, 'incomprehens': 3568, 'recruit': 3569, 'psychic': 3570, 'emphasi': 3571, 'topless': 3572, 'blew': 3573, 'wont': 3574, 'soccer': 3575, 'dicken': 3576, 'fri': 3577, 'dismiss': 3578, 'tenant': 3579, 'scroog': 3580, 'craze': 3581, 'declin': 3582, 'rifl': 3583, 'hartley': 3584, 'trashi': 3585, 'parad': 3586, 'intim': 3587, 'ration': 3588, 'lumet': 3589, 'sibl': 3590, 'resurrect': 3591, 'justin': 3592, 'bitch': 3593, 'sympath': 3594, 'porno': 3595, 'ethnic': 3596, 'goer': 3597, 'wet': 3598, 'revolt': 3599, 'faster': 3600, 'shed': 3601, 'riot': 3602, 'shaw': 3603, 'woo': 3604, 'niro': 3605, 'patriot': 3606, 'hopper': 3607, 'steam': 3608, 'farmer': 3609, 'choru': 3610, 'region': 3611, 'ensur': 3612, 'wheel': 3613, 'slick': 3614, 'eager': 3615, 'weakest': 3616, 'feminist': 3617, 'gap': 3618, 'unreal': 3619, 'ballet': 3620, 'worm': 3621, 'commend': 3622, 'nephew': 3623, 'honesti': 3624, 'jonathan': 3625, 'biographi': 3626, 'andr': 3627, 'immort': 3628, 'mario': 3629, 'wendi': 3630, 'lena': 3631, 'enlighten': 3632, 'hesit': 3633, 'partial': 3634, 'rider': 3635, '00': 3636, 'dealer': 3637, 'composit': 3638, 'confin': 3639, 'wore': 3640, 'leo': 3641, 'nostalg': 3642, 'blunt': 3643, 'properti': 3644, 'psychopath': 3645, 'hung': 3646, 'util': 3647, 'snap': 3648, 'morri': 3649, 'victori': 3650, 'similarli': 3651, 'mutant': 3652, 'charlott': 3653, 'safeti': 3654, 'sappi': 3655, 'repress': 3656, 'prequel': 3657, 'vice': 3658, 'skull': 3659, 'sandra': 3660, 'macarthur': 3661, 'franco': 3662, 'owen': 3663, 'kingdom': 3664, 'acquir': 3665, 'drain': 3666, 'pattern': 3667, 'cg': 3668, 'rope': 3669, 'farrel': 3670, 'thru': 3671, 'bow': 3672, 'campbel': 3673, 'hyde': 3674, 'tad': 3675, 'compass': 3676, 'dust': 3677, 'nervou': 3678, 'deed': 3679, 'heartbreak': 3680, 'emperor': 3681, 'recycl': 3682, 'miseri': 3683, 'speci': 3684, 'snl': 3685, 'exit': 3686, 'valuabl': 3687, 'bergman': 3688, 'rocki': 3689, 'repli': 3690, 'compens': 3691, '1972': 3692, 'bonu': 3693, 'despair': 3694, 'tail': 3695, 'rambl': 3696, 'strand': 3697, 'montana': 3698, 'kyle': 3699, 'del': 3700, 'whoopi': 3701, 'drum': 3702, 'latin': 3703, 'bumbl': 3704, 'dalton': 3705, 'gimmick': 3706, 'slug': 3707, '35': 3708, 'rotten': 3709, 'wacki': 3710, 'da': 3711, 'carradin': 3712, 'gal': 3713, 'contempl': 3714, 'airport': 3715, 'orson': 3716, 'oppress': 3717, 'martian': 3718, 'romp': 3719, 'roth': 3720, 'chess': 3721, 'downhil': 3722, 'olli': 3723, 'radic': 3724, 'tonight': 3725, 'bleed': 3726, 'mistress': 3727, 'pour': 3728, 'rapist': 3729, 'percept': 3730, 'unpredict': 3731, 'mislead': 3732, 'tackl': 3733, 'banal': 3734, 'pervers': 3735, '1983': 3736, 'slash': 3737, 'belt': 3738, 'attorney': 3739, 'dazzl': 3740, 'heal': 3741, 'programm': 3742, 'arc': 3743, 'melodi': 3744, 'champion': 3745, 'arguabl': 3746, 'shelley': 3747, 'taught': 3748, 'paltrow': 3749, 'pursuit': 3750, 'edgar': 3751, 'tooth': 3752, 'stilt': 3753, 'pervert': 3754, 'preach': 3755, 'raymond': 3756, 'vocal': 3757, 'rubi': 3758, 'employe': 3759, 'mesmer': 3760, 'gambl': 3761, 'conneri': 3762, 'graham': 3763, 'duval': 3764, 'dixon': 3765, 'closest': 3766, 'bela': 3767, 'chicken': 3768, 'plight': 3769, 'marti': 3770, 'virginia': 3771, 'passeng': 3772, 'sensat': 3773, 'orang': 3774, 'maid': 3775, 'uplift': 3776, 'vengeanc': 3777, 'poem': 3778, 'cleverli': 3779, 'franki': 3780, 'tiresom': 3781, 'paranoia': 3782, 'inject': 3783, 'secretli': 3784, 'profan': 3785, 'quarter': 3786, 'extens': 3787, 'climact': 3788, 'calm': 3789, 'convincingli': 3790, 'clone': 3791, 'suffic': 3792, 'engross': 3793, 'abraham': 3794, '1968': 3795, 'bay': 3796, 'sirk': 3797, 'outing': 3798, 'habit': 3799, 'yawn': 3800, 'whine': 3801, 'giggl': 3802, 'iran': 3803, 'tube': 3804, 'scottish': 3805, 'volum': 3806, 'monologu': 3807, 'numb': 3808, 'gerard': 3809, 'crystal': 3810, 'mute': 3811, 'lundgren': 3812, 'swallow': 3813, 'amitabh': 3814, 'pokemon': 3815, 'bend': 3816, 'lowest': 3817, 'trend': 3818, 'expand': 3819, 'dispos': 3820, 'nichola': 3821, 'fed': 3822, 'ethan': 3823, 'earl': 3824, 'plod': 3825, 'richardson': 3826, 'septemb': 3827, 'meander': 3828, 'abort': 3829, 'im': 3830, 'frankenstein': 3831, 'underst': 3832, 'taxi': 3833, 'grotesqu': 3834, 'franci': 3835, 'linger': 3836, 'backward': 3837, 'surpass': 3838, 'poetri': 3839, 'chicago': 3840, 'profess': 3841, 'junior': 3842, 'austen': 3843, 'spock': 3844, 'eugen': 3845, 'mundan': 3846, 'compliment': 3847, 'econom': 3848, 'dysfunct': 3849, 'nostalgia': 3850, 'sue': 3851, 'household': 3852, 'simplic': 3853, 'spoke': 3854, 'myth': 3855, 'lure': 3856, 'greedi': 3857, 'hum': 3858, 'rant': 3859, 'rubber': 3860, 'catchi': 3861, 'literatur': 3862, 'cannon': 3863, 'waitress': 3864, 'muddl': 3865, 'instrument': 3866, 'tourist': 3867, 'der': 3868, 'stallon': 3869, 'descent': 3870, 'damon': 3871, 'stale': 3872, 'dictat': 3873, 'insur': 3874, 'dement': 3875, 'crucial': 3876, 'phoni': 3877, 'flee': 3878, 'molli': 3879, 'eaten': 3880, 'duck': 3881, 'louis': 3882, 'coast': 3883, 'mortal': 3884, 'recognit': 3885, 'omen': 3886, 'hello': 3887, 'cent': 3888, 'alongsid': 3889, 'sissi': 3890, 'lang': 3891, 'recognis': 3892, 'firstli': 3893, 'mankind': 3894, 'map': 3895, 'carel': 3896, 'june': 3897, 'phantom': 3898, 'irrelev': 3899, 'bacal': 3900, 'occupi': 3901, 'randi': 3902, 'furi': 3903, 'deaf': 3904, 'equival': 3905, 'distinguish': 3906, 'damm': 3907, '1973': 3908, 'reign': 3909, 'loyalti': 3910, 'wisdom': 3911, 'lengthi': 3912, 'heel': 3913, 'grayson': 3914, 'twilight': 3915, 'ashley': 3916, 'bike': 3917, 'blackmail': 3918, 'likewis': 3919, 'newli': 3920, 'bump': 3921, 'dreari': 3922, 'buffalo': 3923, 'daisi': 3924, 'labor': 3925, 'rude': 3926, 'onlin': 3927, 'freez': 3928, 'drake': 3929, 'cyborg': 3930, 'antwon': 3931, 'rooney': 3932, 'biko': 3933, 'sailor': 3934, 'incorpor': 3935, 'unorigin': 3936, 'nineti': 3937, 'provoc': 3938, 'emphas': 3939, 'chronicl': 3940, 'inher': 3941, 'attribut': 3942, 'prey': 3943, 'boxer': 3944, 'basketbal': 3945, 'vein': 3946, 'pink': 3947, 'worn': 3948, 'exposur': 3949, 'barrymor': 3950, 'proce': 3951, 'analysi': 3952, 'ridden': 3953, 'baddi': 3954, 'keith': 3955, 'interior': 3956, 'startl': 3957, 'butler': 3958, 'tunnel': 3959, 'approv': 3960, 'meyer': 3961, 'barrel': 3962, 'belushi': 3963, 'underli': 3964, 'substitut': 3965, 'bunni': 3966, 'nicol': 3967, 'othello': 3968, 'er': 3969, 'julian': 3970, 'fleet': 3971, 'drift': 3972, 'condemn': 3973, 'millionair': 3974, 'mighti': 3975, 'unrel': 3976, 'undeni': 3977, 'simmon': 3978, 'indiffer': 3979, 'hypnot': 3980, 'degrad': 3981, 'predat': 3982, 'robbin': 3983, 'meg': 3984, 'stalker': 3985, 'mormon': 3986, 'elm': 3987, 'walsh': 3988, 'improvis': 3989, 'carla': 3990, 'exquisit': 3991, 'errol': 3992, '3d': 3993, 'lampoon': 3994, 'marion': 3995, 'reid': 3996, 'shove': 3997, 'priceless': 3998, 'palac': 3999, 'firm': 4000, 'greed': 4001, 'roof': 4002, 'agenda': 4003, 'enthusiasm': 4004, 'dolph': 4005, 'hay': 4006, 'alison': 4007, 'vital': 4008, 'nyc': 4009, 'disord': 4010, 'mtv': 4011, 'alarm': 4012, 'warmth': 4013, 'watson': 4014, 'unawar': 4015, 'edgi': 4016, 'rukh': 4017, 'novak': 4018, 'preserv': 4019, '1933': 4020, 'distort': 4021, 'orlean': 4022, 'showdown': 4023, 'peril': 4024, 'spain': 4025, 'pamela': 4026, 'cassidi': 4027, 'angela': 4028, 'profit': 4029, 'drip': 4030, 'glanc': 4031, 'randomli': 4032, 'what': 4033, 'testament': 4034, 'iraq': 4035, 'eastern': 4036, 'petti': 4037, 'minimum': 4038, 'simultan': 4039, 'championship': 4040, 'peck': 4041, '13th': 4042, 'israel': 4043, 'thompson': 4044, 'session': 4045, 'gestur': 4046, 'beatl': 4047, 'ponder': 4048, 'unleash': 4049, 'campaign': 4050, 'nun': 4051, 'valentin': 4052, 'crown': 4053, 'sergeant': 4054, 'coup': 4055, 'zizek': 4056, 'cream': 4057, 'bro': 4058, 'wig': 4059, 'rout': 4060, 'climat': 4061, 'crawl': 4062, 'unimagin': 4063, 'empathi': 4064, 'stake': 4065, 'perpetu': 4066, 'buster': 4067, 'calib': 4068, 'represent': 4069, 'exposit': 4070, 'restrain': 4071, 'valley': 4072, 'kurosawa': 4073, 'shootout': 4074, 'realm': 4075, 'fido': 4076, '1984': 4077, 'crow': 4078, 'scotland': 4079, 'stroke': 4080, 'brenda': 4081, 'contradict': 4082, 'travesti': 4083, 'reson': 4084, 'cooki': 4085, 'quinn': 4086, 'regist': 4087, 'mon': 4088, 'gentleman': 4089, 'han': 4090, 'miyazaki': 4091, 'jan': 4092, 'din': 4093, 'sabrina': 4094, 'josh': 4095, 'meryl': 4096, 'femm': 4097, 'passabl': 4098, 'demis': 4099, 'cloud': 4100, 'perceiv': 4101, 'tacki': 4102, 'shoddi': 4103, 'crawford': 4104, '1997': 4105, 'geek': 4106, 'darren': 4107, 'ross': 4108, 'ustinov': 4109, 'spacey': 4110, 'delic': 4111, 'monoton': 4112, 'dana': 4113, 'unsatisfi': 4114, 'wax': 4115, 'fuller': 4116, 'sammi': 4117, 'compromis': 4118, 'abomin': 4119, 'greg': 4120, 'warrant': 4121, 'baldwin': 4122, 'derang': 4123, 'stargat': 4124, 'unseen': 4125, 'absent': 4126, '1987': 4127, 'sucker': 4128, 'pretens': 4129, 'mclaglen': 4130, 'shaki': 4131, 'businessman': 4132, 'soderbergh': 4133, 'traumat': 4134, 'painter': 4135, 'censor': 4136, 'distress': 4137, 'pole': 4138, 'deceas': 4139, 'clash': 4140, 'accuraci': 4141, 'primit': 4142, 'verbal': 4143, 'exclus': 4144, 'furiou': 4145, 'valid': 4146, 'tarantino': 4147, 'judgment': 4148, 'wholli': 4149, 'sid': 4150, '1993': 4151, 'tech': 4152, 'unravel': 4153, 'seal': 4154, 'norm': 4155, 'fog': 4156, 'click': 4157, 'expedit': 4158, 'nathan': 4159, 'fenc': 4160, 'austin': 4161, 'jewel': 4162, 'uncov': 4163, 'correctli': 4164, 'kumar': 4165, 'reluct': 4166, 'anchor': 4167, 'polici': 4168, 'deniro': 4169, 'dee': 4170, 'antonioni': 4171, 'logan': 4172, 'unfair': 4173, 'wretch': 4174, 'vanc': 4175, 'shanghai': 4176, 'roller': 4177, 'clerk': 4178, 'mode': 4179, 'debt': 4180, 'wang': 4181, 'bake': 4182, 'pocket': 4183, 'murray': 4184, 'fought': 4185, 'crippl': 4186, 'temper': 4187, 'sand': 4188, 'conduct': 4189, '1995': 4190, 'slam': 4191, '3000': 4192, 'behold': 4193, '2008': 4194, 'dreck': 4195, 'darn': 4196, 'joel': 4197, 'hallucin': 4198, 'patienc': 4199, 'enforc': 4200, 'sheet': 4201, 'fart': 4202, 'sunni': 4203, 'ritual': 4204, 'fabric': 4205, 'seldom': 4206, 'nicola': 4207, 'sustain': 4208, 'alec': 4209, 'malon': 4210, 'trait': 4211, '1971': 4212, 'tax': 4213, 'stark': 4214, 'rita': 4215, 'helpless': 4216, 'exhaust': 4217, 'runner': 4218, 'legaci': 4219, 'conscious': 4220, 'grief': 4221, 'robber': 4222, 'clau': 4223, 'outlin': 4224, 'squad': 4225, 'scriptwrit': 4226, 'phil': 4227, 'technicolor': 4228, 'shell': 4229, 'critiqu': 4230, 'stuart': 4231, 'pete': 4232, 'tactic': 4233, 'bridget': 4234, 'fundament': 4235, 'isabel': 4236, 'schedul': 4237, 'guitar': 4238, 'divid': 4239, 'despis': 4240, 'sweep': 4241, 'preston': 4242, 'penni': 4243, 'preposter': 4244, 'soup': 4245, 'canyon': 4246, 'bias': 4247, 'culmin': 4248, 'russia': 4249, 'liberti': 4250, 'palanc': 4251, 'unexpectedli': 4252, 'connor': 4253, 'inabl': 4254, 'drove': 4255, 'marc': 4256, 'alley': 4257, 'sniper': 4258, 'downey': 4259, 'jacket': 4260, 'boyl': 4261, 'sugar': 4262, 'restrict': 4263, 'passag': 4264, 'lacklust': 4265, 'gregori': 4266, 'delv': 4267, 'flair': 4268, 'invad': 4269, 'newman': 4270, 'consciou': 4271, 'kansa': 4272, 'propos': 4273, 'cigarett': 4274, 'bloom': 4275, 'sentinel': 4276, 'rear': 4277, 'rehash': 4278, 'implic': 4279, 'alicia': 4280, 'agenc': 4281, 'vomit': 4282, 'jodi': 4283, '22': 4284, 'sharon': 4285, 'behaviour': 4286, 'bacon': 4287, 'wrench': 4288, 'improb': 4289, 'awhil': 4290, 'delet': 4291, '1936': 4292, 'rampag': 4293, 'asylum': 4294, 'karl': 4295, 'rod': 4296, 'feat': 4297, 'lush': 4298, 'horn': 4299, 'rehears': 4300, 'pale': 4301, 'tendenc': 4302, 'yeti': 4303, 'aesthet': 4304, 'foxx': 4305, 'arrow': 4306, 'ladder': 4307, 'tripe': 4308, 'chainsaw': 4309, 'cap': 4310, 'kolchak': 4311, 'vet': 4312, 'mccoy': 4313, 'hungri': 4314, '19th': 4315, 'coaster': 4316, 'el': 4317, 'stream': 4318, 'sung': 4319, 'paramount': 4320, 'wagner': 4321, 'globe': 4322, 'paradis': 4323, 'financ': 4324, 'amazon': 4325, 'aristocrat': 4326, 'filler': 4327, 'weav': 4328, 'shortcom': 4329, 'suffici': 4330, 'elit': 4331, 'rumor': 4332, 'hackney': 4333, 'hulk': 4334, 'minu': 4335, '1978': 4336, 'tomorrow': 4337, '1920': 4338, 'wildli': 4339, 'suspicion': 4340, 'thunderbird': 4341, 'underneath': 4342, 'conscienc': 4343, 'lurk': 4344, 'loneli': 4345, 'spice': 4346, 'visitor': 4347, 'tasteless': 4348, 'basing': 4349, 'fright': 4350, 'prank': 4351, '1988': 4352, 'scoop': 4353, 'rhythm': 4354, 'newcom': 4355, 'wwe': 4356, '1939': 4357, 'immers': 4358, 'springer': 4359, '1989': 4360, 'teas': 4361, 'abrupt': 4362, 'heist': 4363, 'quietli': 4364, 'minist': 4365, 'literari': 4366, 'recogniz': 4367, 'straightforward': 4368, 'bread': 4369, 'hopkin': 4370, 'couch': 4371, 'tierney': 4372, 'smell': 4373, 'entranc': 4374, 'posey': 4375, 'lectur': 4376, 'penn': 4377, 'worship': 4378, 'dirt': 4379, 'secondari': 4380, 'counterpart': 4381, 'chavez': 4382, 'choppi': 4383, 'cancer': 4384, 'paxton': 4385, 'beverli': 4386, 'iv': 4387, 'atroc': 4388, 'brit': 4389, 'inmat': 4390, 'naughti': 4391, 'standout': 4392, 'ingeni': 4393, 'rub': 4394, 'chamberlain': 4395, 'en': 4396, 'impos': 4397, 'curli': 4398, 'leigh': 4399, 'grudg': 4400, 'ram': 4401, '75': 4402, 'skeptic': 4403, 'heartfelt': 4404, 'net': 4405, 'laurenc': 4406, 'transcend': 4407, 'sublim': 4408, 'variat': 4409, 'nemesi': 4410, 'lindsay': 4411, 'clan': 4412, 'yearn': 4413, 'quaid': 4414, 'esther': 4415, 'injuri': 4416, 'morbid': 4417, 'duel': 4418, 'ratso': 4419, 'moreov': 4420, 'entitl': 4421, 'convert': 4422, 'watcher': 4423, 'policeman': 4424, 'misguid': 4425, 'cattl': 4426, 'nolan': 4427, 'ace': 4428, 'geni': 4429, '1986': 4430, 'bernard': 4431, 'sassi': 4432, 'missil': 4433, 'attenborough': 4434, 'enthral': 4435, 'uncut': 4436, 'steadi': 4437, 'puppi': 4438, 'buzz': 4439, 'cruelti': 4440, 'facil': 4441, 'brood': 4442, 'rosemari': 4443, 'spiral': 4444, 'kitti': 4445, 'tyler': 4446, 'egg': 4447, 'hk': 4448, '1979': 4449, 'youngest': 4450, 'artsi': 4451, 'grin': 4452, 'obstacl': 4453, 'dont': 4454, 'kidman': 4455, 'characteris': 4456, 'carlito': 4457, 'graini': 4458, 'out': 4459, 'reliabl': 4460, 'moder': 4461, 'enabl': 4462, 'vader': 4463, 'mytholog': 4464, 'unexplain': 4465, 'bye': 4466, 'setup': 4467, 'hopelessli': 4468, 'bean': 4469, 'poe': 4470, 'diari': 4471, '1969': 4472, 'oblig': 4473, 'despic': 4474, 'disastr': 4475, 'bronson': 4476, 'baffl': 4477, 'martha': 4478, 'athlet': 4479, 'heap': 4480, 'effici': 4481, 'exterior': 4482, 'spontan': 4483, 'gina': 4484, 'decept': 4485, 'weather': 4486, 'preming': 4487, 'brendan': 4488, 'gillian': 4489, 'patricia': 4490, 'underworld': 4491, 'niec': 4492, 'acquaint': 4493, 'bounc': 4494, 'clueless': 4495, 'kline': 4496, 'hammi': 4497, 'fuel': 4498, 'bewar': 4499, 'christin': 4500, 'narrow': 4501, 'sweat': 4502, 'hain': 4503, 'dilemma': 4504, 'renaiss': 4505, 'sooner': 4506, 'shatter': 4507, 'viewpoint': 4508, 'candl': 4509, 'angst': 4510, 'suprem': 4511, 'virtu': 4512, 'circu': 4513, 'goof': 4514, 'astound': 4515, 'mayhem': 4516, 'housewif': 4517, 'insipid': 4518, 'hepburn': 4519, '73': 4520, 'biker': 4521, 'injur': 4522, 'trigger': 4523, 'enlist': 4524, 'tick': 4525, 'analyz': 4526, 'scar': 4527, 'loi': 4528, 'headach': 4529, 'rome': 4530, 'uh': 4531, 'dandi': 4532, '19': 4533, 'sleepwalk': 4534, 'loath': 4535, 'taboo': 4536, 'harmless': 4537, 'lester': 4538, 'outlaw': 4539, 'mermaid': 4540, 'preachi': 4541, 'fontain': 4542, 'tripl': 4543, 'oldest': 4544, 'idol': 4545, 'contempt': 4546, 'intric': 4547, 'redund': 4548, 'ariel': 4549, 'immatur': 4550, 'stimul': 4551, 'steer': 4552, 'hostag': 4553, 'boston': 4554, 'dismal': 4555, 'macho': 4556, 'foolish': 4557, 'amor': 4558, 'whore': 4559, 'scorses': 4560, 'surgeri': 4561, 'hooker': 4562, 'filth': 4563, 'stair': 4564, 'sox': 4565, 'glorifi': 4566, 'gere': 4567, 'salt': 4568, 'camcord': 4569, 'slimi': 4570, 'fluff': 4571, 'zoom': 4572, 'overlong': 4573, 'hokey': 4574, 'bent': 4575, 'guin': 4576, 'claustrophob': 4577, 'cassavet': 4578, 'phenomenon': 4579, 'ebert': 4580, 'dish': 4581, 'spade': 4582, 'corbett': 4583, 'trivia': 4584, 'widescreen': 4585, 'mount': 4586, 'remad': 4587, 'mutual': 4588, 'assert': 4589, 'muscl': 4590, 'faint': 4591, 'fascist': 4592, 'zane': 4593, 'messi': 4594, 'conquer': 4595, 'obligatori': 4596, 'cow': 4597, 'antagonist': 4598, 'down': 4599, 'flag': 4600, 'preced': 4601, 'spree': 4602, 'shield': 4603, 'flashi': 4604, 'dwarf': 4605, 'beard': 4606, 'alvin': 4607, 'gasp': 4608, 'naschi': 4609, 'nolt': 4610, 'flirt': 4611, '1981': 4612, 'keen': 4613, 'transplant': 4614, 'frantic': 4615, 'strongest': 4616, 'proport': 4617, '1976': 4618, 'perman': 4619, 'harold': 4620, 'shred': 4621, 'schlock': 4622, 'spinal': 4623, 'joker': 4624, 'corman': 4625, 'cush': 4626, 'radiat': 4627, 'cohen': 4628, 'rhyme': 4629, 'margin': 4630, 'astronaut': 4631, 'gabl': 4632, '1945': 4633, 'someday': 4634, 'brush': 4635, 'flock': 4636, 'www': 4637, 'fishburn': 4638, 'off': 4639, 'claud': 4640, 'repris': 4641, 'inflict': 4642, 'carey': 4643, 'divin': 4644, 'mol': 4645, 'discern': 4646, 'sensual': 4647, 'scandal': 4648, 'interestingli': 4649, 'barn': 4650, 'instruct': 4651, 'departur': 4652, 'ritchi': 4653, 'info': 4654, 'resum': 4655, 'neurot': 4656, 'danish': 4657, 'vaniti': 4658, 'strive': 4659, 'triangl': 4660, 'deer': 4661, 'boob': 4662, 'wield': 4663, 'hara': 4664, 'bitten': 4665, 'bachelor': 4666, 'archiv': 4667, '28': 4668, '95': 4669, 'mobil': 4670, 'aborigin': 4671, 'persuad': 4672, 'raj': 4673, 'harrison': 4674, 'pixar': 4675, 'dim': 4676, 'loretta': 4677, 'traffic': 4678, 'cb': 4679, 'jade': 4680, 'earnest': 4681, 'cycl': 4682, 'submit': 4683, 'hug': 4684, 'senior': 4685, 'vibrant': 4686, 'hilar': 4687, 'banter': 4688, 'helm': 4689, 'recit': 4690, 'ish': 4691, 'mobster': 4692, 'axe': 4693, 'wendigo': 4694, 'proclaim': 4695, 'hapless': 4696, 'colin': 4697, 'cher': 4698, 'dylan': 4699, 'melissa': 4700, 'dame': 4701, 'undermin': 4702, 'bate': 4703, 'pickford': 4704, 'neill': 4705, 'miracul': 4706, 'rot': 4707, 'kathryn': 4708, 'carlo': 4709, 'prophet': 4710, 'frontier': 4711, 'clad': 4712, 'pacif': 4713, 'artwork': 4714, 'luka': 4715, 'cliffhang': 4716, 'anton': 4717, 'biblic': 4718, 'fragil': 4719, 'parson': 4720, 'heartwarm': 4721, 'europa': 4722, 'casino': 4723, 'timberlak': 4724, 'feast': 4725, 'nope': 4726, 'aris': 4727, 'rooki': 4728, 'toronto': 4729, 'jo': 4730, 'akin': 4731, 'vile': 4732, 'seedi': 4733, 'static': 4734, 'mason': 4735, 'bondag': 4736, 'pc': 4737, 'lucil': 4738, 'http': 4739, 'electron': 4740, 'estrang': 4741, 'flavor': 4742, 'vanessa': 4743, 'wardrob': 4744, 'redneck': 4745, 'illus': 4746, 'razor': 4747, 'holocaust': 4748, 'blatantli': 4749, 'lui': 4750, 'shepherd': 4751, 'cerebr': 4752, 'venom': 4753, 'choke': 4754, 'isra': 4755, 'antholog': 4756, 'northern': 4757, 'mathieu': 4758, 'uma': 4759, 'token': 4760, 'legitim': 4761, 'eli': 4762, 'sicken': 4763, 'orphan': 4764, 'bikini': 4765, 'marlon': 4766, 'misfortun': 4767, 'articl': 4768, 'trier': 4769, 'foil': 4770, 'alexandr': 4771, 'milo': 4772, 'winchest': 4773, 'jordan': 4774, 'breakfast': 4775, 'huston': 4776, 'clinic': 4777, 'howl': 4778, 'smack': 4779, 'styliz': 4780, 'linear': 4781, 'turd': 4782, 'retriev': 4783, 'wrestler': 4784, 'tack': 4785, 'outdat': 4786, 'peer': 4787, 'knightley': 4788, 'audrey': 4789, 'glare': 4790, 'deem': 4791, 'leather': 4792, 'charlton': 4793, 'comprehend': 4794, 'affleck': 4795, 'abund': 4796, 'oppon': 4797, 'magician': 4798, 'ideolog': 4799, 'frog': 4800, 'psych': 4801, 'swept': 4802, 'ceremoni': 4803, 'nightclub': 4804, 'gilbert': 4805, 'cartoonish': 4806, 'shorter': 4807, 'dudley': 4808, 'highway': 4809, 'feminin': 4810, 'boyer': 4811, 'disregard': 4812, 'fifth': 4813, 'gunga': 4814, 'conrad': 4815, 'uniformli': 4816, 'lavish': 4817, 'toe': 4818, 'monument': 4819, 'mitch': 4820, 'breakdown': 4821, 'snatch': 4822, 'whack': 4823, 'cuban': 4824, 'bastard': 4825, 'plate': 4826, 'bogu': 4827, 'senat': 4828, 'chip': 4829, 'boo': 4830, 'spawn': 4831, 'greet': 4832, 'client': 4833, 'durat': 4834, 'potter': 4835, 'energet': 4836, 'braveheart': 4837, 'btw': 4838, 'lifeless': 4839, 'tara': 4840, 'corn': 4841, 'einstein': 4842, 'summar': 4843, 'compris': 4844, 'goldsworthi': 4845, 'phenomen': 4846, 'lighter': 4847, 'spine': 4848, 'sleaz': 4849, '4th': 4850, 'newer': 4851, '1991': 4852, 'cemeteri': 4853, 'deliver': 4854, 'evolut': 4855, 'collector': 4856, 'salman': 4857, 'moe': 4858, '1994': 4859, 'historian': 4860, 'capot': 4861, 'liu': 4862, 'ol': 4863, 'replay': 4864, 'gilliam': 4865, 'spectacl': 4866, 'sorrow': 4867, 'neatli': 4868, 'bulk': 4869, 'constitut': 4870, 'kent': 4871, 'randolph': 4872, 'clara': 4873, 'healthi': 4874, 'lex': 4875, 'judd': 4876, 'creek': 4877, 'luxuri': 4878, 'undertak': 4879, 'belli': 4880, 'signal': 4881, 'outright': 4882, 'cecil': 4883, 'jare': 4884, 'fluid': 4885, 'jam': 4886, 'armstrong': 4887, '1977': 4888, '1974': 4889, 'jedi': 4890, 'alleg': 4891, 'ie': 4892, 'occup': 4893, 'trauma': 4894, 'eleven': 4895, 'jule': 4896, 'firmli': 4897, 'nina': 4898, 'inaccuraci': 4899, 'bori': 4900, 'undead': 4901, 'embark': 4902, 'evelyn': 4903, 'mcqueen': 4904, 'pronounc': 4905, 'wtf': 4906, 'appl': 4907, 'kazan': 4908, 'aussi': 4909, 'truman': 4910, 'sacrif': 4911, 'meal': 4912, 'abound': 4913, 'poker': 4914, 'lanc': 4915, 'genet': 4916, 'paula': 4917, 'mum': 4918, 'unsuspect': 4919, 'congratul': 4920, '1985': 4921, 'subtli': 4922, 'basket': 4923, 'inclus': 4924, 'curtain': 4925, 'sidewalk': 4926, 'id': 4927, 'inaccur': 4928, 'fruit': 4929, 'walt': 4930, 'carmen': 4931, 'vain': 4932, 'cape': 4933, 'forgiven': 4934, 'conan': 4935, 'goldblum': 4936, 'decapit': 4937, 'spray': 4938, 'palm': 4939, 'pioneer': 4940, 'knee': 4941, 'relentless': 4942, 'ash': 4943, 'porter': 4944, 'comb': 4945, 'blur': 4946, 'propheci': 4947, 'lauren': 4948, 'pepper': 4949, 'antonio': 4950, 'miniseri': 4951, 'kiddi': 4952, 'rosario': 4953, 'groan': 4954, 'vignett': 4955, 'galaxi': 4956, 'tokyo': 4957, 'miami': 4958, 'roar': 4959, 'comprehens': 4960, 'bait': 4961, 'bsg': 4962, 'unattract': 4963, 'cypher': 4964, 'rapidli': 4965, 'playboy': 4966, 'weari': 4967, 'bach': 4968, 'optimist': 4969, 'masterson': 4970, 'weaker': 4971, 'assort': 4972, 'verg': 4973, 'orchestr': 4974, 'scarfac': 4975, 'frontal': 4976, 'hackman': 4977, 'profil': 4978, 'vastli': 4979, 'detach': 4980, 'growth': 4981, 'monti': 4982, 'ingrid': 4983, 'sparkl': 4984, 'motorcycl': 4985, 'turtl': 4986, 'reincarn': 4987, 'bravo': 4988, 'epitom': 4989, 'jill': 4990, 'scariest': 4991, 'handicap': 4992, 'drone': 4993, 'modest': 4994, 'spill': 4995, 'macabr': 4996, '21st': 4997, 'victorian': 4998, 'sophi': 4999}\n"
     ]
    }
   ],
   "source": [
    "# TODO: Use this space to determine the five most frequently appearing words in the training set.\n",
    "print(word_dict)"
   ]
  },
  {
   "cell_type": "markdown",
   "metadata": {},
   "source": [
    "### Save `word_dict`\n",
    "\n",
    "Later on when we construct an endpoint which processes a submitted review we will need to make use of the `word_dict` which we have created. As such, we will save it to a file now for future use."
   ]
  },
  {
   "cell_type": "code",
   "execution_count": 14,
   "metadata": {},
   "outputs": [],
   "source": [
    "data_dir = '../data/pytorch' # The folder we will use for storing data\n",
    "if not os.path.exists(data_dir): # Make sure that the folder exists\n",
    "    os.makedirs(data_dir)"
   ]
  },
  {
   "cell_type": "code",
   "execution_count": 15,
   "metadata": {},
   "outputs": [],
   "source": [
    "with open(os.path.join(data_dir, 'word_dict.pkl'), \"wb\") as f:\n",
    "    pickle.dump(word_dict, f)"
   ]
  },
  {
   "cell_type": "markdown",
   "metadata": {},
   "source": [
    "### Transform the reviews\n",
    "\n",
    "Now that we have our word dictionary which allows us to transform the words appearing in the reviews into integers, it is time to make use of it and convert our reviews to their integer sequence representation, making sure to pad or truncate to a fixed length, which in our case is `500`."
   ]
  },
  {
   "cell_type": "code",
   "execution_count": 16,
   "metadata": {},
   "outputs": [],
   "source": [
    "def convert_and_pad(word_dict, sentence, pad=500):\n",
    "    NOWORD = 0 # We will use 0 to represent the 'no word' category\n",
    "    INFREQ = 1 # and we use 1 to represent the infrequent words, i.e., words not appearing in word_dict\n",
    "    \n",
    "    working_sentence = [NOWORD] * pad\n",
    "    \n",
    "    for word_index, word in enumerate(sentence[:pad]):\n",
    "        if word in word_dict:\n",
    "            working_sentence[word_index] = word_dict[word]\n",
    "        else:\n",
    "            working_sentence[word_index] = INFREQ\n",
    "            \n",
    "    return working_sentence, min(len(sentence), pad)\n",
    "\n",
    "def convert_and_pad_data(word_dict, data, pad=500):\n",
    "    result = []\n",
    "    lengths = []\n",
    "    \n",
    "    for sentence in data:\n",
    "        converted, leng = convert_and_pad(word_dict, sentence, pad)\n",
    "        result.append(converted)\n",
    "        lengths.append(leng)\n",
    "        \n",
    "    return np.array(result), np.array(lengths)"
   ]
  },
  {
   "cell_type": "code",
   "execution_count": 17,
   "metadata": {},
   "outputs": [],
   "source": [
    "train_X, train_X_len = convert_and_pad_data(word_dict, train_X)\n",
    "test_X, test_X_len = convert_and_pad_data(word_dict, test_X)"
   ]
  },
  {
   "cell_type": "markdown",
   "metadata": {},
   "source": [
    "As a quick check to make sure that things are working as intended, check to see what one of the reviews in the training set looks like after having been processeed. Does this look reasonable? What is the length of a review in the training set?"
   ]
  },
  {
   "cell_type": "code",
   "execution_count": 18,
   "metadata": {},
   "outputs": [
    {
     "name": "stdout",
     "output_type": "stream",
     "text": [
      "[[  19   44    1 ...    0    0    0]\n",
      " [ 317  328 1392 ...    0    0    0]\n",
      " [ 524  787  192 ...    0    0    0]\n",
      " ...\n",
      " [   3    1    1 ...    0    0    0]\n",
      " [  28  135    2 ...    0    0    0]\n",
      " [  38  559  242 ...    0    0    0]]\n",
      "[111  65  59 ...  85 130  78]\n"
     ]
    }
   ],
   "source": [
    "# Use this cell to examine one of the processed reviews to make sure everything is working as intended.\n",
    "print(train_X[:10])\n",
    "print(train_X_len)"
   ]
  },
  {
   "cell_type": "markdown",
   "metadata": {},
   "source": [
    "**Question:** In the cells above we use the `preprocess_data` and `convert_and_pad_data` methods to process both the training and testing set. Why or why not might this be a problem?"
   ]
  },
  {
   "cell_type": "markdown",
   "metadata": {},
   "source": [
    "**Answer:**  In the training process we need the dict  in word so that we could train the model  in the testing process we need it as sentence to make prediction to measure how good is the model  \n"
   ]
  },
  {
   "cell_type": "markdown",
   "metadata": {},
   "source": [
    "## Step 3: Upload the data to S3\n",
    "\n",
    "As in the XGBoost notebook, we will need to upload the training dataset to S3 in order for our training code to access it. For now we will save it locally and we will upload to S3 later on.\n",
    "\n",
    "### Save the processed training dataset locally\n",
    "\n",
    "It is important to note the format of the data that we are saving as we will need to know it when we write the training code. In our case, each row of the dataset has the form `label`, `length`, `review[500]` where `review[500]` is a sequence of `500` integers representing the words in the review."
   ]
  },
  {
   "cell_type": "code",
   "execution_count": 19,
   "metadata": {},
   "outputs": [],
   "source": [
    "import pandas as pd\n",
    "    \n",
    "pd.concat([pd.DataFrame(train_y), pd.DataFrame(train_X_len), pd.DataFrame(train_X)], axis=1) \\\n",
    "        .to_csv(os.path.join(data_dir, 'train.csv'), header=False, index=False)"
   ]
  },
  {
   "cell_type": "markdown",
   "metadata": {},
   "source": [
    "### Uploading the training data\n",
    "\n",
    "\n",
    "Next, we need to upload the training data to the SageMaker default S3 bucket so that we can provide access to it while training our model."
   ]
  },
  {
   "cell_type": "code",
   "execution_count": 20,
   "metadata": {},
   "outputs": [],
   "source": [
    "import sagemaker\n",
    "\n",
    "sagemaker_session = sagemaker.Session()\n",
    "\n",
    "bucket = sagemaker_session.default_bucket()\n",
    "prefix = 'sagemaker/sentiment_rnn'\n",
    "\n",
    "role = sagemaker.get_execution_role()"
   ]
  },
  {
   "cell_type": "code",
   "execution_count": 21,
   "metadata": {},
   "outputs": [],
   "source": [
    "input_data = sagemaker_session.upload_data(path=data_dir, bucket=bucket, key_prefix=prefix)"
   ]
  },
  {
   "cell_type": "markdown",
   "metadata": {},
   "source": [
    "**NOTE:** The cell above uploads the entire contents of our data directory. This includes the `word_dict.pkl` file. This is fortunate as we will need this later on when we create an endpoint that accepts an arbitrary review. For now, we will just take note of the fact that it resides in the data directory (and so also in the S3 training bucket) and that we will need to make sure it gets saved in the model directory."
   ]
  },
  {
   "cell_type": "markdown",
   "metadata": {},
   "source": [
    "## Step 4: Build and Train the PyTorch Model\n",
    "\n",
    "In the XGBoost notebook we discussed what a model is in the SageMaker framework. In particular, a model comprises three objects\n",
    "\n",
    " - Model Artifacts,\n",
    " - Training Code, and\n",
    " - Inference Code,\n",
    " \n",
    "each of which interact with one another. In the XGBoost example we used training and inference code that was provided by Amazon. Here we will still be using containers provided by Amazon with the added benefit of being able to include our own custom code.\n",
    "\n",
    "We will start by implementing our own neural network in PyTorch along with a training script. For the purposes of this project we have provided the necessary model object in the `model.py` file, inside of the `train` folder. You can see the provided implementation by running the cell below."
   ]
  },
  {
   "cell_type": "code",
   "execution_count": 22,
   "metadata": {},
   "outputs": [
    {
     "name": "stdout",
     "output_type": "stream",
     "text": [
      "\u001b[34mimport\u001b[39;49;00m \u001b[04m\u001b[36mtorch\u001b[39;49;00m\u001b[04m\u001b[36m.\u001b[39;49;00m\u001b[04m\u001b[36mnn\u001b[39;49;00m \u001b[34mas\u001b[39;49;00m \u001b[04m\u001b[36mnn\u001b[39;49;00m\n",
      "\n",
      "\u001b[34mclass\u001b[39;49;00m \u001b[04m\u001b[32mLSTMClassifier\u001b[39;49;00m(nn.Module):\n",
      "    \u001b[33m\"\"\"\u001b[39;49;00m\n",
      "\u001b[33m    This is the simple RNN model we will be using to perform Sentiment Analysis.\u001b[39;49;00m\n",
      "\u001b[33m    \"\"\"\u001b[39;49;00m\n",
      "\n",
      "    \u001b[34mdef\u001b[39;49;00m \u001b[32m__init__\u001b[39;49;00m(\u001b[36mself\u001b[39;49;00m, embedding_dim, hidden_dim, vocab_size):\n",
      "        \u001b[33m\"\"\"\u001b[39;49;00m\n",
      "\u001b[33m        Initialize the model by settingg up the various layers.\u001b[39;49;00m\n",
      "\u001b[33m        \"\"\"\u001b[39;49;00m\n",
      "        \u001b[36msuper\u001b[39;49;00m(LSTMClassifier, \u001b[36mself\u001b[39;49;00m).\u001b[32m__init__\u001b[39;49;00m()\n",
      "\n",
      "        \u001b[36mself\u001b[39;49;00m.embedding = nn.Embedding(vocab_size, embedding_dim, padding_idx=\u001b[34m0\u001b[39;49;00m)\n",
      "        \u001b[36mself\u001b[39;49;00m.lstm = nn.LSTM(embedding_dim, hidden_dim)\n",
      "        \u001b[36mself\u001b[39;49;00m.dense = nn.Linear(in_features=hidden_dim, out_features=\u001b[34m1\u001b[39;49;00m)\n",
      "        \u001b[36mself\u001b[39;49;00m.sig = nn.Sigmoid()\n",
      "        \n",
      "        \u001b[36mself\u001b[39;49;00m.word_dict = \u001b[34mNone\u001b[39;49;00m\n",
      "\n",
      "    \u001b[34mdef\u001b[39;49;00m \u001b[32mforward\u001b[39;49;00m(\u001b[36mself\u001b[39;49;00m, x):\n",
      "        \u001b[33m\"\"\"\u001b[39;49;00m\n",
      "\u001b[33m        Perform a forward pass of our model on some input.\u001b[39;49;00m\n",
      "\u001b[33m        \"\"\"\u001b[39;49;00m\n",
      "        x = x.t()\n",
      "        lengths = x[\u001b[34m0\u001b[39;49;00m,:]\n",
      "        reviews = x[\u001b[34m1\u001b[39;49;00m:,:]\n",
      "        embeds = \u001b[36mself\u001b[39;49;00m.embedding(reviews)\n",
      "        lstm_out, _ = \u001b[36mself\u001b[39;49;00m.lstm(embeds)\n",
      "        out = \u001b[36mself\u001b[39;49;00m.dense(lstm_out)\n",
      "        out = out[lengths - \u001b[34m1\u001b[39;49;00m, \u001b[36mrange\u001b[39;49;00m(\u001b[36mlen\u001b[39;49;00m(lengths))]\n",
      "        \u001b[34mreturn\u001b[39;49;00m \u001b[36mself\u001b[39;49;00m.sig(out.squeeze())\n"
     ]
    }
   ],
   "source": [
    "!pygmentize train/model.py"
   ]
  },
  {
   "cell_type": "markdown",
   "metadata": {},
   "source": [
    "The important takeaway from the implementation provided is that there are three parameters that we may wish to tweak to improve the performance of our model. These are the embedding dimension, the hidden dimension and the size of the vocabulary. We will likely want to make these parameters configurable in the training script so that if we wish to modify them we do not need to modify the script itself. We will see how to do this later on. To start we will write some of the training code in the notebook so that we can more easily diagnose any issues that arise.\n",
    "\n",
    "First we will load a small portion of the training data set to use as a sample. It would be very time consuming to try and train the model completely in the notebook as we do not have access to a gpu and the compute instance that we are using is not particularly powerful. However, we can work on a small bit of the data to get a feel for how our training script is behaving."
   ]
  },
  {
   "cell_type": "code",
   "execution_count": 23,
   "metadata": {},
   "outputs": [],
   "source": [
    "import torch\n",
    "import torch.utils.data\n",
    "\n",
    "# Read in only the first 250 rows\n",
    "train_sample = pd.read_csv(os.path.join(data_dir, 'train.csv'), header=None, names=None, nrows=250)\n",
    "# Turn the input pandas dataframe into tensors\n",
    "train_sample_y = torch.from_numpy(train_sample[[0]].values).float().squeeze()\n",
    "train_sample_X = torch.from_numpy(train_sample.drop([0], axis=1).values).long()\n",
    "\n",
    "# Build the dataset\n",
    "train_sample_ds = torch.utils.data.TensorDataset(train_sample_X, train_sample_y)\n",
    "# Build the dataloader\n",
    "train_sample_dl = torch.utils.data.DataLoader(train_sample_ds, batch_size=50)"
   ]
  },
  {
   "cell_type": "markdown",
   "metadata": {},
   "source": [
    "### (TODO) Writing the training method\n",
    "\n",
    "Next we need to write the training code itself. This should be very similar to training methods that you have written before to train PyTorch models. We will leave any difficult aspects such as model saving / loading and parameter loading until a little later."
   ]
  },
  {
   "cell_type": "code",
   "execution_count": 24,
   "metadata": {},
   "outputs": [],
   "source": [
    "import torch.nn as nn\n",
    "def train(model, train_loader, epochs, optimizer, loss_fn, device):\n",
    "    for epoch in range(1, epochs + 1):\n",
    "        model.train()\n",
    "        total_loss = 0\n",
    "        for batch in train_loader:         \n",
    "            batch_X, batch_y = batch\n",
    "            batch_X = batch_X.to(device)\n",
    "            batch_y = batch_y.to(device)\n",
    "            # TODO: Complete this train method to train the model provided.\n",
    "            optimizer.zero_grad()\n",
    "            output= model(batch_X)\n",
    "            loss = loss_fn(output.squeeze(), batch_y.float())\n",
    "            loss.backward()\n",
    "            nn.utils.clip_grad_norm_(model.parameters(), 5)\n",
    "            optimizer.step()\n",
    "            total_loss += loss.data.item()\n",
    "        print(\"Epoch: {}, BCELoss: {}\".format(epoch, total_loss / len(train_loader)))\n"
   ]
  },
  {
   "cell_type": "markdown",
   "metadata": {},
   "source": [
    "Supposing we have the training method above, we will test that it is working by writing a bit of code in the notebook that executes our training method on the small sample training set that we loaded earlier. The reason for doing this in the notebook is so that we have an opportunity to fix any errors that arise early when they are easier to diagnose."
   ]
  },
  {
   "cell_type": "code",
   "execution_count": 25,
   "metadata": {},
   "outputs": [
    {
     "name": "stdout",
     "output_type": "stream",
     "text": [
      "Epoch: 1, BCELoss: 0.6958561539649963\n",
      "Epoch: 2, BCELoss: 0.686662220954895\n",
      "Epoch: 3, BCELoss: 0.6787163615226746\n",
      "Epoch: 4, BCELoss: 0.6697877168655395\n",
      "Epoch: 5, BCELoss: 0.6586626172065735\n"
     ]
    }
   ],
   "source": [
    "import torch.optim as optim\n",
    "from train.model import LSTMClassifier\n",
    "\n",
    "device = torch.device(\"cuda\" if torch.cuda.is_available() else \"cpu\")\n",
    "model = LSTMClassifier(32, 100, 5000).to(device)\n",
    "optimizer = optim.Adam(model.parameters())\n",
    "loss_fn = torch.nn.BCELoss()\n",
    "\n",
    "train(model, train_sample_dl, 5, optimizer, loss_fn, device)"
   ]
  },
  {
   "cell_type": "markdown",
   "metadata": {},
   "source": [
    "In order to construct a PyTorch model using SageMaker we must provide SageMaker with a training script. We may optionally include a directory which will be copied to the container and from which our training code will be run. When the training container is executed it will check the uploaded directory (if there is one) for a `requirements.txt` file and install any required Python libraries, after which the training script will be run."
   ]
  },
  {
   "cell_type": "markdown",
   "metadata": {},
   "source": [
    "### (TODO) Training the model\n",
    "\n",
    "When a PyTorch model is constructed in SageMaker, an entry point must be specified. This is the Python file which will be executed when the model is trained. Inside of the `train` directory is a file called `train.py` which has been provided and which contains most of the necessary code to train our model. The only thing that is missing is the implementation of the `train()` method which you wrote earlier in this notebook.\n",
    "\n",
    "**TODO**: Copy the `train()` method written above and paste it into the `train/train.py` file where required.\n",
    "\n",
    "The way that SageMaker passes hyperparameters to the training script is by way of arguments. These arguments can then be parsed and used in the training script. To see how this is done take a look at the provided `train/train.py` file."
   ]
  },
  {
   "cell_type": "code",
   "execution_count": 26,
   "metadata": {},
   "outputs": [
    {
     "name": "stderr",
     "output_type": "stream",
     "text": [
      "train_instance_count has been renamed in sagemaker>=2.\n",
      "See: https://sagemaker.readthedocs.io/en/stable/v2.html for details.\n",
      "train_instance_type has been renamed in sagemaker>=2.\n",
      "See: https://sagemaker.readthedocs.io/en/stable/v2.html for details.\n"
     ]
    }
   ],
   "source": [
    "from sagemaker.pytorch import PyTorch\n",
    "\n",
    "estimator = PyTorch(entry_point=\"train.py\",\n",
    "                    source_dir=\"train\",\n",
    "                    role=role,\n",
    "                    framework_version='0.4.0',\n",
    "                    py_version=\"py3\",\n",
    "                    train_instance_count=1,\n",
    "                    train_instance_type='ml.p2.xlarge',\n",
    "                    hyperparameters={\n",
    "                        'epochs': 10,\n",
    "                        'hidden_dim': 200,\n",
    "                    })"
   ]
  },
  {
   "cell_type": "code",
   "execution_count": 27,
   "metadata": {},
   "outputs": [
    {
     "name": "stdout",
     "output_type": "stream",
     "text": [
      "2022-01-13 08:53:19 Starting - Starting the training job...\n",
      "2022-01-13 08:53:20 Starting - Launching requested ML instancesProfilerReport-1642063998: InProgress\n",
      "......\n",
      "2022-01-13 08:54:49 Starting - Preparing the instances for training............\n",
      "2022-01-13 08:56:49 Downloading - Downloading input data...\n",
      "2022-01-13 08:57:10 Training - Downloading the training image..\u001b[34mbash: cannot set terminal process group (-1): Inappropriate ioctl for device\u001b[0m\n",
      "\u001b[34mbash: no job control in this shell\u001b[0m\n",
      "\u001b[34m2022-01-13 08:57:24,755 sagemaker-containers INFO     Imported framework sagemaker_pytorch_container.training\u001b[0m\n",
      "\u001b[34m2022-01-13 08:57:24,783 sagemaker_pytorch_container.training INFO     Block until all host DNS lookups succeed.\u001b[0m\n",
      "\u001b[34m2022-01-13 08:57:27,801 sagemaker_pytorch_container.training INFO     Invoking user training script.\u001b[0m\n",
      "\u001b[34m2022-01-13 08:57:28,140 sagemaker-containers INFO     Module train does not provide a setup.py. \u001b[0m\n",
      "\u001b[34mGenerating setup.py\u001b[0m\n",
      "\u001b[34m2022-01-13 08:57:28,141 sagemaker-containers INFO     Generating setup.cfg\u001b[0m\n",
      "\u001b[34m2022-01-13 08:57:28,141 sagemaker-containers INFO     Generating MANIFEST.in\u001b[0m\n",
      "\u001b[34m2022-01-13 08:57:28,141 sagemaker-containers INFO     Installing module with the following command:\u001b[0m\n",
      "\u001b[34m/usr/bin/python -m pip install -U . -r requirements.txt\u001b[0m\n",
      "\u001b[34mProcessing /opt/ml/code\u001b[0m\n",
      "\u001b[34mCollecting pandas (from -r requirements.txt (line 1))\n",
      "  Downloading https://files.pythonhosted.org/packages/74/24/0cdbf8907e1e3bc5a8da03345c23cbed7044330bb8f73bb12e711a640a00/pandas-0.24.2-cp35-cp35m-manylinux1_x86_64.whl (10.0MB)\u001b[0m\n",
      "\u001b[34mCollecting numpy (from -r requirements.txt (line 2))\u001b[0m\n",
      "\u001b[34m  Downloading https://files.pythonhosted.org/packages/b5/36/88723426b4ff576809fec7d73594fe17a35c27f8d01f93637637a29ae25b/numpy-1.18.5-cp35-cp35m-manylinux1_x86_64.whl (19.9MB)\u001b[0m\n",
      "\u001b[34mCollecting nltk (from -r requirements.txt (line 3))\n",
      "  Downloading https://files.pythonhosted.org/packages/5e/37/9532ddd4b1bbb619333d5708aaad9bf1742f051a664c3c6fa6632a105fd8/nltk-3.6.2-py3-none-any.whl (1.5MB)\u001b[0m\n",
      "\u001b[34mCollecting beautifulsoup4 (from -r requirements.txt (line 4))\n",
      "  Downloading https://files.pythonhosted.org/packages/69/bf/f0f194d3379d3f3347478bd267f754fc68c11cbf2fe302a6ab69447b1417/beautifulsoup4-4.10.0-py3-none-any.whl (97kB)\u001b[0m\n",
      "\u001b[34mCollecting html5lib (from -r requirements.txt (line 5))\n",
      "  Downloading https://files.pythonhosted.org/packages/6c/dd/a834df6482147d48e225a49515aabc28974ad5a4ca3215c18a882565b028/html5lib-1.1-py2.py3-none-any.whl (112kB)\u001b[0m\n",
      "\u001b[34mCollecting pytz>=2011k (from pandas->-r requirements.txt (line 1))\n",
      "  Downloading https://files.pythonhosted.org/packages/d3/e3/d9f046b5d1c94a3aeab15f1f867aa414f8ee9d196fae6865f1d6a0ee1a0b/pytz-2021.3-py2.py3-none-any.whl (503kB)\u001b[0m\n",
      "\u001b[34mRequirement already satisfied, skipping upgrade: python-dateutil>=2.5.0 in /usr/local/lib/python3.5/dist-packages (from pandas->-r requirements.txt (line 1)) (2.7.5)\u001b[0m\n",
      "\u001b[34mCollecting tqdm (from nltk->-r requirements.txt (line 3))\u001b[0m\n",
      "\u001b[34m  Downloading https://files.pythonhosted.org/packages/63/f3/b7a1b8e40fd1bd049a34566eb353527bb9b8e9b98f8b6cf803bb64d8ce95/tqdm-4.62.3-py2.py3-none-any.whl (76kB)\u001b[0m\n",
      "\u001b[34mRequirement already satisfied, skipping upgrade: click in /usr/local/lib/python3.5/dist-packages (from nltk->-r requirements.txt (line 3)) (7.0)\u001b[0m\n",
      "\u001b[34mCollecting regex (from nltk->-r requirements.txt (line 3))\n",
      "  Downloading https://files.pythonhosted.org/packages/97/cd/93ad08b2f97ec95da0bd860380ce0ac7481eaccc760356ee11eda369c048/regex-2021.11.10.tar.gz (702kB)\u001b[0m\n",
      "\u001b[34mCollecting joblib (from nltk->-r requirements.txt (line 3))\n",
      "  Downloading https://files.pythonhosted.org/packages/28/5c/cf6a2b65a321c4a209efcdf64c2689efae2cb62661f8f6f4bb28547cf1bf/joblib-0.14.1-py2.py3-none-any.whl (294kB)\u001b[0m\n",
      "\u001b[34mCollecting soupsieve>1.2 (from beautifulsoup4->-r requirements.txt (line 4))\n",
      "  Downloading https://files.pythonhosted.org/packages/02/fb/1c65691a9aeb7bd6ac2aa505b84cb8b49ac29c976411c6ab3659425e045f/soupsieve-2.1-py3-none-any.whl\u001b[0m\n",
      "\u001b[34mCollecting webencodings (from html5lib->-r requirements.txt (line 5))\n",
      "  Downloading https://files.pythonhosted.org/packages/f4/24/2a3e3df732393fed8b3ebf2ec078f05546de641fe1b667ee316ec1dcf3b7/webencodings-0.5.1-py2.py3-none-any.whl\u001b[0m\n",
      "\u001b[34mRequirement already satisfied, skipping upgrade: six>=1.9 in /usr/local/lib/python3.5/dist-packages (from html5lib->-r requirements.txt (line 5)) (1.11.0)\u001b[0m\n",
      "\u001b[34mBuilding wheels for collected packages: train, regex\n",
      "  Running setup.py bdist_wheel for train: started\n",
      "  Running setup.py bdist_wheel for train: finished with status 'done'\n",
      "  Stored in directory: /tmp/pip-ephem-wheel-cache-2endtzcw/wheels/35/24/16/37574d11bf9bde50616c67372a334f94fa8356bc7164af8ca3\n",
      "  Running setup.py bdist_wheel for regex: started\u001b[0m\n",
      "\n",
      "2022-01-13 08:57:50 Training - Training image download completed. Training in progress.\u001b[34m  Running setup.py bdist_wheel for regex: finished with status 'done'\n",
      "  Stored in directory: /root/.cache/pip/wheels/cd/5d/f5/8d8fa6ffd0251556598eb71da0c5c0374bca976273ade005ed\u001b[0m\n",
      "\u001b[34mSuccessfully built train regex\u001b[0m\n",
      "\u001b[34mInstalling collected packages: numpy, pytz, pandas, tqdm, regex, joblib, nltk, soupsieve, beautifulsoup4, webencodings, html5lib, train\n",
      "  Found existing installation: numpy 1.15.4\n",
      "    Uninstalling numpy-1.15.4:\u001b[0m\n",
      "\u001b[34m      Successfully uninstalled numpy-1.15.4\u001b[0m\n",
      "\u001b[34mSuccessfully installed beautifulsoup4-4.10.0 html5lib-1.1 joblib-0.14.1 nltk-3.6.2 numpy-1.18.5 pandas-0.24.2 pytz-2021.3 regex-2021.11.10 soupsieve-2.1 tqdm-4.62.3 train-1.0.0 webencodings-0.5.1\u001b[0m\n",
      "\u001b[34mYou are using pip version 18.1, however version 20.3.4 is available.\u001b[0m\n",
      "\u001b[34mYou should consider upgrading via the 'pip install --upgrade pip' command.\u001b[0m\n",
      "\u001b[34m2022-01-13 08:57:53,087 sagemaker-containers INFO     Invoking user script\u001b[0m\n",
      "\u001b[34mTraining Env:\u001b[0m\n",
      "\u001b[34m{\n",
      "    \"num_cpus\": 4,\n",
      "    \"model_dir\": \"/opt/ml/model\",\n",
      "    \"additional_framework_parameters\": {},\n",
      "    \"output_dir\": \"/opt/ml/output\",\n",
      "    \"current_host\": \"algo-1\",\n",
      "    \"hosts\": [\n",
      "        \"algo-1\"\n",
      "    ],\n",
      "    \"module_dir\": \"s3://sagemaker-us-east-1-275586926063/sagemaker-pytorch-2022-01-13-08-53-18-570/source/sourcedir.tar.gz\",\n",
      "    \"framework_module\": \"sagemaker_pytorch_container.training:main\",\n",
      "    \"job_name\": \"sagemaker-pytorch-2022-01-13-08-53-18-570\",\n",
      "    \"num_gpus\": 1,\n",
      "    \"log_level\": 20,\n",
      "    \"input_dir\": \"/opt/ml/input\",\n",
      "    \"hyperparameters\": {\n",
      "        \"epochs\": 10,\n",
      "        \"hidden_dim\": 200\n",
      "    },\n",
      "    \"output_intermediate_dir\": \"/opt/ml/output/intermediate\",\n",
      "    \"channel_input_dirs\": {\n",
      "        \"training\": \"/opt/ml/input/data/training\"\n",
      "    },\n",
      "    \"network_interface_name\": \"eth0\",\n",
      "    \"resource_config\": {\n",
      "        \"hosts\": [\n",
      "            \"algo-1\"\n",
      "        ],\n",
      "        \"network_interface_name\": \"eth0\",\n",
      "        \"current_host\": \"algo-1\"\n",
      "    },\n",
      "    \"input_config_dir\": \"/opt/ml/input/config\",\n",
      "    \"module_name\": \"train\",\n",
      "    \"user_entry_point\": \"train.py\",\n",
      "    \"output_data_dir\": \"/opt/ml/output/data\",\n",
      "    \"input_data_config\": {\n",
      "        \"training\": {\n",
      "            \"S3DistributionType\": \"FullyReplicated\",\n",
      "            \"RecordWrapperType\": \"None\",\n",
      "            \"TrainingInputMode\": \"File\"\n",
      "        }\n",
      "    }\u001b[0m\n",
      "\u001b[34m}\u001b[0m\n",
      "\u001b[34mEnvironment variables:\u001b[0m\n",
      "\u001b[34mSM_MODULE_DIR=s3://sagemaker-us-east-1-275586926063/sagemaker-pytorch-2022-01-13-08-53-18-570/source/sourcedir.tar.gz\u001b[0m\n",
      "\u001b[34mSM_FRAMEWORK_MODULE=sagemaker_pytorch_container.training:main\u001b[0m\n",
      "\u001b[34mSM_NETWORK_INTERFACE_NAME=eth0\u001b[0m\n",
      "\u001b[34mSM_INPUT_DIR=/opt/ml/input\u001b[0m\n",
      "\u001b[34mSM_CHANNEL_TRAINING=/opt/ml/input/data/training\u001b[0m\n",
      "\u001b[34mSM_TRAINING_ENV={\"additional_framework_parameters\":{},\"channel_input_dirs\":{\"training\":\"/opt/ml/input/data/training\"},\"current_host\":\"algo-1\",\"framework_module\":\"sagemaker_pytorch_container.training:main\",\"hosts\":[\"algo-1\"],\"hyperparameters\":{\"epochs\":10,\"hidden_dim\":200},\"input_config_dir\":\"/opt/ml/input/config\",\"input_data_config\":{\"training\":{\"RecordWrapperType\":\"None\",\"S3DistributionType\":\"FullyReplicated\",\"TrainingInputMode\":\"File\"}},\"input_dir\":\"/opt/ml/input\",\"job_name\":\"sagemaker-pytorch-2022-01-13-08-53-18-570\",\"log_level\":20,\"model_dir\":\"/opt/ml/model\",\"module_dir\":\"s3://sagemaker-us-east-1-275586926063/sagemaker-pytorch-2022-01-13-08-53-18-570/source/sourcedir.tar.gz\",\"module_name\":\"train\",\"network_interface_name\":\"eth0\",\"num_cpus\":4,\"num_gpus\":1,\"output_data_dir\":\"/opt/ml/output/data\",\"output_dir\":\"/opt/ml/output\",\"output_intermediate_dir\":\"/opt/ml/output/intermediate\",\"resource_config\":{\"current_host\":\"algo-1\",\"hosts\":[\"algo-1\"],\"network_interface_name\":\"eth0\"},\"user_entry_point\":\"train.py\"}\u001b[0m\n",
      "\u001b[34mSM_NUM_CPUS=4\u001b[0m\n",
      "\u001b[34mSM_OUTPUT_INTERMEDIATE_DIR=/opt/ml/output/intermediate\u001b[0m\n",
      "\u001b[34mSM_HOSTS=[\"algo-1\"]\u001b[0m\n",
      "\u001b[34mSM_MODEL_DIR=/opt/ml/model\u001b[0m\n",
      "\u001b[34mSM_INPUT_CONFIG_DIR=/opt/ml/input/config\u001b[0m\n",
      "\u001b[34mSM_NUM_GPUS=1\u001b[0m\n",
      "\u001b[34mSM_USER_ARGS=[\"--epochs\",\"10\",\"--hidden_dim\",\"200\"]\u001b[0m\n",
      "\u001b[34mSM_MODULE_NAME=train\u001b[0m\n",
      "\u001b[34mSM_OUTPUT_DIR=/opt/ml/output\u001b[0m\n",
      "\u001b[34mSM_INPUT_DATA_CONFIG={\"training\":{\"RecordWrapperType\":\"None\",\"S3DistributionType\":\"FullyReplicated\",\"TrainingInputMode\":\"File\"}}\u001b[0m\n",
      "\u001b[34mSM_FRAMEWORK_PARAMS={}\u001b[0m\n",
      "\u001b[34mSM_RESOURCE_CONFIG={\"current_host\":\"algo-1\",\"hosts\":[\"algo-1\"],\"network_interface_name\":\"eth0\"}\u001b[0m\n",
      "\u001b[34mSM_CHANNELS=[\"training\"]\u001b[0m\n",
      "\u001b[34mSM_LOG_LEVEL=20\u001b[0m\n",
      "\u001b[34mSM_HP_HIDDEN_DIM=200\u001b[0m\n",
      "\u001b[34mSM_CURRENT_HOST=algo-1\u001b[0m\n",
      "\u001b[34mSM_OUTPUT_DATA_DIR=/opt/ml/output/data\u001b[0m\n",
      "\u001b[34mSM_USER_ENTRY_POINT=train.py\u001b[0m\n",
      "\u001b[34mSM_HP_EPOCHS=10\u001b[0m\n",
      "\u001b[34mSM_HPS={\"epochs\":10,\"hidden_dim\":200}\u001b[0m\n",
      "\u001b[34mPYTHONPATH=/usr/local/bin:/usr/lib/python35.zip:/usr/lib/python3.5:/usr/lib/python3.5/plat-x86_64-linux-gnu:/usr/lib/python3.5/lib-dynload:/usr/local/lib/python3.5/dist-packages:/usr/lib/python3/dist-packages\u001b[0m\n",
      "\u001b[34mInvoking script with the following command:\u001b[0m\n",
      "\u001b[34m/usr/bin/python -m train --epochs 10 --hidden_dim 200\u001b[0m\n",
      "\u001b[34mUsing device cuda.\u001b[0m\n",
      "\u001b[34mGet train data loader.\u001b[0m\n",
      "\u001b[34mModel loaded with embedding_dim 32, hidden_dim 200, vocab_size 5000.\u001b[0m\n",
      "\u001b[34mEpoch: 1, BCELoss: 0.6722043691849222\u001b[0m\n",
      "\u001b[34mEpoch: 2, BCELoss: 0.5917400839377422\u001b[0m\n",
      "\u001b[34mEpoch: 3, BCELoss: 0.5060548113316906\u001b[0m\n",
      "\u001b[34mEpoch: 4, BCELoss: 0.44298018241415216\u001b[0m\n",
      "\u001b[34mEpoch: 5, BCELoss: 0.4445586666768911\u001b[0m\n",
      "\u001b[34mEpoch: 6, BCELoss: 0.3724632299676233\u001b[0m\n",
      "\u001b[34mEpoch: 7, BCELoss: 0.3379827251239699\u001b[0m\n",
      "\u001b[34mEpoch: 8, BCELoss: 0.3119923362926561\u001b[0m\n",
      "\u001b[34mEpoch: 9, BCELoss: 0.2956368086897597\u001b[0m\n",
      "\n",
      "2022-01-13 09:00:54 Uploading - Uploading generated training model\u001b[34mEpoch: 10, BCELoss: 0.2858918668056021\u001b[0m\n",
      "\u001b[34m2022-01-13 09:00:53,651 sagemaker-containers INFO     Reporting training SUCCESS\u001b[0m\n",
      "\n",
      "2022-01-13 09:01:11 Completed - Training job completed\n",
      "ProfilerReport-1642063998: NoIssuesFound\n",
      "Training seconds: 264\n",
      "Billable seconds: 264\n"
     ]
    }
   ],
   "source": [
    "estimator.fit({'training': input_data})"
   ]
  },
  {
   "cell_type": "markdown",
   "metadata": {},
   "source": [
    "## Step 5: Testing the model\n",
    "\n",
    "As mentioned at the top of this notebook, we will be testing this model by first deploying it and then sending the testing data to the deployed endpoint. We will do this so that we can make sure that the deployed model is working correctly.\n",
    "\n",
    "## Step 6: Deploy the model for testing\n",
    "\n",
    "Now that we have trained our model, we would like to test it to see how it performs. Currently our model takes input of the form `review_length, review[500]` where `review[500]` is a sequence of `500` integers which describe the words present in the review, encoded using `word_dict`. Fortunately for us, SageMaker provides built-in inference code for models with simple inputs such as this.\n",
    "\n",
    "There is one thing that we need to provide, however, and that is a function which loads the saved model. This function must be called `model_fn()` and takes as its only parameter a path to the directory where the model artifacts are stored. This function must also be present in the python file which we specified as the entry point. In our case the model loading function has been provided and so no changes need to be made.\n",
    "\n",
    "**NOTE**: When the built-in inference code is run it must import the `model_fn()` method from the `train.py` file. This is why the training code is wrapped in a main guard ( ie, `if __name__ == '__main__':` )\n",
    "\n",
    "Since we don't need to change anything in the code that was uploaded during training, we can simply deploy the current model as-is.\n",
    "\n",
    "**NOTE:** When deploying a model you are asking SageMaker to launch an compute instance that will wait for data to be sent to it. As a result, this compute instance will continue to run until *you* shut it down. This is important to know since the cost of a deployed endpoint depends on how long it has been running for.\n",
    "\n",
    "In other words **If you are no longer using a deployed endpoint, shut it down!**\n",
    "\n",
    "**TODO:** Deploy the trained model."
   ]
  },
  {
   "cell_type": "code",
   "execution_count": 28,
   "metadata": {},
   "outputs": [
    {
     "name": "stdout",
     "output_type": "stream",
     "text": [
      "---------!"
     ]
    }
   ],
   "source": [
    "# TODO: Deploy the trained model\n",
    "predictor=estimator.deploy(initial_instance_count=1,instance_type='ml.m4.xlarge')"
   ]
  },
  {
   "cell_type": "markdown",
   "metadata": {},
   "source": [
    "## Step 7 - Use the model for testing\n",
    "\n",
    "Once deployed, we can read in the test data and send it off to our deployed model to get some results. Once we collect all of the results we can determine how accurate our model is."
   ]
  },
  {
   "cell_type": "code",
   "execution_count": 29,
   "metadata": {},
   "outputs": [],
   "source": [
    "test_X = pd.concat([pd.DataFrame(test_X_len), pd.DataFrame(test_X)], axis=1)"
   ]
  },
  {
   "cell_type": "code",
   "execution_count": 30,
   "metadata": {},
   "outputs": [],
   "source": [
    "# We split the data into chunks and send each chunk seperately, accumulating the results.\n",
    "\n",
    "def predict(data, rows=512):\n",
    "    split_array = np.array_split(data, int(data.shape[0] / float(rows) + 1))\n",
    "    predictions = np.array([])\n",
    "    for array in split_array:\n",
    "        predictions = np.append(predictions, predictor.predict(array))\n",
    "    \n",
    "    return predictions"
   ]
  },
  {
   "cell_type": "code",
   "execution_count": 31,
   "metadata": {},
   "outputs": [],
   "source": [
    "predictions = predict(test_X.values)\n",
    "predictions = [round(num) for num in predictions]"
   ]
  },
  {
   "cell_type": "code",
   "execution_count": 32,
   "metadata": {},
   "outputs": [
    {
     "data": {
      "text/plain": [
       "0.84492"
      ]
     },
     "execution_count": 32,
     "metadata": {},
     "output_type": "execute_result"
    }
   ],
   "source": [
    "from sklearn.metrics import accuracy_score\n",
    "accuracy_score(test_y, predictions)"
   ]
  },
  {
   "cell_type": "markdown",
   "metadata": {},
   "source": [
    "**Question:** How does this model compare to the XGBoost model you created earlier? Why might these two models perform differently on this dataset? Which do *you* think is better for sentiment analysis?"
   ]
  },
  {
   "cell_type": "markdown",
   "metadata": {},
   "source": [
    "**Answer:**"
   ]
  },
  {
   "cell_type": "markdown",
   "metadata": {},
   "source": [
    "### (TODO) More testing\n",
    "\n",
    "We now have a trained model which has been deployed and which we can send processed reviews to and which returns the predicted sentiment. However, ultimately we would like to be able to send our model an unprocessed review. That is, we would like to send the review itself as a string. For example, suppose we wish to send the following review to our model."
   ]
  },
  {
   "cell_type": "code",
   "execution_count": 33,
   "metadata": {},
   "outputs": [],
   "source": [
    "test_review = 'The simplest pleasures in life are the best, and this film is one of them. Combining a rather basic storyline of love and adventure this movie transcends the usual weekend fair with wit and unmitigated charm.'"
   ]
  },
  {
   "cell_type": "markdown",
   "metadata": {},
   "source": [
    "The question we now need to answer is, how do we send this review to our model?\n",
    "\n",
    "Recall in the first section of this notebook we did a bunch of data processing to the IMDb dataset. In particular, we did two specific things to the provided reviews.\n",
    " - Removed any html tags and stemmed the input\n",
    " - Encoded the review as a sequence of integers using `word_dict`\n",
    " \n",
    "In order process the review we will need to repeat these two steps.\n",
    "\n",
    "**TODO**: Using the `review_to_words` and `convert_and_pad` methods from section one, convert `test_review` into a numpy array `test_data` suitable to send to our model. Remember that our model expects input of the form `review_length, review[500]`. So make sure you produce two variables from processing: \n",
    "- A sequence of length 500 which represents the converted review\n",
    "- The length of the review"
   ]
  },
  {
   "cell_type": "code",
   "execution_count": 34,
   "metadata": {},
   "outputs": [],
   "source": [
    "# TODO: Convert test_review into a form usable by the model and save the results in test_data\n",
    "import boto3\n",
    "test_words= review_to_words(test_review)\n",
    "encodening,length=convert_and_pad(word_dict,test_words)\n",
    "\n",
    "test_data = np.hstack((length, encodening))\n",
    "test_data = test_data.reshape(1, -1)\n",
    "test_data = torch.from_numpy(test_data)\n"
   ]
  },
  {
   "cell_type": "markdown",
   "metadata": {},
   "source": [
    "Now that we have processed the review, we can send the resulting array to our model to predict the sentiment of the review."
   ]
  },
  {
   "cell_type": "code",
   "execution_count": 35,
   "metadata": {},
   "outputs": [
    {
     "data": {
      "text/plain": [
       "array(0.9216498, dtype=float32)"
      ]
     },
     "execution_count": 35,
     "metadata": {},
     "output_type": "execute_result"
    }
   ],
   "source": [
    "predictor.predict(test_data)"
   ]
  },
  {
   "cell_type": "markdown",
   "metadata": {},
   "source": [
    "Since the return value of our model is close to `1`, we can be certain that the review we submitted is positive."
   ]
  },
  {
   "cell_type": "markdown",
   "metadata": {},
   "source": [
    "### Delete the endpoint\n",
    "\n",
    "Of course, just like in the XGBoost notebook, once we've deployed an endpoint it continues to run until we tell it to shut down. Since we are done using our endpoint for now, we can delete it."
   ]
  },
  {
   "cell_type": "code",
   "execution_count": 36,
   "metadata": {},
   "outputs": [
    {
     "name": "stderr",
     "output_type": "stream",
     "text": [
      "The function delete_endpoint is a no-op in sagemaker>=2.\n",
      "See: https://sagemaker.readthedocs.io/en/stable/v2.html for details.\n"
     ]
    }
   ],
   "source": [
    "estimator.delete_endpoint()"
   ]
  },
  {
   "cell_type": "markdown",
   "metadata": {},
   "source": [
    "## Step 6 (again) - Deploy the model for the web app\n",
    "\n",
    "Now that we know that our model is working, it's time to create some custom inference code so that we can send the model a review which has not been processed and have it determine the sentiment of the review.\n",
    "\n",
    "As we saw above, by default the estimator which we created, when deployed, will use the entry script and directory which we provided when creating the model. However, since we now wish to accept a string as input and our model expects a processed review, we need to write some custom inference code.\n",
    "\n",
    "We will store the code that we write in the `serve` directory. Provided in this directory is the `model.py` file that we used to construct our model, a `utils.py` file which contains the `review_to_words` and `convert_and_pad` pre-processing functions which we used during the initial data processing, and `predict.py`, the file which will contain our custom inference code. Note also that `requirements.txt` is present which will tell SageMaker what Python libraries are required by our custom inference code.\n",
    "\n",
    "When deploying a PyTorch model in SageMaker, you are expected to provide four functions which the SageMaker inference container will use.\n",
    " - `model_fn`: This function is the same function that we used in the training script and it tells SageMaker how to load our model.\n",
    " - `input_fn`: This function receives the raw serialized input that has been sent to the model's endpoint and its job is to de-serialize and make the input available for the inference code.\n",
    " - `output_fn`: This function takes the output of the inference code and its job is to serialize this output and return it to the caller of the model's endpoint.\n",
    " - `predict_fn`: The heart of the inference script, this is where the actual prediction is done and is the function which you will need to complete.\n",
    "\n",
    "For the simple website that we are constructing during this project, the `input_fn` and `output_fn` methods are relatively straightforward. We only require being able to accept a string as input and we expect to return a single value as output. You might imagine though that in a more complex application the input or output may be image data or some other binary data which would require some effort to serialize.\n",
    "\n",
    "### (TODO) Writing inference code\n",
    "\n",
    "Before writing our custom inference code, we will begin by taking a look at the code which has been provided."
   ]
  },
  {
   "cell_type": "code",
   "execution_count": 37,
   "metadata": {},
   "outputs": [
    {
     "name": "stdout",
     "output_type": "stream",
     "text": [
      "\u001b[34mimport\u001b[39;49;00m \u001b[04m\u001b[36margparse\u001b[39;49;00m\n",
      "\u001b[34mimport\u001b[39;49;00m \u001b[04m\u001b[36mjson\u001b[39;49;00m\n",
      "\u001b[34mimport\u001b[39;49;00m \u001b[04m\u001b[36mos\u001b[39;49;00m\n",
      "\u001b[34mimport\u001b[39;49;00m \u001b[04m\u001b[36mpickle\u001b[39;49;00m\n",
      "\u001b[34mimport\u001b[39;49;00m \u001b[04m\u001b[36msys\u001b[39;49;00m\n",
      "\u001b[34mimport\u001b[39;49;00m \u001b[04m\u001b[36msagemaker_containers\u001b[39;49;00m\n",
      "\u001b[34mimport\u001b[39;49;00m \u001b[04m\u001b[36mpandas\u001b[39;49;00m \u001b[34mas\u001b[39;49;00m \u001b[04m\u001b[36mpd\u001b[39;49;00m\n",
      "\u001b[34mimport\u001b[39;49;00m \u001b[04m\u001b[36mnumpy\u001b[39;49;00m \u001b[34mas\u001b[39;49;00m \u001b[04m\u001b[36mnp\u001b[39;49;00m\n",
      "\u001b[34mimport\u001b[39;49;00m \u001b[04m\u001b[36mtorch\u001b[39;49;00m\n",
      "\u001b[34mimport\u001b[39;49;00m \u001b[04m\u001b[36mtorch\u001b[39;49;00m\u001b[04m\u001b[36m.\u001b[39;49;00m\u001b[04m\u001b[36mnn\u001b[39;49;00m \u001b[34mas\u001b[39;49;00m \u001b[04m\u001b[36mnn\u001b[39;49;00m\n",
      "\u001b[34mimport\u001b[39;49;00m \u001b[04m\u001b[36mtorch\u001b[39;49;00m\u001b[04m\u001b[36m.\u001b[39;49;00m\u001b[04m\u001b[36moptim\u001b[39;49;00m \u001b[34mas\u001b[39;49;00m \u001b[04m\u001b[36moptim\u001b[39;49;00m\n",
      "\u001b[34mimport\u001b[39;49;00m \u001b[04m\u001b[36mtorch\u001b[39;49;00m\u001b[04m\u001b[36m.\u001b[39;49;00m\u001b[04m\u001b[36mutils\u001b[39;49;00m\u001b[04m\u001b[36m.\u001b[39;49;00m\u001b[04m\u001b[36mdata\u001b[39;49;00m\n",
      "\n",
      "\u001b[34mfrom\u001b[39;49;00m \u001b[04m\u001b[36mmodel\u001b[39;49;00m \u001b[34mimport\u001b[39;49;00m LSTMClassifier\n",
      "\n",
      "\u001b[34mfrom\u001b[39;49;00m \u001b[04m\u001b[36mutils\u001b[39;49;00m \u001b[34mimport\u001b[39;49;00m review_to_words, convert_and_pad\n",
      "\n",
      "\u001b[34mdef\u001b[39;49;00m \u001b[32mmodel_fn\u001b[39;49;00m(model_dir):\n",
      "    \u001b[33m\"\"\"Load the PyTorch model from the `model_dir` directory.\"\"\"\u001b[39;49;00m\n",
      "    \u001b[36mprint\u001b[39;49;00m(\u001b[33m\"\u001b[39;49;00m\u001b[33mLoading model.\u001b[39;49;00m\u001b[33m\"\u001b[39;49;00m)\n",
      "\n",
      "    \u001b[37m# First, load the parameters used to create the model.\u001b[39;49;00m\n",
      "    model_info = {}\n",
      "    model_info_path = os.path.join(model_dir, \u001b[33m'\u001b[39;49;00m\u001b[33mmodel_info.pth\u001b[39;49;00m\u001b[33m'\u001b[39;49;00m)\n",
      "    \u001b[34mwith\u001b[39;49;00m \u001b[36mopen\u001b[39;49;00m(model_info_path, \u001b[33m'\u001b[39;49;00m\u001b[33mrb\u001b[39;49;00m\u001b[33m'\u001b[39;49;00m) \u001b[34mas\u001b[39;49;00m f:\n",
      "        model_info = torch.load(f)\n",
      "\n",
      "    \u001b[36mprint\u001b[39;49;00m(\u001b[33m\"\u001b[39;49;00m\u001b[33mmodel_info: \u001b[39;49;00m\u001b[33m{}\u001b[39;49;00m\u001b[33m\"\u001b[39;49;00m.format(model_info))\n",
      "\n",
      "    \u001b[37m# Determine the device and construct the model.\u001b[39;49;00m\n",
      "    device = torch.device(\u001b[33m\"\u001b[39;49;00m\u001b[33mcuda\u001b[39;49;00m\u001b[33m\"\u001b[39;49;00m \u001b[34mif\u001b[39;49;00m torch.cuda.is_available() \u001b[34melse\u001b[39;49;00m \u001b[33m\"\u001b[39;49;00m\u001b[33mcpu\u001b[39;49;00m\u001b[33m\"\u001b[39;49;00m)\n",
      "    model = LSTMClassifier(model_info[\u001b[33m'\u001b[39;49;00m\u001b[33membedding_dim\u001b[39;49;00m\u001b[33m'\u001b[39;49;00m], model_info[\u001b[33m'\u001b[39;49;00m\u001b[33mhidden_dim\u001b[39;49;00m\u001b[33m'\u001b[39;49;00m], model_info[\u001b[33m'\u001b[39;49;00m\u001b[33mvocab_size\u001b[39;49;00m\u001b[33m'\u001b[39;49;00m])\n",
      "\n",
      "    \u001b[37m# Load the store model parameters.\u001b[39;49;00m\n",
      "    model_path = os.path.join(model_dir, \u001b[33m'\u001b[39;49;00m\u001b[33mmodel.pth\u001b[39;49;00m\u001b[33m'\u001b[39;49;00m)\n",
      "    \u001b[34mwith\u001b[39;49;00m \u001b[36mopen\u001b[39;49;00m(model_path, \u001b[33m'\u001b[39;49;00m\u001b[33mrb\u001b[39;49;00m\u001b[33m'\u001b[39;49;00m) \u001b[34mas\u001b[39;49;00m f:\n",
      "        model.load_state_dict(torch.load(f))\n",
      "\n",
      "    \u001b[37m# Load the saved word_dict.\u001b[39;49;00m\n",
      "    word_dict_path = os.path.join(model_dir, \u001b[33m'\u001b[39;49;00m\u001b[33mword_dict.pkl\u001b[39;49;00m\u001b[33m'\u001b[39;49;00m)\n",
      "    \u001b[34mwith\u001b[39;49;00m \u001b[36mopen\u001b[39;49;00m(word_dict_path, \u001b[33m'\u001b[39;49;00m\u001b[33mrb\u001b[39;49;00m\u001b[33m'\u001b[39;49;00m) \u001b[34mas\u001b[39;49;00m f:\n",
      "        model.word_dict = pickle.load(f)\n",
      "\n",
      "    model.to(device).eval()\n",
      "\n",
      "    \u001b[36mprint\u001b[39;49;00m(\u001b[33m\"\u001b[39;49;00m\u001b[33mDone loading model.\u001b[39;49;00m\u001b[33m\"\u001b[39;49;00m)\n",
      "    \u001b[34mreturn\u001b[39;49;00m model\n",
      "\n",
      "\u001b[34mdef\u001b[39;49;00m \u001b[32minput_fn\u001b[39;49;00m(serialized_input_data, content_type):\n",
      "    \u001b[36mprint\u001b[39;49;00m(\u001b[33m'\u001b[39;49;00m\u001b[33mDeserializing the input data.\u001b[39;49;00m\u001b[33m'\u001b[39;49;00m)\n",
      "    \u001b[34mif\u001b[39;49;00m content_type == \u001b[33m'\u001b[39;49;00m\u001b[33mtext/plain\u001b[39;49;00m\u001b[33m'\u001b[39;49;00m:\n",
      "        data = serialized_input_data.decode(\u001b[33m'\u001b[39;49;00m\u001b[33mutf-8\u001b[39;49;00m\u001b[33m'\u001b[39;49;00m)\n",
      "        \u001b[34mreturn\u001b[39;49;00m data\n",
      "    \u001b[34mraise\u001b[39;49;00m \u001b[36mException\u001b[39;49;00m(\u001b[33m'\u001b[39;49;00m\u001b[33mRequested unsupported ContentType in content_type: \u001b[39;49;00m\u001b[33m'\u001b[39;49;00m + content_type)\n",
      "\n",
      "\u001b[34mdef\u001b[39;49;00m \u001b[32moutput_fn\u001b[39;49;00m(prediction_output, accept):\n",
      "    \u001b[36mprint\u001b[39;49;00m(\u001b[33m'\u001b[39;49;00m\u001b[33mSerializing the generated output.\u001b[39;49;00m\u001b[33m'\u001b[39;49;00m)\n",
      "    \u001b[34mreturn\u001b[39;49;00m \u001b[36mstr\u001b[39;49;00m(prediction_output)\n",
      "\n",
      "\u001b[34mdef\u001b[39;49;00m \u001b[32mpredict_fn\u001b[39;49;00m(input_data, model):\n",
      "    \u001b[36mprint\u001b[39;49;00m(\u001b[33m'\u001b[39;49;00m\u001b[33mInferring sentiment of input data.\u001b[39;49;00m\u001b[33m'\u001b[39;49;00m)\n",
      "\n",
      "    device = torch.device(\u001b[33m\"\u001b[39;49;00m\u001b[33mcuda\u001b[39;49;00m\u001b[33m\"\u001b[39;49;00m \u001b[34mif\u001b[39;49;00m torch.cuda.is_available() \u001b[34melse\u001b[39;49;00m \u001b[33m\"\u001b[39;49;00m\u001b[33mcpu\u001b[39;49;00m\u001b[33m\"\u001b[39;49;00m)\n",
      "    \n",
      "    \u001b[34mif\u001b[39;49;00m model.word_dict \u001b[35mis\u001b[39;49;00m \u001b[34mNone\u001b[39;49;00m:\n",
      "        \u001b[34mraise\u001b[39;49;00m \u001b[36mException\u001b[39;49;00m(\u001b[33m'\u001b[39;49;00m\u001b[33mModel has not been loaded properly, no word_dict.\u001b[39;49;00m\u001b[33m'\u001b[39;49;00m)\n",
      "    \n",
      "    \u001b[37m# TODO: Process input_data so that it is ready to be sent to our model.\u001b[39;49;00m\n",
      "    \u001b[37m#       You should produce two variables:\u001b[39;49;00m\n",
      "    \u001b[37m#         data_X   - A sequence of length 500 which represents the converted review\u001b[39;49;00m\n",
      "    \u001b[37m#         data_len - The length of the review\u001b[39;49;00m\n",
      "    \n",
      "    data_X = review_to_words(input_data)\n",
      "    data_X = \u001b[33m'\u001b[39;49;00m\u001b[33m \u001b[39;49;00m\u001b[33m'\u001b[39;49;00m.join(\u001b[36mstr\u001b[39;49;00m(w) \u001b[34mfor\u001b[39;49;00m w \u001b[35min\u001b[39;49;00m data_X) \n",
      "    data_X,data_len = convert_and_pad(model.word_dict,data_X)\n",
      "    \n",
      "    \u001b[37m# Using data_X and data_len we construct an appropriate input tensor. Remember\u001b[39;49;00m\n",
      "    \u001b[37m# that our model expects input data of the form 'len, review[500]'.\u001b[39;49;00m\n",
      "    data_pack = np.hstack((data_len, data_X)).encode(\u001b[33m'\u001b[39;49;00m\u001b[33mutf-8\u001b[39;49;00m\u001b[33m'\u001b[39;49;00m)\n",
      "    data_pack = data_pack.reshape(\u001b[34m1\u001b[39;49;00m, -\u001b[34m1\u001b[39;49;00m)\n",
      "    data = torch.from_numpy(data_pack)\n",
      "    data=data.to(device)\n",
      "    \n",
      "    \u001b[37m# Make sure to put the model into evaluation mode\u001b[39;49;00m\n",
      "    model.eval()\n",
      "\n",
      "    \u001b[37m# TODO: Compute the result of applying the model to the input data. The variable `result` should\u001b[39;49;00m\n",
      "    \u001b[37m#       be a numpy array which contains a single integer which is either 1 or 0\u001b[39;49;00m\n",
      "\n",
      "    result = model(data)\n",
      "\n",
      "    \u001b[34mreturn\u001b[39;49;00m result\n"
     ]
    }
   ],
   "source": [
    "!pygmentize serve/predict.py"
   ]
  },
  {
   "cell_type": "markdown",
   "metadata": {},
   "source": [
    "As mentioned earlier, the `model_fn` method is the same as the one provided in the training code and the `input_fn` and `output_fn` methods are very simple and your task will be to complete the `predict_fn` method. \n",
    "\n",
    "**Note**: Our model expects input data of the form 'len, review[500]'. So make sure you produce two variables from processing: \n",
    "- `data_X`:  A sequence of length 500 which represents the converted review\n",
    "- `data_len`: - The length of the review\n",
    "\n",
    "Make sure that you save the completed file as `predict.py` in the `serve` directory.\n",
    "\n",
    "**TODO**: Complete the `predict_fn()` method in the `serve/predict.py` file."
   ]
  },
  {
   "cell_type": "markdown",
   "metadata": {},
   "source": [
    "### Deploying the model\n",
    "\n",
    "Now that the custom inference code has been written, we will create and deploy our model. To begin with, we need to construct a new PyTorchModel object which points to the model artifacts created during training and also points to the inference code that we wish to use. Then we can call the deploy method to launch the deployment container.\n",
    "\n",
    "**NOTE**: The default behaviour for a deployed PyTorch model is to assume that any input passed to the predictor is a `numpy` array. In our case we want to send a string so we need to construct a simple wrapper around the `RealTimePredictor` class to accomodate simple strings. In a more complicated situation you may want to provide a serialization object, for example if you wanted to sent image data."
   ]
  },
  {
   "cell_type": "code",
   "execution_count": 41,
   "metadata": {},
   "outputs": [
    {
     "name": "stdout",
     "output_type": "stream",
     "text": [
      "----------!"
     ]
    },
    {
     "name": "stderr",
     "output_type": "stream",
     "text": [
      "The class RealTimePredictor has been renamed in sagemaker>=2.\n",
      "See: https://sagemaker.readthedocs.io/en/stable/v2.html for details.\n",
      "content_type is a no-op in sagemaker>=2.\n",
      "See: https://sagemaker.readthedocs.io/en/stable/v2.html for details.\n"
     ]
    }
   ],
   "source": [
    "from sagemaker.predictor import RealTimePredictor\n",
    "from sagemaker.pytorch import PyTorchModel\n",
    "\n",
    "class StringPredictor(RealTimePredictor):\n",
    "    def __init__(self, endpoint_name, sagemaker_session):\n",
    "        super(StringPredictor, self).__init__(endpoint_name, sagemaker_session, content_type='text/plain')\n",
    "\n",
    "model = PyTorchModel(model_data=estimator.model_data,\n",
    "                     role = role,\n",
    "                     framework_version='0.4.0',\n",
    "                     py_version=\"py3\",\n",
    "                     entry_point='predict.py',\n",
    "                     source_dir='serve',\n",
    "                     predictor_cls=StringPredictor)\n",
    "predictor = model.deploy(initial_instance_count=1, instance_type='ml.m4.xlarge')"
   ]
  },
  {
   "cell_type": "markdown",
   "metadata": {},
   "source": [
    "### Testing the model\n",
    "\n",
    "Now that we have deployed our model with the custom inference code, we should test to see if everything is working. Here we test our model by loading the first `250` positive and negative reviews and send them to the endpoint, then collect the results. The reason for only sending some of the data is that the amount of time it takes for our model to process the input and then perform inference is quite long and so testing the entire data set would be prohibitive."
   ]
  },
  {
   "cell_type": "code",
   "execution_count": 42,
   "metadata": {},
   "outputs": [],
   "source": [
    "import glob\n",
    "\n",
    "def test_reviews(data_dir='../data/aclImdb', stop=250):\n",
    "    \n",
    "    results = []\n",
    "    ground = []\n",
    "    \n",
    "    # We make sure to test both positive and negative reviews    \n",
    "    for sentiment in ['pos', 'neg']:\n",
    "        \n",
    "        path = os.path.join(data_dir, 'test', sentiment, '*.txt')\n",
    "        files = glob.glob(path)\n",
    "        \n",
    "        files_read = 0\n",
    "        \n",
    "        print('Starting ', sentiment, ' files')\n",
    "        \n",
    "        # Iterate through the files and send them to the predictor\n",
    "        for f in files:\n",
    "            with open(f) as review:\n",
    "                # First, we store the ground truth (was the review positive or negative)\n",
    "                if sentiment == 'pos':\n",
    "                    ground.append(1)\n",
    "                else:\n",
    "                    ground.append(0)\n",
    "                # Read in the review and convert to 'utf-8' for transmission via HTTP\n",
    "               \n",
    "                review_input = review.read().encode('utf-8')\n",
    "                # Send the review to the predictor and store the results\n",
    "                results.append(float(predictor.predict(review_input)))\n",
    "                \n",
    "            # Sending reviews to our endpoint one at a time takes a while so we\n",
    "            # only send a small number of reviews\n",
    "            files_read += 1\n",
    "            if files_read == stop:\n",
    "                break\n",
    "            \n",
    "    return ground, results"
   ]
  },
  {
   "cell_type": "code",
   "execution_count": 48,
   "metadata": {},
   "outputs": [
    {
     "name": "stdout",
     "output_type": "stream",
     "text": [
      "Starting  pos  files\n"
     ]
    },
    {
     "ename": "ModelError",
     "evalue": "An error occurred (ModelError) when calling the InvokeEndpoint operation: Received server error (500) from primary with message \"<!DOCTYPE HTML PUBLIC \"-//W3C//DTD HTML 3.2 Final//EN\">\n<title>500 Internal Server Error</title>\n<h1>Internal Server Error</h1>\n<p>The server encountered an internal error and was unable to complete your request.  Either the server is overloaded or there is an error in the application.</p>\n\". See https://us-east-1.console.aws.amazon.com/cloudwatch/home?region=us-east-1#logEventViewer:group=/aws/sagemaker/Endpoints/sagemaker-pytorch-2022-01-13-09-32-29-819 in account 275586926063 for more information.",
     "output_type": "error",
     "traceback": [
      "\u001b[0;31m---------------------------------------------------------------------------\u001b[0m",
      "\u001b[0;31mModelError\u001b[0m                                Traceback (most recent call last)",
      "\u001b[0;32m<ipython-input-48-27d1fd4b7c7b>\u001b[0m in \u001b[0;36m<module>\u001b[0;34m\u001b[0m\n\u001b[0;32m----> 1\u001b[0;31m \u001b[0mground\u001b[0m\u001b[0;34m,\u001b[0m \u001b[0mresults\u001b[0m \u001b[0;34m=\u001b[0m \u001b[0mtest_reviews\u001b[0m\u001b[0;34m(\u001b[0m\u001b[0;34m)\u001b[0m\u001b[0;34m\u001b[0m\u001b[0;34m\u001b[0m\u001b[0m\n\u001b[0m",
      "\u001b[0;32m<ipython-input-42-2f878a9df322>\u001b[0m in \u001b[0;36mtest_reviews\u001b[0;34m(data_dir, stop)\u001b[0m\n\u001b[1;32m     28\u001b[0m                 \u001b[0mreview_input\u001b[0m \u001b[0;34m=\u001b[0m \u001b[0mreview\u001b[0m\u001b[0;34m.\u001b[0m\u001b[0mread\u001b[0m\u001b[0;34m(\u001b[0m\u001b[0;34m)\u001b[0m\u001b[0;34m.\u001b[0m\u001b[0mencode\u001b[0m\u001b[0;34m(\u001b[0m\u001b[0;34m'utf-8'\u001b[0m\u001b[0;34m)\u001b[0m\u001b[0;34m\u001b[0m\u001b[0;34m\u001b[0m\u001b[0m\n\u001b[1;32m     29\u001b[0m                 \u001b[0;31m# Send the review to the predictor and store the results\u001b[0m\u001b[0;34m\u001b[0m\u001b[0;34m\u001b[0m\u001b[0;34m\u001b[0m\u001b[0m\n\u001b[0;32m---> 30\u001b[0;31m                 \u001b[0mresults\u001b[0m\u001b[0;34m.\u001b[0m\u001b[0mappend\u001b[0m\u001b[0;34m(\u001b[0m\u001b[0mfloat\u001b[0m\u001b[0;34m(\u001b[0m\u001b[0mpredictor\u001b[0m\u001b[0;34m.\u001b[0m\u001b[0mpredict\u001b[0m\u001b[0;34m(\u001b[0m\u001b[0mreview_input\u001b[0m\u001b[0;34m)\u001b[0m\u001b[0;34m)\u001b[0m\u001b[0;34m)\u001b[0m\u001b[0;34m\u001b[0m\u001b[0;34m\u001b[0m\u001b[0m\n\u001b[0m\u001b[1;32m     31\u001b[0m \u001b[0;34m\u001b[0m\u001b[0m\n\u001b[1;32m     32\u001b[0m             \u001b[0;31m# Sending reviews to our endpoint one at a time takes a while so we\u001b[0m\u001b[0;34m\u001b[0m\u001b[0;34m\u001b[0m\u001b[0;34m\u001b[0m\u001b[0m\n",
      "\u001b[0;32m~/anaconda3/envs/pytorch_p36/lib/python3.6/site-packages/sagemaker/predictor.py\u001b[0m in \u001b[0;36mpredict\u001b[0;34m(self, data, initial_args, target_model, target_variant, inference_id)\u001b[0m\n\u001b[1;32m    159\u001b[0m             \u001b[0mdata\u001b[0m\u001b[0;34m,\u001b[0m \u001b[0minitial_args\u001b[0m\u001b[0;34m,\u001b[0m \u001b[0mtarget_model\u001b[0m\u001b[0;34m,\u001b[0m \u001b[0mtarget_variant\u001b[0m\u001b[0;34m,\u001b[0m \u001b[0minference_id\u001b[0m\u001b[0;34m\u001b[0m\u001b[0;34m\u001b[0m\u001b[0m\n\u001b[1;32m    160\u001b[0m         )\n\u001b[0;32m--> 161\u001b[0;31m         \u001b[0mresponse\u001b[0m \u001b[0;34m=\u001b[0m \u001b[0mself\u001b[0m\u001b[0;34m.\u001b[0m\u001b[0msagemaker_session\u001b[0m\u001b[0;34m.\u001b[0m\u001b[0msagemaker_runtime_client\u001b[0m\u001b[0;34m.\u001b[0m\u001b[0minvoke_endpoint\u001b[0m\u001b[0;34m(\u001b[0m\u001b[0;34m**\u001b[0m\u001b[0mrequest_args\u001b[0m\u001b[0;34m)\u001b[0m\u001b[0;34m\u001b[0m\u001b[0;34m\u001b[0m\u001b[0m\n\u001b[0m\u001b[1;32m    162\u001b[0m         \u001b[0;32mreturn\u001b[0m \u001b[0mself\u001b[0m\u001b[0;34m.\u001b[0m\u001b[0m_handle_response\u001b[0m\u001b[0;34m(\u001b[0m\u001b[0mresponse\u001b[0m\u001b[0;34m)\u001b[0m\u001b[0;34m\u001b[0m\u001b[0;34m\u001b[0m\u001b[0m\n\u001b[1;32m    163\u001b[0m \u001b[0;34m\u001b[0m\u001b[0m\n",
      "\u001b[0;32m~/anaconda3/envs/pytorch_p36/lib/python3.6/site-packages/botocore/client.py\u001b[0m in \u001b[0;36m_api_call\u001b[0;34m(self, *args, **kwargs)\u001b[0m\n\u001b[1;32m    389\u001b[0m                     \"%s() only accepts keyword arguments.\" % py_operation_name)\n\u001b[1;32m    390\u001b[0m             \u001b[0;31m# The \"self\" in this scope is referring to the BaseClient.\u001b[0m\u001b[0;34m\u001b[0m\u001b[0;34m\u001b[0m\u001b[0;34m\u001b[0m\u001b[0m\n\u001b[0;32m--> 391\u001b[0;31m             \u001b[0;32mreturn\u001b[0m \u001b[0mself\u001b[0m\u001b[0;34m.\u001b[0m\u001b[0m_make_api_call\u001b[0m\u001b[0;34m(\u001b[0m\u001b[0moperation_name\u001b[0m\u001b[0;34m,\u001b[0m \u001b[0mkwargs\u001b[0m\u001b[0;34m)\u001b[0m\u001b[0;34m\u001b[0m\u001b[0;34m\u001b[0m\u001b[0m\n\u001b[0m\u001b[1;32m    392\u001b[0m \u001b[0;34m\u001b[0m\u001b[0m\n\u001b[1;32m    393\u001b[0m         \u001b[0m_api_call\u001b[0m\u001b[0;34m.\u001b[0m\u001b[0m__name__\u001b[0m \u001b[0;34m=\u001b[0m \u001b[0mstr\u001b[0m\u001b[0;34m(\u001b[0m\u001b[0mpy_operation_name\u001b[0m\u001b[0;34m)\u001b[0m\u001b[0;34m\u001b[0m\u001b[0;34m\u001b[0m\u001b[0m\n",
      "\u001b[0;32m~/anaconda3/envs/pytorch_p36/lib/python3.6/site-packages/botocore/client.py\u001b[0m in \u001b[0;36m_make_api_call\u001b[0;34m(self, operation_name, api_params)\u001b[0m\n\u001b[1;32m    717\u001b[0m             \u001b[0merror_code\u001b[0m \u001b[0;34m=\u001b[0m \u001b[0mparsed_response\u001b[0m\u001b[0;34m.\u001b[0m\u001b[0mget\u001b[0m\u001b[0;34m(\u001b[0m\u001b[0;34m\"Error\"\u001b[0m\u001b[0;34m,\u001b[0m \u001b[0;34m{\u001b[0m\u001b[0;34m}\u001b[0m\u001b[0;34m)\u001b[0m\u001b[0;34m.\u001b[0m\u001b[0mget\u001b[0m\u001b[0;34m(\u001b[0m\u001b[0;34m\"Code\"\u001b[0m\u001b[0;34m)\u001b[0m\u001b[0;34m\u001b[0m\u001b[0;34m\u001b[0m\u001b[0m\n\u001b[1;32m    718\u001b[0m             \u001b[0merror_class\u001b[0m \u001b[0;34m=\u001b[0m \u001b[0mself\u001b[0m\u001b[0;34m.\u001b[0m\u001b[0mexceptions\u001b[0m\u001b[0;34m.\u001b[0m\u001b[0mfrom_code\u001b[0m\u001b[0;34m(\u001b[0m\u001b[0merror_code\u001b[0m\u001b[0;34m)\u001b[0m\u001b[0;34m\u001b[0m\u001b[0;34m\u001b[0m\u001b[0m\n\u001b[0;32m--> 719\u001b[0;31m             \u001b[0;32mraise\u001b[0m \u001b[0merror_class\u001b[0m\u001b[0;34m(\u001b[0m\u001b[0mparsed_response\u001b[0m\u001b[0;34m,\u001b[0m \u001b[0moperation_name\u001b[0m\u001b[0;34m)\u001b[0m\u001b[0;34m\u001b[0m\u001b[0;34m\u001b[0m\u001b[0m\n\u001b[0m\u001b[1;32m    720\u001b[0m         \u001b[0;32melse\u001b[0m\u001b[0;34m:\u001b[0m\u001b[0;34m\u001b[0m\u001b[0;34m\u001b[0m\u001b[0m\n\u001b[1;32m    721\u001b[0m             \u001b[0;32mreturn\u001b[0m \u001b[0mparsed_response\u001b[0m\u001b[0;34m\u001b[0m\u001b[0;34m\u001b[0m\u001b[0m\n",
      "\u001b[0;31mModelError\u001b[0m: An error occurred (ModelError) when calling the InvokeEndpoint operation: Received server error (500) from primary with message \"<!DOCTYPE HTML PUBLIC \"-//W3C//DTD HTML 3.2 Final//EN\">\n<title>500 Internal Server Error</title>\n<h1>Internal Server Error</h1>\n<p>The server encountered an internal error and was unable to complete your request.  Either the server is overloaded or there is an error in the application.</p>\n\". See https://us-east-1.console.aws.amazon.com/cloudwatch/home?region=us-east-1#logEventViewer:group=/aws/sagemaker/Endpoints/sagemaker-pytorch-2022-01-13-09-32-29-819 in account 275586926063 for more information."
     ]
    }
   ],
   "source": [
    "ground, results = test_reviews()"
   ]
  },
  {
   "cell_type": "code",
   "execution_count": null,
   "metadata": {},
   "outputs": [],
   "source": [
    "from sklearn.metrics import accuracy_score\n",
    "accuracy_score(ground, results)"
   ]
  },
  {
   "cell_type": "markdown",
   "metadata": {},
   "source": [
    "As an additional test, we can try sending the `test_review` that we looked at earlier."
   ]
  },
  {
   "cell_type": "code",
   "execution_count": null,
   "metadata": {},
   "outputs": [],
   "source": [
    "predictor.predict(test_review)"
   ]
  },
  {
   "cell_type": "markdown",
   "metadata": {},
   "source": [
    "Now that we know our endpoint is working as expected, we can set up the web page that will interact with it. If you don't have time to finish the project now, make sure to skip down to the end of this notebook and shut down your endpoint. You can deploy it again when you come back."
   ]
  },
  {
   "cell_type": "markdown",
   "metadata": {},
   "source": [
    "## Step 7 (again): Use the model for the web app\n",
    "\n",
    "> **TODO:** This entire section and the next contain tasks for you to complete, mostly using the AWS console.\n",
    "\n",
    "So far we have been accessing our model endpoint by constructing a predictor object which uses the endpoint and then just using the predictor object to perform inference. What if we wanted to create a web app which accessed our model? The way things are set up currently makes that not possible since in order to access a SageMaker endpoint the app would first have to authenticate with AWS using an IAM role which included access to SageMaker endpoints. However, there is an easier way! We just need to use some additional AWS services.\n",
    "\n",
    "<img src=\"Web App Diagram.svg\">\n",
    "\n",
    "The diagram above gives an overview of how the various services will work together. On the far right is the model which we trained above and which is deployed using SageMaker. On the far left is our web app that collects a user's movie review, sends it off and expects a positive or negative sentiment in return.\n",
    "\n",
    "In the middle is where some of the magic happens. We will construct a Lambda function, which you can think of as a straightforward Python function that can be executed whenever a specified event occurs. We will give this function permission to send and recieve data from a SageMaker endpoint.\n",
    "\n",
    "Lastly, the method we will use to execute the Lambda function is a new endpoint that we will create using API Gateway. This endpoint will be a url that listens for data to be sent to it. Once it gets some data it will pass that data on to the Lambda function and then return whatever the Lambda function returns. Essentially it will act as an interface that lets our web app communicate with the Lambda function.\n",
    "\n",
    "### Setting up a Lambda function\n",
    "\n",
    "The first thing we are going to do is set up a Lambda function. This Lambda function will be executed whenever our public API has data sent to it. When it is executed it will receive the data, perform any sort of processing that is required, send the data (the review) to the SageMaker endpoint we've created and then return the result.\n",
    "\n",
    "#### Part A: Create an IAM Role for the Lambda function\n",
    "\n",
    "Since we want the Lambda function to call a SageMaker endpoint, we need to make sure that it has permission to do so. To do this, we will construct a role that we can later give the Lambda function.\n",
    "\n",
    "Using the AWS Console, navigate to the **IAM** page and click on **Roles**. Then, click on **Create role**. Make sure that the **AWS service** is the type of trusted entity selected and choose **Lambda** as the service that will use this role, then click **Next: Permissions**.\n",
    "\n",
    "In the search box type `sagemaker` and select the check box next to the **AmazonSageMakerFullAccess** policy. Then, click on **Next: Review**.\n",
    "\n",
    "Lastly, give this role a name. Make sure you use a name that you will remember later on, for example `LambdaSageMakerRole`. Then, click on **Create role**.\n",
    "\n",
    "#### Part B: Create a Lambda function\n",
    "\n",
    "Now it is time to actually create the Lambda function.\n",
    "\n",
    "Using the AWS Console, navigate to the AWS Lambda page and click on **Create a function**. When you get to the next page, make sure that **Author from scratch** is selected. Now, name your Lambda function, using a name that you will remember later on, for example `sentiment_analysis_func`. Make sure that the **Python 3.6** runtime is selected and then choose the role that you created in the previous part. Then, click on **Create Function**.\n",
    "\n",
    "On the next page you will see some information about the Lambda function you've just created. If you scroll down you should see an editor in which you can write the code that will be executed when your Lambda function is triggered. In our example, we will use the code below. \n",
    "\n",
    "```python\n",
    "# We need to use the low-level library to interact with SageMaker since the SageMaker API\n",
    "# is not available natively through Lambda.\n",
    "import boto3\n",
    "\n",
    "def lambda_handler(event, context):\n",
    "\n",
    "    # The SageMaker runtime is what allows us to invoke the endpoint that we've created.\n",
    "    runtime = boto3.Session().client('sagemaker-runtime')\n",
    "\n",
    "    # Now we use the SageMaker runtime to invoke our endpoint, sending the review we were given\n",
    "    response = runtime.invoke_endpoint(EndpointName = '**ENDPOINT NAME HERE**',    # The name of the endpoint we created\n",
    "                                       ContentType = 'text/plain',                 # The data format that is expected\n",
    "                                       Body = event['body'])                       # The actual review\n",
    "\n",
    "    # The response is an HTTP response whose body contains the result of our inference\n",
    "    result = response['Body'].read().decode('utf-8')\n",
    "\n",
    "    return {\n",
    "        'statusCode' : 200,\n",
    "        'headers' : { 'Content-Type' : 'text/plain', 'Access-Control-Allow-Origin' : '*' },\n",
    "        'body' : result\n",
    "    }\n",
    "```\n",
    "\n",
    "Once you have copy and pasted the code above into the Lambda code editor, replace the `**ENDPOINT NAME HERE**` portion with the name of the endpoint that we deployed earlier. You can determine the name of the endpoint using the code cell below."
   ]
  },
  {
   "cell_type": "code",
   "execution_count": 71,
   "metadata": {},
   "outputs": [
    {
     "name": "stderr",
     "output_type": "stream",
     "text": [
      "The endpoint attribute has been renamed in sagemaker>=2.\n",
      "See: https://sagemaker.readthedocs.io/en/stable/v2.html for details.\n"
     ]
    },
    {
     "data": {
      "text/plain": [
       "'sagemaker-pytorch-2022-01-12-10-14-16-306'"
      ]
     },
     "execution_count": 71,
     "metadata": {},
     "output_type": "execute_result"
    }
   ],
   "source": [
    "predictor.endpoint"
   ]
  },
  {
   "cell_type": "markdown",
   "metadata": {},
   "source": [
    "Once you have added the endpoint name to the Lambda function, click on **Save**. Your Lambda function is now up and running. Next we need to create a way for our web app to execute the Lambda function.\n",
    "\n",
    "### Setting up API Gateway\n",
    "\n",
    "Now that our Lambda function is set up, it is time to create a new API using API Gateway that will trigger the Lambda function we have just created.\n",
    "\n",
    "Using AWS Console, navigate to **Amazon API Gateway** and then click on **Get started**.\n",
    "\n",
    "On the next page, make sure that **New API** is selected and give the new api a name, for example, `sentiment_analysis_api`. Then, click on **Create API**.\n",
    "\n",
    "Now we have created an API, however it doesn't currently do anything. What we want it to do is to trigger the Lambda function that we created earlier.\n",
    "\n",
    "Select the **Actions** dropdown menu and click **Create Method**. A new blank method will be created, select its dropdown menu and select **POST**, then click on the check mark beside it.\n",
    "\n",
    "For the integration point, make sure that **Lambda Function** is selected and click on the **Use Lambda Proxy integration**. This option makes sure that the data that is sent to the API is then sent directly to the Lambda function with no processing. It also means that the return value must be a proper response object as it will also not be processed by API Gateway.\n",
    "\n",
    "Type the name of the Lambda function you created earlier into the **Lambda Function** text entry box and then click on **Save**. Click on **OK** in the pop-up box that then appears, giving permission to API Gateway to invoke the Lambda function you created.\n",
    "\n",
    "The last step in creating the API Gateway is to select the **Actions** dropdown and click on **Deploy API**. You will need to create a new Deployment stage and name it anything you like, for example `prod`.\n",
    "\n",
    "You have now successfully set up a public API to access your SageMaker model. Make sure to copy or write down the URL provided to invoke your newly created public API as this will be needed in the next step. This URL can be found at the top of the page, highlighted in blue next to the text **Invoke URL**."
   ]
  },
  {
   "cell_type": "markdown",
   "metadata": {},
   "source": [
    "## Step 4: Deploying our web app\n",
    "\n",
    "Now that we have a publicly available API, we can start using it in a web app. For our purposes, we have provided a simple static html file which can make use of the public api you created earlier.\n",
    "\n",
    "In the `website` folder there should be a file called `index.html`. Download the file to your computer and open that file up in a text editor of your choice. There should be a line which contains **\\*\\*REPLACE WITH PUBLIC API URL\\*\\***. Replace this string with the url that you wrote down in the last step and then save the file.\n",
    "\n",
    "Now, if you open `index.html` on your local computer, your browser will behave as a local web server and you can use the provided site to interact with your SageMaker model.\n",
    "\n",
    "If you'd like to go further, you can host this html file anywhere you'd like, for example using github or hosting a static site on Amazon's S3. Once you have done this you can share the link with anyone you'd like and have them play with it too!\n",
    "\n",
    "> **Important Note** In order for the web app to communicate with the SageMaker endpoint, the endpoint has to actually be deployed and running. This means that you are paying for it. Make sure that the endpoint is running when you want to use the web app but that you shut it down when you don't need it, otherwise you will end up with a surprisingly large AWS bill.\n",
    "\n",
    "**TODO:** Make sure that you include the edited `index.html` file in your project submission."
   ]
  },
  {
   "cell_type": "markdown",
   "metadata": {},
   "source": [
    "Now that your web app is working, trying playing around with it and see how well it works.\n",
    "\n",
    "**Question**: Post a screenshot showing a sample review that you entered into your web app and the predicted sentiment. What was the predicted sentiment of your example review?"
   ]
  },
  {
   "cell_type": "markdown",
   "metadata": {},
   "source": [
    "**Screenshot:**\n",
    "\n",
    "\n",
    "\n",
    "**Answer:**"
   ]
  },
  {
   "cell_type": "markdown",
   "metadata": {},
   "source": [
    "### Delete the endpoint\n",
    "\n",
    "Remember to always shut down your endpoint if you are no longer using it. You are charged for the length of time that the endpoint is running so if you forget and leave it on you could end up with an unexpectedly large bill."
   ]
  },
  {
   "cell_type": "code",
   "execution_count": null,
   "metadata": {},
   "outputs": [],
   "source": [
    "predictor.delete_endpoint()"
   ]
  },
  {
   "cell_type": "code",
   "execution_count": null,
   "metadata": {},
   "outputs": [],
   "source": []
  }
 ],
 "metadata": {
  "kernelspec": {
   "display_name": "conda_pytorch_p36",
   "language": "python",
   "name": "conda_pytorch_p36"
  },
  "language_info": {
   "codemirror_mode": {
    "name": "ipython",
    "version": 3
   },
   "file_extension": ".py",
   "mimetype": "text/x-python",
   "name": "python",
   "nbconvert_exporter": "python",
   "pygments_lexer": "ipython3",
   "version": "3.6.13"
  }
 },
 "nbformat": 4,
 "nbformat_minor": 4
}
